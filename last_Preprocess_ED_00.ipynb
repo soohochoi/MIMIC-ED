{
 "cells": [
  {
   "cell_type": "code",
   "execution_count": 1,
   "metadata": {
    "ExecuteTime": {
     "end_time": "2024-03-04T12:44:48.465754100Z",
     "start_time": "2024-03-04T12:44:46.896240600Z"
    }
   },
   "outputs": [],
   "source": [
    "import pandas as pd\n",
    "pd.set_option('display.max_columns',None)"
   ]
  },
  {
   "cell_type": "code",
   "execution_count": 2,
   "metadata": {
    "ExecuteTime": {
     "end_time": "2024-03-04T12:44:50.152133Z",
     "start_time": "2024-03-04T12:44:48.660247Z"
    }
   },
   "outputs": [],
   "source": [
    "ed=pd.read_csv('edstays.csv')\n",
    "hos=pd.read_csv('admissions.csv')\n",
    "icu=pd.read_csv('icustays.csv')"
   ]
  },
  {
   "cell_type": "code",
   "execution_count": 3,
   "outputs": [
    {
     "data": {
      "text/plain": "WHITE                                        228123\nBLACK/AFRICAN AMERICAN                        76798\nOTHER                                         20752\nHISPANIC/LATINO - PUERTO RICAN                14036\nWHITE - OTHER EUROPEAN                         8992\nHISPANIC/LATINO - DOMINICAN                    8330\nBLACK/CAPE VERDEAN                             7638\nASIAN - CHINESE                                7348\nASIAN                                          7294\nUNKNOWN                                        7083\nWHITE - RUSSIAN                                6091\nBLACK/AFRICAN                                  4887\nBLACK/CARIBBEAN ISLAND                         3675\nHISPANIC OR LATINO                             3141\nHISPANIC/LATINO - GUATEMALAN                   2356\nASIAN - ASIAN INDIAN                           1567\nASIAN - SOUTH EAST ASIAN                       1533\nHISPANIC/LATINO - SALVADORAN                   1497\nWHITE - BRAZILIAN                              1484\nPORTUGUESE                                     1457\nWHITE - EASTERN EUROPEAN                       1312\nHISPANIC/LATINO - COLUMBIAN                    1306\nHISPANIC/LATINO - MEXICAN                      1261\nSOUTH AMERICAN                                 1063\nAMERICAN INDIAN/ALASKA NATIVE                  1037\nHISPANIC/LATINO - HONDURAN                     1005\nHISPANIC/LATINO - CUBAN                         790\nHISPANIC/LATINO - CENTRAL AMERICAN              789\nASIAN - KOREAN                                  786\nPATIENT DECLINED TO ANSWER                      624\nNATIVE HAWAIIAN OR OTHER PACIFIC ISLANDER       507\nMULTIPLE RACE/ETHNICITY                         281\nUNABLE TO OBTAIN                                244\nName: race, dtype: int64"
     },
     "execution_count": 3,
     "metadata": {},
     "output_type": "execute_result"
    }
   ],
   "source": [
    "ed['race'].value_counts()"
   ],
   "metadata": {
    "collapsed": false,
    "ExecuteTime": {
     "end_time": "2024-03-04T12:44:50.174132600Z",
     "start_time": "2024-03-04T12:44:50.152133Z"
    }
   }
  },
  {
   "cell_type": "code",
   "execution_count": 4,
   "outputs": [],
   "source": [
    "mapping = {\"WHITE\": \"White\",\"BLACK/AFRICAN AMERICAN\": \"Black\",\"OTHER\": \"Other\",\"HISPANIC/LATINO - PUERTO RICAN\": \"Other\",\"WHITE - OTHER EUROPEAN\": \"White\",\"HISPANIC/LATINO - DOMINICAN\": \"Other\",\"BLACK/CAPE VERDEAN\": \"Black\",\"ASIAN - CHINESE\": \"Other\",\"ASIAN\": \"Other\",\"UNKNOWN\": \"Other\",\"WHITE - RUSSIAN\": \"White\",\"BLACK/AFRICAN\": \"Black\",\"BLACK/CARIBBEAN ISLAND\": \"Black\",\"HISPANIC OR LATINO\": \"Other\",\"HISPANIC/LATINO - GUATEMALAN\": \"Other\",\"ASIAN - ASIAN INDIAN\": \"Other\",\"ASIAN - SOUTH EAST ASIAN\": \"Other\",\"HISPANIC/LATINO - SALVADORAN\": \"Other\",\"WHITE - BRAZILIAN\": \"White\",\"PORTUGUESE\": \"Other\",\"WHITE - EASTERN EUROPEAN\": \"White\",\"HISPANIC/LATINO - COLUMBIAN\": \"Other\",\"HISPANIC/LATINO - MEXICAN\": \"Other\",\"SOUTH AMERICAN\": \"Other\",\"AMERICAN INDIAN/ALASKA NATIVE\": \"Other\",\"HISPANIC/LATINO - HONDURAN\": \"Other\",\"HISPANIC/LATINO - CUBAN\": \"Other\",\"HISPANIC/LATINO - CENTRAL AMERICAN\": \"Other\",\"ASIAN - KOREAN\": \"Other\",\"PATIENT DECLINED TO ANSWER\": \"Other\",\"NATIVE HAWAIIAN OR OTHER PACIFIC ISLANDER\": \"Other\",\"MULTIPLE RACE/ETHNICITY\": \"Other\",\"UNABLE TO OBTAIN\": \"Other\"}"
   ],
   "metadata": {
    "collapsed": false,
    "ExecuteTime": {
     "end_time": "2024-03-04T12:44:50.183088Z",
     "start_time": "2024-03-04T12:44:50.176085400Z"
    }
   }
  },
  {
   "cell_type": "code",
   "execution_count": 5,
   "outputs": [],
   "source": [
    "ed['race'] = ed['race'].map(mapping)"
   ],
   "metadata": {
    "collapsed": false,
    "ExecuteTime": {
     "end_time": "2024-03-04T12:44:50.909174800Z",
     "start_time": "2024-03-04T12:44:50.864095800Z"
    }
   }
  },
  {
   "cell_type": "code",
   "execution_count": 6,
   "outputs": [
    {
     "data": {
      "text/plain": "White    246002\nBlack     92998\nOther     86087\nName: race, dtype: int64"
     },
     "execution_count": 6,
     "metadata": {},
     "output_type": "execute_result"
    }
   ],
   "source": [
    "#응급실에 오는 인종을 3개로 축소화 \n",
    "ed['race'].value_counts()"
   ],
   "metadata": {
    "collapsed": false,
    "ExecuteTime": {
     "end_time": "2024-03-04T12:44:51.349541200Z",
     "start_time": "2024-03-04T12:44:51.323307300Z"
    }
   }
  },
  {
   "cell_type": "code",
   "execution_count": 7,
   "outputs": [
    {
     "data": {
      "text/plain": "WALK IN       251849\nAMBULANCE     155752\nUNKNOWN        15352\nOTHER           1266\nHELICOPTER       868\nName: arrival_transport, dtype: int64"
     },
     "execution_count": 7,
     "metadata": {},
     "output_type": "execute_result"
    }
   ],
   "source": [
    "ed['arrival_transport'].value_counts()"
   ],
   "metadata": {
    "collapsed": false,
    "ExecuteTime": {
     "end_time": "2024-03-04T12:44:51.775941800Z",
     "start_time": "2024-03-04T12:44:51.755182300Z"
    }
   }
  },
  {
   "cell_type": "code",
   "execution_count": 8,
   "outputs": [],
   "source": [
    "ed['arrival_transport']=ed['arrival_transport'].replace(\"UNKNOWN\",\"OTHER\")"
   ],
   "metadata": {
    "collapsed": false,
    "ExecuteTime": {
     "end_time": "2024-03-04T12:44:52.860360200Z",
     "start_time": "2024-03-04T12:44:52.822666500Z"
    }
   }
  },
  {
   "cell_type": "code",
   "execution_count": 9,
   "outputs": [
    {
     "data": {
      "text/plain": "HOME                           241632\nADMITTED                       158010\nTRANSFER                         7025\nLEFT WITHOUT BEING SEEN          6155\nELOPED                           5710\nOTHER                            4297\nLEFT AGAINST MEDICAL ADVICE      1881\nEXPIRED                           377\nName: disposition, dtype: int64"
     },
     "execution_count": 9,
     "metadata": {},
     "output_type": "execute_result"
    }
   ],
   "source": [
    "ed['disposition'].value_counts()"
   ],
   "metadata": {
    "collapsed": false,
    "ExecuteTime": {
     "end_time": "2024-03-04T12:44:53.958432Z",
     "start_time": "2024-03-04T12:44:53.948063100Z"
    }
   }
  },
  {
   "cell_type": "code",
   "execution_count": 10,
   "outputs": [
    {
     "data": {
      "text/plain": "205135"
     },
     "execution_count": 10,
     "metadata": {},
     "output_type": "execute_result"
    }
   ],
   "source": [
    "ed_id=set(ed[(ed['hadm_id'].isna()) & (ed['disposition']== 'HOME')]['stay_id'])\n",
    "len(ed_id)"
   ],
   "metadata": {
    "collapsed": false,
    "ExecuteTime": {
     "end_time": "2024-03-04T12:44:56.351843400Z",
     "start_time": "2024-03-04T12:44:56.249573600Z"
    }
   }
  },
  {
   "cell_type": "code",
   "execution_count": 11,
   "outputs": [],
   "source": [
    "noted=ed[(~ed['stay_id'].isin(ed_id))&(ed['disposition']== 'ADMITTED')]"
   ],
   "metadata": {
    "collapsed": false,
    "ExecuteTime": {
     "end_time": "2024-03-04T12:45:06.886559600Z",
     "start_time": "2024-03-04T12:45:06.811007900Z"
    }
   }
  },
  {
   "cell_type": "code",
   "execution_count": 12,
   "outputs": [],
   "source": [
    "die_ed=ed[(~ed['stay_id'].isin(ed_id))&(ed['disposition']== 'EXPIRED')]"
   ],
   "metadata": {
    "collapsed": false,
    "ExecuteTime": {
     "end_time": "2024-03-04T12:45:07.987587100Z",
     "start_time": "2024-03-04T12:45:07.922419300Z"
    }
   }
  },
  {
   "cell_type": "code",
   "execution_count": 13,
   "outputs": [
    {
     "data": {
      "text/plain": "        subject_id  hadm_id   stay_id               intime  \\\n1450      10030487      NaN  30308539  2128-07-31 09:19:00   \n1680      10036275      NaN  34547687  2171-03-30 06:08:00   \n1692      10036836      NaN  39740841  2118-05-22 02:25:00   \n2550      10056931      NaN  33768159  2142-06-24 19:44:00   \n3243      10078115      NaN  35630864  2148-04-24 09:08:00   \n...            ...      ...       ...                  ...   \n421422    19912620      NaN  30970126  2121-10-20 18:41:00   \n421989    19922851      NaN  37942091  2197-02-02 10:47:00   \n422256    19930293      NaN  39780645  2135-07-07 00:18:00   \n424849    19993842      NaN  37776073  2148-12-08 17:23:00   \n425040    19998485      NaN  32846388  2184-05-02 19:47:00   \n\n                    outtime gender   race arrival_transport disposition  \n1450    2128-07-31 16:15:00      F  White         AMBULANCE     EXPIRED  \n1680    2171-03-30 14:05:00      M  White         AMBULANCE     EXPIRED  \n1692    2118-05-22 05:09:00      M  Other         AMBULANCE     EXPIRED  \n2550    2142-06-25 02:19:00      F  White         AMBULANCE     EXPIRED  \n3243    2148-04-24 17:44:00      M  Other         AMBULANCE     EXPIRED  \n...                     ...    ...    ...               ...         ...  \n421422  2121-10-20 23:50:00      F  Black         AMBULANCE     EXPIRED  \n421989  2197-02-02 15:53:00      F  Black         AMBULANCE     EXPIRED  \n422256  2135-07-07 03:32:00      M  White         AMBULANCE     EXPIRED  \n424849  2148-12-08 22:11:00      M  Other             OTHER     EXPIRED  \n425040  2184-05-03 00:22:00      F  White         AMBULANCE     EXPIRED  \n\n[377 rows x 9 columns]",
      "text/html": "<div>\n<style scoped>\n    .dataframe tbody tr th:only-of-type {\n        vertical-align: middle;\n    }\n\n    .dataframe tbody tr th {\n        vertical-align: top;\n    }\n\n    .dataframe thead th {\n        text-align: right;\n    }\n</style>\n<table border=\"1\" class=\"dataframe\">\n  <thead>\n    <tr style=\"text-align: right;\">\n      <th></th>\n      <th>subject_id</th>\n      <th>hadm_id</th>\n      <th>stay_id</th>\n      <th>intime</th>\n      <th>outtime</th>\n      <th>gender</th>\n      <th>race</th>\n      <th>arrival_transport</th>\n      <th>disposition</th>\n    </tr>\n  </thead>\n  <tbody>\n    <tr>\n      <th>1450</th>\n      <td>10030487</td>\n      <td>NaN</td>\n      <td>30308539</td>\n      <td>2128-07-31 09:19:00</td>\n      <td>2128-07-31 16:15:00</td>\n      <td>F</td>\n      <td>White</td>\n      <td>AMBULANCE</td>\n      <td>EXPIRED</td>\n    </tr>\n    <tr>\n      <th>1680</th>\n      <td>10036275</td>\n      <td>NaN</td>\n      <td>34547687</td>\n      <td>2171-03-30 06:08:00</td>\n      <td>2171-03-30 14:05:00</td>\n      <td>M</td>\n      <td>White</td>\n      <td>AMBULANCE</td>\n      <td>EXPIRED</td>\n    </tr>\n    <tr>\n      <th>1692</th>\n      <td>10036836</td>\n      <td>NaN</td>\n      <td>39740841</td>\n      <td>2118-05-22 02:25:00</td>\n      <td>2118-05-22 05:09:00</td>\n      <td>M</td>\n      <td>Other</td>\n      <td>AMBULANCE</td>\n      <td>EXPIRED</td>\n    </tr>\n    <tr>\n      <th>2550</th>\n      <td>10056931</td>\n      <td>NaN</td>\n      <td>33768159</td>\n      <td>2142-06-24 19:44:00</td>\n      <td>2142-06-25 02:19:00</td>\n      <td>F</td>\n      <td>White</td>\n      <td>AMBULANCE</td>\n      <td>EXPIRED</td>\n    </tr>\n    <tr>\n      <th>3243</th>\n      <td>10078115</td>\n      <td>NaN</td>\n      <td>35630864</td>\n      <td>2148-04-24 09:08:00</td>\n      <td>2148-04-24 17:44:00</td>\n      <td>M</td>\n      <td>Other</td>\n      <td>AMBULANCE</td>\n      <td>EXPIRED</td>\n    </tr>\n    <tr>\n      <th>...</th>\n      <td>...</td>\n      <td>...</td>\n      <td>...</td>\n      <td>...</td>\n      <td>...</td>\n      <td>...</td>\n      <td>...</td>\n      <td>...</td>\n      <td>...</td>\n    </tr>\n    <tr>\n      <th>421422</th>\n      <td>19912620</td>\n      <td>NaN</td>\n      <td>30970126</td>\n      <td>2121-10-20 18:41:00</td>\n      <td>2121-10-20 23:50:00</td>\n      <td>F</td>\n      <td>Black</td>\n      <td>AMBULANCE</td>\n      <td>EXPIRED</td>\n    </tr>\n    <tr>\n      <th>421989</th>\n      <td>19922851</td>\n      <td>NaN</td>\n      <td>37942091</td>\n      <td>2197-02-02 10:47:00</td>\n      <td>2197-02-02 15:53:00</td>\n      <td>F</td>\n      <td>Black</td>\n      <td>AMBULANCE</td>\n      <td>EXPIRED</td>\n    </tr>\n    <tr>\n      <th>422256</th>\n      <td>19930293</td>\n      <td>NaN</td>\n      <td>39780645</td>\n      <td>2135-07-07 00:18:00</td>\n      <td>2135-07-07 03:32:00</td>\n      <td>M</td>\n      <td>White</td>\n      <td>AMBULANCE</td>\n      <td>EXPIRED</td>\n    </tr>\n    <tr>\n      <th>424849</th>\n      <td>19993842</td>\n      <td>NaN</td>\n      <td>37776073</td>\n      <td>2148-12-08 17:23:00</td>\n      <td>2148-12-08 22:11:00</td>\n      <td>M</td>\n      <td>Other</td>\n      <td>OTHER</td>\n      <td>EXPIRED</td>\n    </tr>\n    <tr>\n      <th>425040</th>\n      <td>19998485</td>\n      <td>NaN</td>\n      <td>32846388</td>\n      <td>2184-05-02 19:47:00</td>\n      <td>2184-05-03 00:22:00</td>\n      <td>F</td>\n      <td>White</td>\n      <td>AMBULANCE</td>\n      <td>EXPIRED</td>\n    </tr>\n  </tbody>\n</table>\n<p>377 rows × 9 columns</p>\n</div>"
     },
     "execution_count": 13,
     "metadata": {},
     "output_type": "execute_result"
    }
   ],
   "source": [
    "die_ed"
   ],
   "metadata": {
    "collapsed": false,
    "ExecuteTime": {
     "end_time": "2024-03-04T12:45:09.636775700Z",
     "start_time": "2024-03-04T12:45:09.617916400Z"
    }
   }
  },
  {
   "cell_type": "code",
   "execution_count": 14,
   "outputs": [],
   "source": [
    "noted=pd.concat([noted,die_ed])"
   ],
   "metadata": {
    "collapsed": false,
    "ExecuteTime": {
     "end_time": "2024-03-04T12:45:13.589603900Z",
     "start_time": "2024-03-04T12:45:13.569918300Z"
    }
   }
  },
  {
   "cell_type": "code",
   "execution_count": 15,
   "outputs": [
    {
     "data": {
      "text/plain": "28297336.0    2\n20404152.0    2\n27542936.0    2\n26320871.0    2\n21732373.0    2\n             ..\n24573618.0    1\n22834722.0    1\n23192849.0    1\n26561126.0    1\n23463456.0    1\nName: hadm_id, Length: 157634, dtype: int64"
     },
     "execution_count": 15,
     "metadata": {},
     "output_type": "execute_result"
    }
   ],
   "source": [
    "noted['hadm_id'].value_counts()"
   ],
   "metadata": {
    "collapsed": false,
    "ExecuteTime": {
     "end_time": "2024-03-04T12:45:15.751335Z",
     "start_time": "2024-03-04T12:45:15.721016900Z"
    }
   }
  },
  {
   "cell_type": "code",
   "execution_count": 16,
   "outputs": [],
   "source": [
    "values = [27542936.0, 21732373.0, 20404152.0, 21436543.0, 28297336.0, 26320871.0]"
   ],
   "metadata": {
    "collapsed": false,
    "ExecuteTime": {
     "end_time": "2024-03-04T12:45:17.112548300Z",
     "start_time": "2024-03-04T12:45:17.108111700Z"
    }
   }
  },
  {
   "cell_type": "code",
   "execution_count": 17,
   "outputs": [
    {
     "data": {
      "text/plain": "        subject_id     hadm_id   stay_id               intime  \\\n0         10000032  22595853.0  33258284  2180-05-06 19:17:00   \n1         10000032  22841357.0  38112554  2180-06-26 15:54:00   \n2         10000032  25742920.0  35968195  2180-08-05 20:58:00   \n4         10000032  29079034.0  39399961  2180-07-23 05:54:00   \n5         10000084  23052089.0  35203156  2160-11-20 20:36:00   \n...            ...         ...       ...                  ...   \n421422    19912620         NaN  30970126  2121-10-20 18:41:00   \n421989    19922851         NaN  37942091  2197-02-02 10:47:00   \n422256    19930293         NaN  39780645  2135-07-07 00:18:00   \n424849    19993842         NaN  37776073  2148-12-08 17:23:00   \n425040    19998485         NaN  32846388  2184-05-02 19:47:00   \n\n                    outtime gender   race arrival_transport disposition  \n0       2180-05-06 23:30:00      F  White         AMBULANCE    ADMITTED  \n1       2180-06-26 21:31:00      F  White         AMBULANCE    ADMITTED  \n2       2180-08-06 01:44:00      F  White         AMBULANCE    ADMITTED  \n4       2180-07-23 14:00:00      F  White         AMBULANCE    ADMITTED  \n5       2160-11-21 03:20:00      M  White           WALK IN    ADMITTED  \n...                     ...    ...    ...               ...         ...  \n421422  2121-10-20 23:50:00      F  Black         AMBULANCE     EXPIRED  \n421989  2197-02-02 15:53:00      F  Black         AMBULANCE     EXPIRED  \n422256  2135-07-07 03:32:00      M  White         AMBULANCE     EXPIRED  \n424849  2148-12-08 22:11:00      M  Other             OTHER     EXPIRED  \n425040  2184-05-03 00:22:00      F  White         AMBULANCE     EXPIRED  \n\n[158375 rows x 9 columns]",
      "text/html": "<div>\n<style scoped>\n    .dataframe tbody tr th:only-of-type {\n        vertical-align: middle;\n    }\n\n    .dataframe tbody tr th {\n        vertical-align: top;\n    }\n\n    .dataframe thead th {\n        text-align: right;\n    }\n</style>\n<table border=\"1\" class=\"dataframe\">\n  <thead>\n    <tr style=\"text-align: right;\">\n      <th></th>\n      <th>subject_id</th>\n      <th>hadm_id</th>\n      <th>stay_id</th>\n      <th>intime</th>\n      <th>outtime</th>\n      <th>gender</th>\n      <th>race</th>\n      <th>arrival_transport</th>\n      <th>disposition</th>\n    </tr>\n  </thead>\n  <tbody>\n    <tr>\n      <th>0</th>\n      <td>10000032</td>\n      <td>22595853.0</td>\n      <td>33258284</td>\n      <td>2180-05-06 19:17:00</td>\n      <td>2180-05-06 23:30:00</td>\n      <td>F</td>\n      <td>White</td>\n      <td>AMBULANCE</td>\n      <td>ADMITTED</td>\n    </tr>\n    <tr>\n      <th>1</th>\n      <td>10000032</td>\n      <td>22841357.0</td>\n      <td>38112554</td>\n      <td>2180-06-26 15:54:00</td>\n      <td>2180-06-26 21:31:00</td>\n      <td>F</td>\n      <td>White</td>\n      <td>AMBULANCE</td>\n      <td>ADMITTED</td>\n    </tr>\n    <tr>\n      <th>2</th>\n      <td>10000032</td>\n      <td>25742920.0</td>\n      <td>35968195</td>\n      <td>2180-08-05 20:58:00</td>\n      <td>2180-08-06 01:44:00</td>\n      <td>F</td>\n      <td>White</td>\n      <td>AMBULANCE</td>\n      <td>ADMITTED</td>\n    </tr>\n    <tr>\n      <th>4</th>\n      <td>10000032</td>\n      <td>29079034.0</td>\n      <td>39399961</td>\n      <td>2180-07-23 05:54:00</td>\n      <td>2180-07-23 14:00:00</td>\n      <td>F</td>\n      <td>White</td>\n      <td>AMBULANCE</td>\n      <td>ADMITTED</td>\n    </tr>\n    <tr>\n      <th>5</th>\n      <td>10000084</td>\n      <td>23052089.0</td>\n      <td>35203156</td>\n      <td>2160-11-20 20:36:00</td>\n      <td>2160-11-21 03:20:00</td>\n      <td>M</td>\n      <td>White</td>\n      <td>WALK IN</td>\n      <td>ADMITTED</td>\n    </tr>\n    <tr>\n      <th>...</th>\n      <td>...</td>\n      <td>...</td>\n      <td>...</td>\n      <td>...</td>\n      <td>...</td>\n      <td>...</td>\n      <td>...</td>\n      <td>...</td>\n      <td>...</td>\n    </tr>\n    <tr>\n      <th>421422</th>\n      <td>19912620</td>\n      <td>NaN</td>\n      <td>30970126</td>\n      <td>2121-10-20 18:41:00</td>\n      <td>2121-10-20 23:50:00</td>\n      <td>F</td>\n      <td>Black</td>\n      <td>AMBULANCE</td>\n      <td>EXPIRED</td>\n    </tr>\n    <tr>\n      <th>421989</th>\n      <td>19922851</td>\n      <td>NaN</td>\n      <td>37942091</td>\n      <td>2197-02-02 10:47:00</td>\n      <td>2197-02-02 15:53:00</td>\n      <td>F</td>\n      <td>Black</td>\n      <td>AMBULANCE</td>\n      <td>EXPIRED</td>\n    </tr>\n    <tr>\n      <th>422256</th>\n      <td>19930293</td>\n      <td>NaN</td>\n      <td>39780645</td>\n      <td>2135-07-07 00:18:00</td>\n      <td>2135-07-07 03:32:00</td>\n      <td>M</td>\n      <td>White</td>\n      <td>AMBULANCE</td>\n      <td>EXPIRED</td>\n    </tr>\n    <tr>\n      <th>424849</th>\n      <td>19993842</td>\n      <td>NaN</td>\n      <td>37776073</td>\n      <td>2148-12-08 17:23:00</td>\n      <td>2148-12-08 22:11:00</td>\n      <td>M</td>\n      <td>Other</td>\n      <td>OTHER</td>\n      <td>EXPIRED</td>\n    </tr>\n    <tr>\n      <th>425040</th>\n      <td>19998485</td>\n      <td>NaN</td>\n      <td>32846388</td>\n      <td>2184-05-02 19:47:00</td>\n      <td>2184-05-03 00:22:00</td>\n      <td>F</td>\n      <td>White</td>\n      <td>AMBULANCE</td>\n      <td>EXPIRED</td>\n    </tr>\n  </tbody>\n</table>\n<p>158375 rows × 9 columns</p>\n</div>"
     },
     "execution_count": 17,
     "metadata": {},
     "output_type": "execute_result"
    }
   ],
   "source": [
    "noted=noted[~noted['hadm_id'].isin(values)]\n",
    "noted"
   ],
   "metadata": {
    "collapsed": false,
    "ExecuteTime": {
     "end_time": "2024-03-04T12:45:19.489930400Z",
     "start_time": "2024-03-04T12:45:19.443286100Z"
    }
   }
  },
  {
   "cell_type": "code",
   "execution_count": 19,
   "outputs": [],
   "source": [
    "ed_any_1=noted[['hadm_id','intime','outtime']]\n",
    "hosp=hos[['hadm_id','admittime','dischtime']]\n",
    "#icu=icu[['hadm_id','intime','outtime']]\n",
    "#icu.rename(columns={'intime': 'icu_intime', 'outtime': 'icu_outtime'}, inplace=True)"
   ],
   "metadata": {
    "collapsed": false,
    "ExecuteTime": {
     "end_time": "2024-03-04T12:45:53.308267300Z",
     "start_time": "2024-03-04T12:45:53.301137100Z"
    }
   }
  },
  {
   "cell_type": "code",
   "execution_count": 20,
   "outputs": [
    {
     "data": {
      "text/plain": "         hadm_id            admittime            dischtime\n0       22595853  2180-05-06 22:23:00  2180-05-07 17:15:00\n1       22841357  2180-06-26 18:27:00  2180-06-27 18:49:00\n2       25742920  2180-08-05 23:44:00  2180-08-07 17:50:00\n3       29079034  2180-07-23 12:35:00  2180-07-25 17:55:00\n4       25022803  2160-03-03 23:16:00  2160-03-04 06:26:00\n...          ...                  ...                  ...\n431226  25744818  2149-01-08 16:44:00  2149-01-18 17:00:00\n431227  29734428  2147-07-18 16:23:00  2147-08-04 18:10:00\n431228  21033226  2164-09-10 13:47:00  2164-09-17 13:42:00\n431229  26071774  2164-07-25 00:27:00  2164-07-28 12:15:00\n431230  23865745  2145-11-02 21:38:00  2145-11-11 12:57:00\n\n[431231 rows x 3 columns]",
      "text/html": "<div>\n<style scoped>\n    .dataframe tbody tr th:only-of-type {\n        vertical-align: middle;\n    }\n\n    .dataframe tbody tr th {\n        vertical-align: top;\n    }\n\n    .dataframe thead th {\n        text-align: right;\n    }\n</style>\n<table border=\"1\" class=\"dataframe\">\n  <thead>\n    <tr style=\"text-align: right;\">\n      <th></th>\n      <th>hadm_id</th>\n      <th>admittime</th>\n      <th>dischtime</th>\n    </tr>\n  </thead>\n  <tbody>\n    <tr>\n      <th>0</th>\n      <td>22595853</td>\n      <td>2180-05-06 22:23:00</td>\n      <td>2180-05-07 17:15:00</td>\n    </tr>\n    <tr>\n      <th>1</th>\n      <td>22841357</td>\n      <td>2180-06-26 18:27:00</td>\n      <td>2180-06-27 18:49:00</td>\n    </tr>\n    <tr>\n      <th>2</th>\n      <td>25742920</td>\n      <td>2180-08-05 23:44:00</td>\n      <td>2180-08-07 17:50:00</td>\n    </tr>\n    <tr>\n      <th>3</th>\n      <td>29079034</td>\n      <td>2180-07-23 12:35:00</td>\n      <td>2180-07-25 17:55:00</td>\n    </tr>\n    <tr>\n      <th>4</th>\n      <td>25022803</td>\n      <td>2160-03-03 23:16:00</td>\n      <td>2160-03-04 06:26:00</td>\n    </tr>\n    <tr>\n      <th>...</th>\n      <td>...</td>\n      <td>...</td>\n      <td>...</td>\n    </tr>\n    <tr>\n      <th>431226</th>\n      <td>25744818</td>\n      <td>2149-01-08 16:44:00</td>\n      <td>2149-01-18 17:00:00</td>\n    </tr>\n    <tr>\n      <th>431227</th>\n      <td>29734428</td>\n      <td>2147-07-18 16:23:00</td>\n      <td>2147-08-04 18:10:00</td>\n    </tr>\n    <tr>\n      <th>431228</th>\n      <td>21033226</td>\n      <td>2164-09-10 13:47:00</td>\n      <td>2164-09-17 13:42:00</td>\n    </tr>\n    <tr>\n      <th>431229</th>\n      <td>26071774</td>\n      <td>2164-07-25 00:27:00</td>\n      <td>2164-07-28 12:15:00</td>\n    </tr>\n    <tr>\n      <th>431230</th>\n      <td>23865745</td>\n      <td>2145-11-02 21:38:00</td>\n      <td>2145-11-11 12:57:00</td>\n    </tr>\n  </tbody>\n</table>\n<p>431231 rows × 3 columns</p>\n</div>"
     },
     "execution_count": 20,
     "metadata": {},
     "output_type": "execute_result"
    }
   ],
   "source": [
    "hosp"
   ],
   "metadata": {
    "collapsed": false,
    "ExecuteTime": {
     "end_time": "2024-03-04T12:45:58.046783Z",
     "start_time": "2024-03-04T12:45:58.027731700Z"
    }
   }
  },
  {
   "cell_type": "code",
   "execution_count": 21,
   "outputs": [],
   "source": [
    "hosp=hosp[hosp['hadm_id'].isin(ed_any_1['hadm_id'])]\n",
    "hosp=hosp[hosp['admittime']<hosp['dischtime']]"
   ],
   "metadata": {
    "collapsed": false,
    "ExecuteTime": {
     "end_time": "2024-03-04T12:46:12.886493300Z",
     "start_time": "2024-03-04T12:46:12.836111500Z"
    }
   }
  },
  {
   "cell_type": "code",
   "execution_count": 23,
   "outputs": [
    {
     "data": {
      "text/plain": "           hadm_id               intime              outtime\n0       22595853.0  2180-05-06 19:17:00  2180-05-06 23:30:00\n1       22841357.0  2180-06-26 15:54:00  2180-06-26 21:31:00\n2       25742920.0  2180-08-05 20:58:00  2180-08-06 01:44:00\n4       29079034.0  2180-07-23 05:54:00  2180-07-23 14:00:00\n5       23052089.0  2160-11-20 20:36:00  2160-11-21 03:20:00\n...            ...                  ...                  ...\n421422         NaN  2121-10-20 18:41:00  2121-10-20 23:50:00\n421989         NaN  2197-02-02 10:47:00  2197-02-02 15:53:00\n422256         NaN  2135-07-07 00:18:00  2135-07-07 03:32:00\n424849         NaN  2148-12-08 17:23:00  2148-12-08 22:11:00\n425040         NaN  2184-05-02 19:47:00  2184-05-03 00:22:00\n\n[158375 rows x 3 columns]",
      "text/html": "<div>\n<style scoped>\n    .dataframe tbody tr th:only-of-type {\n        vertical-align: middle;\n    }\n\n    .dataframe tbody tr th {\n        vertical-align: top;\n    }\n\n    .dataframe thead th {\n        text-align: right;\n    }\n</style>\n<table border=\"1\" class=\"dataframe\">\n  <thead>\n    <tr style=\"text-align: right;\">\n      <th></th>\n      <th>hadm_id</th>\n      <th>intime</th>\n      <th>outtime</th>\n    </tr>\n  </thead>\n  <tbody>\n    <tr>\n      <th>0</th>\n      <td>22595853.0</td>\n      <td>2180-05-06 19:17:00</td>\n      <td>2180-05-06 23:30:00</td>\n    </tr>\n    <tr>\n      <th>1</th>\n      <td>22841357.0</td>\n      <td>2180-06-26 15:54:00</td>\n      <td>2180-06-26 21:31:00</td>\n    </tr>\n    <tr>\n      <th>2</th>\n      <td>25742920.0</td>\n      <td>2180-08-05 20:58:00</td>\n      <td>2180-08-06 01:44:00</td>\n    </tr>\n    <tr>\n      <th>4</th>\n      <td>29079034.0</td>\n      <td>2180-07-23 05:54:00</td>\n      <td>2180-07-23 14:00:00</td>\n    </tr>\n    <tr>\n      <th>5</th>\n      <td>23052089.0</td>\n      <td>2160-11-20 20:36:00</td>\n      <td>2160-11-21 03:20:00</td>\n    </tr>\n    <tr>\n      <th>...</th>\n      <td>...</td>\n      <td>...</td>\n      <td>...</td>\n    </tr>\n    <tr>\n      <th>421422</th>\n      <td>NaN</td>\n      <td>2121-10-20 18:41:00</td>\n      <td>2121-10-20 23:50:00</td>\n    </tr>\n    <tr>\n      <th>421989</th>\n      <td>NaN</td>\n      <td>2197-02-02 10:47:00</td>\n      <td>2197-02-02 15:53:00</td>\n    </tr>\n    <tr>\n      <th>422256</th>\n      <td>NaN</td>\n      <td>2135-07-07 00:18:00</td>\n      <td>2135-07-07 03:32:00</td>\n    </tr>\n    <tr>\n      <th>424849</th>\n      <td>NaN</td>\n      <td>2148-12-08 17:23:00</td>\n      <td>2148-12-08 22:11:00</td>\n    </tr>\n    <tr>\n      <th>425040</th>\n      <td>NaN</td>\n      <td>2184-05-02 19:47:00</td>\n      <td>2184-05-03 00:22:00</td>\n    </tr>\n  </tbody>\n</table>\n<p>158375 rows × 3 columns</p>\n</div>"
     },
     "execution_count": 23,
     "metadata": {},
     "output_type": "execute_result"
    }
   ],
   "source": [
    "ed_any_1"
   ],
   "metadata": {
    "collapsed": false,
    "ExecuteTime": {
     "end_time": "2024-03-04T12:46:37.023814300Z",
     "start_time": "2024-03-04T12:46:36.986410800Z"
    }
   }
  },
  {
   "cell_type": "code",
   "execution_count": 22,
   "outputs": [
    {
     "data": {
      "text/plain": "         hadm_id            admittime            dischtime\n0       22595853  2180-05-06 22:23:00  2180-05-07 17:15:00\n1       22841357  2180-06-26 18:27:00  2180-06-27 18:49:00\n2       25742920  2180-08-05 23:44:00  2180-08-07 17:50:00\n3       29079034  2180-07-23 12:35:00  2180-07-25 17:55:00\n5       23052089  2160-11-21 01:56:00  2160-11-25 14:52:00\n...          ...                  ...                  ...\n431216  25715748  2119-08-11 11:36:00  2119-08-19 11:55:00\n431217  26194817  2119-06-18 21:08:00  2119-07-02 14:25:00\n431226  25744818  2149-01-08 16:44:00  2149-01-18 17:00:00\n431227  29734428  2147-07-18 16:23:00  2147-08-04 18:10:00\n431230  23865745  2145-11-02 21:38:00  2145-11-11 12:57:00\n\n[157580 rows x 3 columns]",
      "text/html": "<div>\n<style scoped>\n    .dataframe tbody tr th:only-of-type {\n        vertical-align: middle;\n    }\n\n    .dataframe tbody tr th {\n        vertical-align: top;\n    }\n\n    .dataframe thead th {\n        text-align: right;\n    }\n</style>\n<table border=\"1\" class=\"dataframe\">\n  <thead>\n    <tr style=\"text-align: right;\">\n      <th></th>\n      <th>hadm_id</th>\n      <th>admittime</th>\n      <th>dischtime</th>\n    </tr>\n  </thead>\n  <tbody>\n    <tr>\n      <th>0</th>\n      <td>22595853</td>\n      <td>2180-05-06 22:23:00</td>\n      <td>2180-05-07 17:15:00</td>\n    </tr>\n    <tr>\n      <th>1</th>\n      <td>22841357</td>\n      <td>2180-06-26 18:27:00</td>\n      <td>2180-06-27 18:49:00</td>\n    </tr>\n    <tr>\n      <th>2</th>\n      <td>25742920</td>\n      <td>2180-08-05 23:44:00</td>\n      <td>2180-08-07 17:50:00</td>\n    </tr>\n    <tr>\n      <th>3</th>\n      <td>29079034</td>\n      <td>2180-07-23 12:35:00</td>\n      <td>2180-07-25 17:55:00</td>\n    </tr>\n    <tr>\n      <th>5</th>\n      <td>23052089</td>\n      <td>2160-11-21 01:56:00</td>\n      <td>2160-11-25 14:52:00</td>\n    </tr>\n    <tr>\n      <th>...</th>\n      <td>...</td>\n      <td>...</td>\n      <td>...</td>\n    </tr>\n    <tr>\n      <th>431216</th>\n      <td>25715748</td>\n      <td>2119-08-11 11:36:00</td>\n      <td>2119-08-19 11:55:00</td>\n    </tr>\n    <tr>\n      <th>431217</th>\n      <td>26194817</td>\n      <td>2119-06-18 21:08:00</td>\n      <td>2119-07-02 14:25:00</td>\n    </tr>\n    <tr>\n      <th>431226</th>\n      <td>25744818</td>\n      <td>2149-01-08 16:44:00</td>\n      <td>2149-01-18 17:00:00</td>\n    </tr>\n    <tr>\n      <th>431227</th>\n      <td>29734428</td>\n      <td>2147-07-18 16:23:00</td>\n      <td>2147-08-04 18:10:00</td>\n    </tr>\n    <tr>\n      <th>431230</th>\n      <td>23865745</td>\n      <td>2145-11-02 21:38:00</td>\n      <td>2145-11-11 12:57:00</td>\n    </tr>\n  </tbody>\n</table>\n<p>157580 rows × 3 columns</p>\n</div>"
     },
     "execution_count": 22,
     "metadata": {},
     "output_type": "execute_result"
    }
   ],
   "source": [
    "hosp"
   ],
   "metadata": {
    "collapsed": false,
    "ExecuteTime": {
     "end_time": "2024-03-04T12:46:17.412459300Z",
     "start_time": "2024-03-04T12:46:17.388370700Z"
    }
   }
  },
  {
   "cell_type": "code",
   "execution_count": 37,
   "outputs": [],
   "source": [
    "#icu=icu[icu['hadm_id'].isin(ed_any_1['hadm_id'])]\n",
    "#icu=icu[icu['icu_intime']<icu['icu_outtime']]"
   ],
   "metadata": {
    "collapsed": false,
    "ExecuteTime": {
     "end_time": "2024-03-04T12:25:29.982429900Z",
     "start_time": "2024-03-04T12:25:29.960353400Z"
    }
   }
  },
  {
   "cell_type": "code",
   "execution_count": 24,
   "outputs": [],
   "source": [
    "ed_any_2=pd.merge(ed_any_1,hosp,on='hadm_id',how='left')\n",
    "#ed_any_3=pd.merge(ed_any_2,icu,on='hadm_id',how='left')"
   ],
   "metadata": {
    "collapsed": false,
    "ExecuteTime": {
     "end_time": "2024-03-04T12:46:53.153275700Z",
     "start_time": "2024-03-04T12:46:53.054973700Z"
    }
   }
  },
  {
   "cell_type": "code",
   "execution_count": 25,
   "outputs": [],
   "source": [
    "ed_any_2.reset_index(inplace=True,drop=True)"
   ],
   "metadata": {
    "collapsed": false,
    "ExecuteTime": {
     "end_time": "2024-03-04T12:46:54.384585200Z",
     "start_time": "2024-03-04T12:46:54.378206400Z"
    }
   }
  },
  {
   "cell_type": "code",
   "execution_count": 26,
   "outputs": [
    {
     "data": {
      "text/plain": "           hadm_id               intime              outtime  \\\n0       22595853.0  2180-05-06 19:17:00  2180-05-06 23:30:00   \n1       22841357.0  2180-06-26 15:54:00  2180-06-26 21:31:00   \n2       25742920.0  2180-08-05 20:58:00  2180-08-06 01:44:00   \n3       29079034.0  2180-07-23 05:54:00  2180-07-23 14:00:00   \n4       23052089.0  2160-11-20 20:36:00  2160-11-21 03:20:00   \n...            ...                  ...                  ...   \n158370         NaN  2121-10-20 18:41:00  2121-10-20 23:50:00   \n158371         NaN  2197-02-02 10:47:00  2197-02-02 15:53:00   \n158372         NaN  2135-07-07 00:18:00  2135-07-07 03:32:00   \n158373         NaN  2148-12-08 17:23:00  2148-12-08 22:11:00   \n158374         NaN  2184-05-02 19:47:00  2184-05-03 00:22:00   \n\n                  admittime            dischtime  \n0       2180-05-06 22:23:00  2180-05-07 17:15:00  \n1       2180-06-26 18:27:00  2180-06-27 18:49:00  \n2       2180-08-05 23:44:00  2180-08-07 17:50:00  \n3       2180-07-23 12:35:00  2180-07-25 17:55:00  \n4       2160-11-21 01:56:00  2160-11-25 14:52:00  \n...                     ...                  ...  \n158370                  NaN                  NaN  \n158371                  NaN                  NaN  \n158372                  NaN                  NaN  \n158373                  NaN                  NaN  \n158374                  NaN                  NaN  \n\n[158375 rows x 5 columns]",
      "text/html": "<div>\n<style scoped>\n    .dataframe tbody tr th:only-of-type {\n        vertical-align: middle;\n    }\n\n    .dataframe tbody tr th {\n        vertical-align: top;\n    }\n\n    .dataframe thead th {\n        text-align: right;\n    }\n</style>\n<table border=\"1\" class=\"dataframe\">\n  <thead>\n    <tr style=\"text-align: right;\">\n      <th></th>\n      <th>hadm_id</th>\n      <th>intime</th>\n      <th>outtime</th>\n      <th>admittime</th>\n      <th>dischtime</th>\n    </tr>\n  </thead>\n  <tbody>\n    <tr>\n      <th>0</th>\n      <td>22595853.0</td>\n      <td>2180-05-06 19:17:00</td>\n      <td>2180-05-06 23:30:00</td>\n      <td>2180-05-06 22:23:00</td>\n      <td>2180-05-07 17:15:00</td>\n    </tr>\n    <tr>\n      <th>1</th>\n      <td>22841357.0</td>\n      <td>2180-06-26 15:54:00</td>\n      <td>2180-06-26 21:31:00</td>\n      <td>2180-06-26 18:27:00</td>\n      <td>2180-06-27 18:49:00</td>\n    </tr>\n    <tr>\n      <th>2</th>\n      <td>25742920.0</td>\n      <td>2180-08-05 20:58:00</td>\n      <td>2180-08-06 01:44:00</td>\n      <td>2180-08-05 23:44:00</td>\n      <td>2180-08-07 17:50:00</td>\n    </tr>\n    <tr>\n      <th>3</th>\n      <td>29079034.0</td>\n      <td>2180-07-23 05:54:00</td>\n      <td>2180-07-23 14:00:00</td>\n      <td>2180-07-23 12:35:00</td>\n      <td>2180-07-25 17:55:00</td>\n    </tr>\n    <tr>\n      <th>4</th>\n      <td>23052089.0</td>\n      <td>2160-11-20 20:36:00</td>\n      <td>2160-11-21 03:20:00</td>\n      <td>2160-11-21 01:56:00</td>\n      <td>2160-11-25 14:52:00</td>\n    </tr>\n    <tr>\n      <th>...</th>\n      <td>...</td>\n      <td>...</td>\n      <td>...</td>\n      <td>...</td>\n      <td>...</td>\n    </tr>\n    <tr>\n      <th>158370</th>\n      <td>NaN</td>\n      <td>2121-10-20 18:41:00</td>\n      <td>2121-10-20 23:50:00</td>\n      <td>NaN</td>\n      <td>NaN</td>\n    </tr>\n    <tr>\n      <th>158371</th>\n      <td>NaN</td>\n      <td>2197-02-02 10:47:00</td>\n      <td>2197-02-02 15:53:00</td>\n      <td>NaN</td>\n      <td>NaN</td>\n    </tr>\n    <tr>\n      <th>158372</th>\n      <td>NaN</td>\n      <td>2135-07-07 00:18:00</td>\n      <td>2135-07-07 03:32:00</td>\n      <td>NaN</td>\n      <td>NaN</td>\n    </tr>\n    <tr>\n      <th>158373</th>\n      <td>NaN</td>\n      <td>2148-12-08 17:23:00</td>\n      <td>2148-12-08 22:11:00</td>\n      <td>NaN</td>\n      <td>NaN</td>\n    </tr>\n    <tr>\n      <th>158374</th>\n      <td>NaN</td>\n      <td>2184-05-02 19:47:00</td>\n      <td>2184-05-03 00:22:00</td>\n      <td>NaN</td>\n      <td>NaN</td>\n    </tr>\n  </tbody>\n</table>\n<p>158375 rows × 5 columns</p>\n</div>"
     },
     "execution_count": 26,
     "metadata": {},
     "output_type": "execute_result"
    }
   ],
   "source": [
    "ed_any_2"
   ],
   "metadata": {
    "collapsed": false,
    "ExecuteTime": {
     "end_time": "2024-03-04T12:46:59.563565Z",
     "start_time": "2024-03-04T12:46:59.542500100Z"
    }
   }
  },
  {
   "cell_type": "code",
   "execution_count": 27,
   "outputs": [],
   "source": [
    "for i in ed_any_2.columns[1:]:\n",
    "    ed_any_2[i]=pd.to_datetime(ed_any_2[i])"
   ],
   "metadata": {
    "collapsed": false,
    "ExecuteTime": {
     "end_time": "2024-03-04T12:47:16.642831100Z",
     "start_time": "2024-03-04T12:47:16.409536600Z"
    }
   }
  },
  {
   "cell_type": "code",
   "execution_count": 28,
   "outputs": [],
   "source": [
    "ed_any_2[\"ed_out_to_hos_in\"]=ed_any_2['outtime']-ed_any_2['admittime']\n",
    "#ed_any_3[\"ed-icu\"]=ed_any_3['outtime']-ed_any_3['icu_intime']"
   ],
   "metadata": {
    "collapsed": false,
    "ExecuteTime": {
     "end_time": "2024-03-04T12:48:21.497381Z",
     "start_time": "2024-03-04T12:48:21.464664800Z"
    }
   }
  },
  {
   "cell_type": "code",
   "execution_count": 29,
   "outputs": [
    {
     "data": {
      "text/plain": "           hadm_id              intime             outtime  \\\n0       22595853.0 2180-05-06 19:17:00 2180-05-06 23:30:00   \n1       22841357.0 2180-06-26 15:54:00 2180-06-26 21:31:00   \n2       25742920.0 2180-08-05 20:58:00 2180-08-06 01:44:00   \n3       29079034.0 2180-07-23 05:54:00 2180-07-23 14:00:00   \n4       23052089.0 2160-11-20 20:36:00 2160-11-21 03:20:00   \n...            ...                 ...                 ...   \n158370         NaN 2121-10-20 18:41:00 2121-10-20 23:50:00   \n158371         NaN 2197-02-02 10:47:00 2197-02-02 15:53:00   \n158372         NaN 2135-07-07 00:18:00 2135-07-07 03:32:00   \n158373         NaN 2148-12-08 17:23:00 2148-12-08 22:11:00   \n158374         NaN 2184-05-02 19:47:00 2184-05-03 00:22:00   \n\n                 admittime           dischtime ed_out_to_hos_in  \n0      2180-05-06 22:23:00 2180-05-07 17:15:00  0 days 01:07:00  \n1      2180-06-26 18:27:00 2180-06-27 18:49:00  0 days 03:04:00  \n2      2180-08-05 23:44:00 2180-08-07 17:50:00  0 days 02:00:00  \n3      2180-07-23 12:35:00 2180-07-25 17:55:00  0 days 01:25:00  \n4      2160-11-21 01:56:00 2160-11-25 14:52:00  0 days 01:24:00  \n...                    ...                 ...              ...  \n158370                 NaT                 NaT              NaT  \n158371                 NaT                 NaT              NaT  \n158372                 NaT                 NaT              NaT  \n158373                 NaT                 NaT              NaT  \n158374                 NaT                 NaT              NaT  \n\n[158375 rows x 6 columns]",
      "text/html": "<div>\n<style scoped>\n    .dataframe tbody tr th:only-of-type {\n        vertical-align: middle;\n    }\n\n    .dataframe tbody tr th {\n        vertical-align: top;\n    }\n\n    .dataframe thead th {\n        text-align: right;\n    }\n</style>\n<table border=\"1\" class=\"dataframe\">\n  <thead>\n    <tr style=\"text-align: right;\">\n      <th></th>\n      <th>hadm_id</th>\n      <th>intime</th>\n      <th>outtime</th>\n      <th>admittime</th>\n      <th>dischtime</th>\n      <th>ed_out_to_hos_in</th>\n    </tr>\n  </thead>\n  <tbody>\n    <tr>\n      <th>0</th>\n      <td>22595853.0</td>\n      <td>2180-05-06 19:17:00</td>\n      <td>2180-05-06 23:30:00</td>\n      <td>2180-05-06 22:23:00</td>\n      <td>2180-05-07 17:15:00</td>\n      <td>0 days 01:07:00</td>\n    </tr>\n    <tr>\n      <th>1</th>\n      <td>22841357.0</td>\n      <td>2180-06-26 15:54:00</td>\n      <td>2180-06-26 21:31:00</td>\n      <td>2180-06-26 18:27:00</td>\n      <td>2180-06-27 18:49:00</td>\n      <td>0 days 03:04:00</td>\n    </tr>\n    <tr>\n      <th>2</th>\n      <td>25742920.0</td>\n      <td>2180-08-05 20:58:00</td>\n      <td>2180-08-06 01:44:00</td>\n      <td>2180-08-05 23:44:00</td>\n      <td>2180-08-07 17:50:00</td>\n      <td>0 days 02:00:00</td>\n    </tr>\n    <tr>\n      <th>3</th>\n      <td>29079034.0</td>\n      <td>2180-07-23 05:54:00</td>\n      <td>2180-07-23 14:00:00</td>\n      <td>2180-07-23 12:35:00</td>\n      <td>2180-07-25 17:55:00</td>\n      <td>0 days 01:25:00</td>\n    </tr>\n    <tr>\n      <th>4</th>\n      <td>23052089.0</td>\n      <td>2160-11-20 20:36:00</td>\n      <td>2160-11-21 03:20:00</td>\n      <td>2160-11-21 01:56:00</td>\n      <td>2160-11-25 14:52:00</td>\n      <td>0 days 01:24:00</td>\n    </tr>\n    <tr>\n      <th>...</th>\n      <td>...</td>\n      <td>...</td>\n      <td>...</td>\n      <td>...</td>\n      <td>...</td>\n      <td>...</td>\n    </tr>\n    <tr>\n      <th>158370</th>\n      <td>NaN</td>\n      <td>2121-10-20 18:41:00</td>\n      <td>2121-10-20 23:50:00</td>\n      <td>NaT</td>\n      <td>NaT</td>\n      <td>NaT</td>\n    </tr>\n    <tr>\n      <th>158371</th>\n      <td>NaN</td>\n      <td>2197-02-02 10:47:00</td>\n      <td>2197-02-02 15:53:00</td>\n      <td>NaT</td>\n      <td>NaT</td>\n      <td>NaT</td>\n    </tr>\n    <tr>\n      <th>158372</th>\n      <td>NaN</td>\n      <td>2135-07-07 00:18:00</td>\n      <td>2135-07-07 03:32:00</td>\n      <td>NaT</td>\n      <td>NaT</td>\n      <td>NaT</td>\n    </tr>\n    <tr>\n      <th>158373</th>\n      <td>NaN</td>\n      <td>2148-12-08 17:23:00</td>\n      <td>2148-12-08 22:11:00</td>\n      <td>NaT</td>\n      <td>NaT</td>\n      <td>NaT</td>\n    </tr>\n    <tr>\n      <th>158374</th>\n      <td>NaN</td>\n      <td>2184-05-02 19:47:00</td>\n      <td>2184-05-03 00:22:00</td>\n      <td>NaT</td>\n      <td>NaT</td>\n      <td>NaT</td>\n    </tr>\n  </tbody>\n</table>\n<p>158375 rows × 6 columns</p>\n</div>"
     },
     "execution_count": 29,
     "metadata": {},
     "output_type": "execute_result"
    }
   ],
   "source": [
    "ed_any_2#['ed-hosp'].describe()"
   ],
   "metadata": {
    "collapsed": false,
    "ExecuteTime": {
     "end_time": "2024-03-04T12:48:22.288214900Z",
     "start_time": "2024-03-04T12:48:22.269093500Z"
    }
   }
  },
  {
   "cell_type": "code",
   "execution_count": 102,
   "outputs": [
    {
     "data": {
      "text/plain": "           hadm_id              intime             outtime  \\\n0       22595853.0 2180-05-06 19:17:00 2180-05-06 23:30:00   \n1       22841357.0 2180-06-26 15:54:00 2180-06-26 21:31:00   \n2       25742920.0 2180-08-05 20:58:00 2180-08-06 01:44:00   \n3       29079034.0 2180-07-23 05:54:00 2180-07-23 14:00:00   \n4       23052089.0 2160-11-20 20:36:00 2160-11-21 03:20:00   \n...            ...                 ...                 ...   \n158221  28045620.0 2127-09-21 08:42:00 2127-09-22 02:39:21   \n158247  20097685.0 2202-04-02 19:43:00 2202-04-03 05:04:00   \n158314  20002712.0 2207-05-08 04:29:00 2207-05-08 05:27:23   \n158343  29466646.0 2172-02-18 17:05:00 2172-02-18 19:47:30   \n158367  23463456.0 2135-06-10 14:41:00 2135-06-10 17:26:55   \n\n                 admittime           dischtime ed_out_to_hos_in  \n0      2180-05-06 22:23:00 2180-05-07 17:15:00  0 days 01:07:00  \n1      2180-06-26 18:27:00 2180-06-27 18:49:00  0 days 03:04:00  \n2      2180-08-05 23:44:00 2180-08-07 17:50:00  0 days 02:00:00  \n3      2180-07-23 12:35:00 2180-07-25 17:55:00  0 days 01:25:00  \n4      2160-11-21 01:56:00 2160-11-25 14:52:00  0 days 01:24:00  \n...                    ...                 ...              ...  \n158221 2127-09-22 02:37:00 2127-09-22 03:10:00  0 days 00:02:21  \n158247 2202-04-02 22:00:00 2202-04-03 08:40:00  0 days 07:04:00  \n158314 2207-05-08 05:24:00 2207-05-08 11:15:00  0 days 00:03:23  \n158343 2172-02-18 19:46:00 2172-02-18 21:47:00  0 days 00:01:30  \n158367 2135-06-10 17:26:00 2135-06-10 18:45:00  0 days 00:00:55  \n\n[157176 rows x 6 columns]",
      "text/html": "<div>\n<style scoped>\n    .dataframe tbody tr th:only-of-type {\n        vertical-align: middle;\n    }\n\n    .dataframe tbody tr th {\n        vertical-align: top;\n    }\n\n    .dataframe thead th {\n        text-align: right;\n    }\n</style>\n<table border=\"1\" class=\"dataframe\">\n  <thead>\n    <tr style=\"text-align: right;\">\n      <th></th>\n      <th>hadm_id</th>\n      <th>intime</th>\n      <th>outtime</th>\n      <th>admittime</th>\n      <th>dischtime</th>\n      <th>ed_out_to_hos_in</th>\n    </tr>\n  </thead>\n  <tbody>\n    <tr>\n      <th>0</th>\n      <td>22595853.0</td>\n      <td>2180-05-06 19:17:00</td>\n      <td>2180-05-06 23:30:00</td>\n      <td>2180-05-06 22:23:00</td>\n      <td>2180-05-07 17:15:00</td>\n      <td>0 days 01:07:00</td>\n    </tr>\n    <tr>\n      <th>1</th>\n      <td>22841357.0</td>\n      <td>2180-06-26 15:54:00</td>\n      <td>2180-06-26 21:31:00</td>\n      <td>2180-06-26 18:27:00</td>\n      <td>2180-06-27 18:49:00</td>\n      <td>0 days 03:04:00</td>\n    </tr>\n    <tr>\n      <th>2</th>\n      <td>25742920.0</td>\n      <td>2180-08-05 20:58:00</td>\n      <td>2180-08-06 01:44:00</td>\n      <td>2180-08-05 23:44:00</td>\n      <td>2180-08-07 17:50:00</td>\n      <td>0 days 02:00:00</td>\n    </tr>\n    <tr>\n      <th>3</th>\n      <td>29079034.0</td>\n      <td>2180-07-23 05:54:00</td>\n      <td>2180-07-23 14:00:00</td>\n      <td>2180-07-23 12:35:00</td>\n      <td>2180-07-25 17:55:00</td>\n      <td>0 days 01:25:00</td>\n    </tr>\n    <tr>\n      <th>4</th>\n      <td>23052089.0</td>\n      <td>2160-11-20 20:36:00</td>\n      <td>2160-11-21 03:20:00</td>\n      <td>2160-11-21 01:56:00</td>\n      <td>2160-11-25 14:52:00</td>\n      <td>0 days 01:24:00</td>\n    </tr>\n    <tr>\n      <th>...</th>\n      <td>...</td>\n      <td>...</td>\n      <td>...</td>\n      <td>...</td>\n      <td>...</td>\n      <td>...</td>\n    </tr>\n    <tr>\n      <th>158221</th>\n      <td>28045620.0</td>\n      <td>2127-09-21 08:42:00</td>\n      <td>2127-09-22 02:39:21</td>\n      <td>2127-09-22 02:37:00</td>\n      <td>2127-09-22 03:10:00</td>\n      <td>0 days 00:02:21</td>\n    </tr>\n    <tr>\n      <th>158247</th>\n      <td>20097685.0</td>\n      <td>2202-04-02 19:43:00</td>\n      <td>2202-04-03 05:04:00</td>\n      <td>2202-04-02 22:00:00</td>\n      <td>2202-04-03 08:40:00</td>\n      <td>0 days 07:04:00</td>\n    </tr>\n    <tr>\n      <th>158314</th>\n      <td>20002712.0</td>\n      <td>2207-05-08 04:29:00</td>\n      <td>2207-05-08 05:27:23</td>\n      <td>2207-05-08 05:24:00</td>\n      <td>2207-05-08 11:15:00</td>\n      <td>0 days 00:03:23</td>\n    </tr>\n    <tr>\n      <th>158343</th>\n      <td>29466646.0</td>\n      <td>2172-02-18 17:05:00</td>\n      <td>2172-02-18 19:47:30</td>\n      <td>2172-02-18 19:46:00</td>\n      <td>2172-02-18 21:47:00</td>\n      <td>0 days 00:01:30</td>\n    </tr>\n    <tr>\n      <th>158367</th>\n      <td>23463456.0</td>\n      <td>2135-06-10 14:41:00</td>\n      <td>2135-06-10 17:26:55</td>\n      <td>2135-06-10 17:26:00</td>\n      <td>2135-06-10 18:45:00</td>\n      <td>0 days 00:00:55</td>\n    </tr>\n  </tbody>\n</table>\n<p>157176 rows × 6 columns</p>\n</div>"
     },
     "execution_count": 102,
     "metadata": {},
     "output_type": "execute_result"
    }
   ],
   "source": [
    "ed_any_3=ed_any_2[(ed_any_2['intime']<ed_any_2['outtime'])&(ed_any_2['intime']<ed_any_2['admittime'])&(ed_any_2['admittime']<ed_any_2['dischtime'])&(ed_any_2['outtime']<ed_any_2['dischtime'])&(ed_any_2['admittime']-ed_any_2['outtime']<'0 days 04:00:00')]\n",
    "ed_any_3"
   ],
   "metadata": {
    "collapsed": false,
    "ExecuteTime": {
     "end_time": "2024-03-06T05:04:00.635868Z",
     "start_time": "2024-03-06T05:04:00.601205200Z"
    }
   }
  },
  {
   "cell_type": "code",
   "execution_count": 103,
   "outputs": [
    {
     "data": {
      "text/plain": "           hadm_id              intime             outtime  \\\n0       22595853.0 2180-05-06 19:17:00 2180-05-06 23:30:00   \n1       22841357.0 2180-06-26 15:54:00 2180-06-26 21:31:00   \n2       25742920.0 2180-08-05 20:58:00 2180-08-06 01:44:00   \n3       29079034.0 2180-07-23 05:54:00 2180-07-23 14:00:00   \n4       23052089.0 2160-11-20 20:36:00 2160-11-21 03:20:00   \n...            ...                 ...                 ...   \n158209  29048248.0 2183-12-07 13:13:00 2183-12-07 17:17:39   \n158221  28045620.0 2127-09-21 08:42:00 2127-09-22 02:39:21   \n158247  20097685.0 2202-04-02 19:43:00 2202-04-03 05:04:00   \n158343  29466646.0 2172-02-18 17:05:00 2172-02-18 19:47:30   \n158367  23463456.0 2135-06-10 14:41:00 2135-06-10 17:26:55   \n\n                 admittime           dischtime ed_out_to_hos_in  \n0      2180-05-06 22:23:00 2180-05-07 17:15:00  0 days 01:07:00  \n1      2180-06-26 18:27:00 2180-06-27 18:49:00  0 days 03:04:00  \n2      2180-08-05 23:44:00 2180-08-07 17:50:00  0 days 02:00:00  \n3      2180-07-23 12:35:00 2180-07-25 17:55:00  0 days 01:25:00  \n4      2160-11-21 01:56:00 2160-11-25 14:52:00  0 days 01:24:00  \n...                    ...                 ...              ...  \n158209 2183-12-07 17:16:00 2183-12-11 17:36:00  0 days 00:01:39  \n158221 2127-09-22 02:37:00 2127-09-22 03:10:00  0 days 00:02:21  \n158247 2202-04-02 22:00:00 2202-04-03 08:40:00  0 days 07:04:00  \n158343 2172-02-18 19:46:00 2172-02-18 21:47:00  0 days 00:01:30  \n158367 2135-06-10 17:26:00 2135-06-10 18:45:00  0 days 00:00:55  \n\n[154265 rows x 6 columns]",
      "text/html": "<div>\n<style scoped>\n    .dataframe tbody tr th:only-of-type {\n        vertical-align: middle;\n    }\n\n    .dataframe tbody tr th {\n        vertical-align: top;\n    }\n\n    .dataframe thead th {\n        text-align: right;\n    }\n</style>\n<table border=\"1\" class=\"dataframe\">\n  <thead>\n    <tr style=\"text-align: right;\">\n      <th></th>\n      <th>hadm_id</th>\n      <th>intime</th>\n      <th>outtime</th>\n      <th>admittime</th>\n      <th>dischtime</th>\n      <th>ed_out_to_hos_in</th>\n    </tr>\n  </thead>\n  <tbody>\n    <tr>\n      <th>0</th>\n      <td>22595853.0</td>\n      <td>2180-05-06 19:17:00</td>\n      <td>2180-05-06 23:30:00</td>\n      <td>2180-05-06 22:23:00</td>\n      <td>2180-05-07 17:15:00</td>\n      <td>0 days 01:07:00</td>\n    </tr>\n    <tr>\n      <th>1</th>\n      <td>22841357.0</td>\n      <td>2180-06-26 15:54:00</td>\n      <td>2180-06-26 21:31:00</td>\n      <td>2180-06-26 18:27:00</td>\n      <td>2180-06-27 18:49:00</td>\n      <td>0 days 03:04:00</td>\n    </tr>\n    <tr>\n      <th>2</th>\n      <td>25742920.0</td>\n      <td>2180-08-05 20:58:00</td>\n      <td>2180-08-06 01:44:00</td>\n      <td>2180-08-05 23:44:00</td>\n      <td>2180-08-07 17:50:00</td>\n      <td>0 days 02:00:00</td>\n    </tr>\n    <tr>\n      <th>3</th>\n      <td>29079034.0</td>\n      <td>2180-07-23 05:54:00</td>\n      <td>2180-07-23 14:00:00</td>\n      <td>2180-07-23 12:35:00</td>\n      <td>2180-07-25 17:55:00</td>\n      <td>0 days 01:25:00</td>\n    </tr>\n    <tr>\n      <th>4</th>\n      <td>23052089.0</td>\n      <td>2160-11-20 20:36:00</td>\n      <td>2160-11-21 03:20:00</td>\n      <td>2160-11-21 01:56:00</td>\n      <td>2160-11-25 14:52:00</td>\n      <td>0 days 01:24:00</td>\n    </tr>\n    <tr>\n      <th>...</th>\n      <td>...</td>\n      <td>...</td>\n      <td>...</td>\n      <td>...</td>\n      <td>...</td>\n      <td>...</td>\n    </tr>\n    <tr>\n      <th>158209</th>\n      <td>29048248.0</td>\n      <td>2183-12-07 13:13:00</td>\n      <td>2183-12-07 17:17:39</td>\n      <td>2183-12-07 17:16:00</td>\n      <td>2183-12-11 17:36:00</td>\n      <td>0 days 00:01:39</td>\n    </tr>\n    <tr>\n      <th>158221</th>\n      <td>28045620.0</td>\n      <td>2127-09-21 08:42:00</td>\n      <td>2127-09-22 02:39:21</td>\n      <td>2127-09-22 02:37:00</td>\n      <td>2127-09-22 03:10:00</td>\n      <td>0 days 00:02:21</td>\n    </tr>\n    <tr>\n      <th>158247</th>\n      <td>20097685.0</td>\n      <td>2202-04-02 19:43:00</td>\n      <td>2202-04-03 05:04:00</td>\n      <td>2202-04-02 22:00:00</td>\n      <td>2202-04-03 08:40:00</td>\n      <td>0 days 07:04:00</td>\n    </tr>\n    <tr>\n      <th>158343</th>\n      <td>29466646.0</td>\n      <td>2172-02-18 17:05:00</td>\n      <td>2172-02-18 19:47:30</td>\n      <td>2172-02-18 19:46:00</td>\n      <td>2172-02-18 21:47:00</td>\n      <td>0 days 00:01:30</td>\n    </tr>\n    <tr>\n      <th>158367</th>\n      <td>23463456.0</td>\n      <td>2135-06-10 14:41:00</td>\n      <td>2135-06-10 17:26:55</td>\n      <td>2135-06-10 17:26:00</td>\n      <td>2135-06-10 18:45:00</td>\n      <td>0 days 00:00:55</td>\n    </tr>\n  </tbody>\n</table>\n<p>154265 rows × 6 columns</p>\n</div>"
     },
     "execution_count": 103,
     "metadata": {},
     "output_type": "execute_result"
    }
   ],
   "source": [
    "ed_any_4=ed_any_3[(ed_any_3['outtime']-ed_any_3['intime']<='0 days 24:00:00')&(ed_any_3['outtime']-ed_any_3['intime']>'0 days 01:00:00')]\n",
    "ed_any_4"
   ],
   "metadata": {
    "collapsed": false,
    "ExecuteTime": {
     "end_time": "2024-03-06T05:07:29.845862800Z",
     "start_time": "2024-03-06T05:07:29.820715200Z"
    }
   }
  },
  {
   "cell_type": "code",
   "execution_count": 104,
   "outputs": [
    {
     "data": {
      "text/plain": "count                       154265\nmean     0 days 01:14:58.353884549\nstd      0 days 01:02:28.441641040\nmin              -1 days +20:06:14\n1%                 0 days 00:00:38\n10%                0 days 00:01:11\n25%                0 days 00:10:00\n50%                0 days 01:16:00\n75%                0 days 01:46:00\n90%                0 days 02:21:00\n99%                0 days 04:22:00\nmax                0 days 22:51:00\nName: ed_out_to_hos_in, dtype: object"
     },
     "execution_count": 104,
     "metadata": {},
     "output_type": "execute_result"
    }
   ],
   "source": [
    "ed_any_4['ed_out_to_hos_in'].describe([0.01,0.1,0.25,0.5,0.75,0.9,0.99])"
   ],
   "metadata": {
    "collapsed": false,
    "ExecuteTime": {
     "end_time": "2024-03-06T05:08:38.273121200Z",
     "start_time": "2024-03-06T05:08:38.236163600Z"
    }
   }
  },
  {
   "cell_type": "code",
   "execution_count": 65,
   "outputs": [],
   "source": [
    "filt_data=ed_any_2[ed_any_2['ed_out_to_hos_in']<'1 days 00:00:00']"
   ],
   "metadata": {
    "collapsed": false,
    "ExecuteTime": {
     "end_time": "2024-03-04T13:05:52.705314300Z",
     "start_time": "2024-03-04T13:05:52.681667Z"
    }
   }
  },
  {
   "cell_type": "code",
   "execution_count": 105,
   "outputs": [
    {
     "name": "stderr",
     "output_type": "stream",
     "text": [
      "C:\\Users\\DAHS\\AppData\\Local\\Temp\\ipykernel_21740\\273109306.py:2: SettingWithCopyWarning: \n",
      "A value is trying to be set on a copy of a slice from a DataFrame.\n",
      "Try using .loc[row_indexer,col_indexer] = value instead\n",
      "\n",
      "See the caveats in the documentation: https://pandas.pydata.org/pandas-docs/stable/user_guide/indexing.html#returning-a-view-versus-a-copy\n",
      "  ed_any_4['ed_out_to_hos_in_min'] = ed_any_4['ed_out_to_hos_in'].dt.total_seconds()/ 60\n"
     ]
    },
    {
     "data": {
      "text/plain": "<Figure size 640x480 with 1 Axes>",
      "image/png": "[encoded data removed]"
     },
     "metadata": {},
     "output_type": "display_data"
    }
   ],
   "source": [
    "import matplotlib.pyplot as plt\n",
    "ed_any_4['ed_out_to_hos_in_min'] = ed_any_4['ed_out_to_hos_in'].dt.total_seconds()/ 60\n",
    "\n",
    "# 히스토그램 그리기\n",
    "plt.hist(ed_any_4['ed_out_to_hos_in_min'], bins=500, color='skyblue')\n",
    "plt.xlabel('ED Out to Hospital In (min)')\n",
    "plt.ylabel('Frequency')\n",
    "plt.title('Histogram of ED Out to Hospital In')\n",
    "plt.xlim(-100, 400)\n",
    "\n",
    "plt.show()"
   ],
   "metadata": {
    "collapsed": false,
    "ExecuteTime": {
     "end_time": "2024-03-06T05:18:11.314184600Z",
     "start_time": "2024-03-06T05:18:10.929487800Z"
    }
   }
  },
  {
   "cell_type": "code",
   "execution_count": 82,
   "outputs": [
    {
     "data": {
      "text/plain": "count    157148.000000\nmean         75.057405\nstd          66.701546\nmin       -2818.000000\n1%            0.616667\n10%           1.183333\n25%           6.000000\n50%          76.000000\n75%         106.000000\n90%         142.000000\n99%         265.000000\nmax        1425.000000\nName: ed_out_to_hos_in_min, dtype: float64"
     },
     "execution_count": 82,
     "metadata": {},
     "output_type": "execute_result"
    }
   ],
   "source": [
    "filt_data['ed_out_to_hos_in_min'].describe([0.01,0.1,0.25,0.5,0.75,0.9,0.99])"
   ],
   "metadata": {
    "collapsed": false,
    "ExecuteTime": {
     "end_time": "2024-03-04T13:56:14.899251700Z",
     "start_time": "2024-03-04T13:56:14.875297800Z"
    }
   }
  },
  {
   "cell_type": "code",
   "execution_count": null,
   "outputs": [],
   "source": [],
   "metadata": {
    "collapsed": false
   }
  },
  {
   "cell_type": "code",
   "execution_count": 34,
   "outputs": [],
   "source": [
    "hos_time=pd.to_datetime(ed_any_2['dischtime'])-pd.to_datetime(ed_any_2['admittime'])\n",
    "#icu_time=pd.to_datetime(ed_any_2['icu_outtime'])-pd.to_datetime(ed_any_2['icu_intime'])"
   ],
   "metadata": {
    "collapsed": false,
    "ExecuteTime": {
     "end_time": "2024-03-04T12:49:37.838758800Z",
     "start_time": "2024-03-04T12:49:37.832434300Z"
    }
   }
  },
  {
   "cell_type": "code",
   "execution_count": 85,
   "outputs": [
    {
     "data": {
      "text/plain": "count                        157196\nmean      5 days 05:34:01.386294816\nstd       6 days 18:55:06.037407184\nmin                 0 days 00:02:00\n1%                  0 days 06:13:00\n10%                 0 days 22:11:00\n25%                 1 days 19:20:00\n50%                 3 days 09:32:30\n75%                 6 days 01:12:15\n90%                10 days 20:16:00\n99%      32 days 13:24:20.999999995\nmax               249 days 14:03:00\ndtype: object"
     },
     "execution_count": 85,
     "metadata": {},
     "output_type": "execute_result"
    }
   ],
   "source": [
    "hos_time.describe([0.01,0.1,0.25,0.5,0.75,0.9,0.99]) # 일반병동 체류시간"
   ],
   "metadata": {
    "collapsed": false,
    "ExecuteTime": {
     "end_time": "2024-03-04T14:25:44.215132100Z",
     "start_time": "2024-03-04T14:25:44.188440100Z"
    }
   }
  },
  {
   "cell_type": "code",
   "execution_count": 107,
   "outputs": [
    {
     "ename": "KeyError",
     "evalue": "\"['intime', 'outtime'] not in index\"",
     "output_type": "error",
     "traceback": [
      "\u001B[1;31m---------------------------------------------------------------------------\u001B[0m",
      "\u001B[1;31mKeyError\u001B[0m                                  Traceback (most recent call last)",
      "Cell \u001B[1;32mIn[107], line 1\u001B[0m\n\u001B[1;32m----> 1\u001B[0m icu\u001B[38;5;241m=\u001B[39micu[[\u001B[38;5;124m'\u001B[39m\u001B[38;5;124mhadm_id\u001B[39m\u001B[38;5;124m'\u001B[39m,\u001B[38;5;124m'\u001B[39m\u001B[38;5;124mintime\u001B[39m\u001B[38;5;124m'\u001B[39m,\u001B[38;5;124m'\u001B[39m\u001B[38;5;124mouttime\u001B[39m\u001B[38;5;124m'\u001B[39m]]\n\u001B[0;32m      2\u001B[0m icu\u001B[38;5;241m.\u001B[39mrename(columns\u001B[38;5;241m=\u001B[39m{\u001B[38;5;124m'\u001B[39m\u001B[38;5;124mintime\u001B[39m\u001B[38;5;124m'\u001B[39m: \u001B[38;5;124m'\u001B[39m\u001B[38;5;124micu_intime\u001B[39m\u001B[38;5;124m'\u001B[39m, \u001B[38;5;124m'\u001B[39m\u001B[38;5;124mouttime\u001B[39m\u001B[38;5;124m'\u001B[39m: \u001B[38;5;124m'\u001B[39m\u001B[38;5;124micu_outtime\u001B[39m\u001B[38;5;124m'\u001B[39m}, inplace\u001B[38;5;241m=\u001B[39m\u001B[38;5;28;01mTrue\u001B[39;00m)\n",
      "File \u001B[1;32m~\\AppData\\Local\\anaconda3\\Lib\\site-packages\\pandas\\core\\frame.py:3813\u001B[0m, in \u001B[0;36mDataFrame.__getitem__\u001B[1;34m(self, key)\u001B[0m\n\u001B[0;32m   3811\u001B[0m     \u001B[38;5;28;01mif\u001B[39;00m is_iterator(key):\n\u001B[0;32m   3812\u001B[0m         key \u001B[38;5;241m=\u001B[39m \u001B[38;5;28mlist\u001B[39m(key)\n\u001B[1;32m-> 3813\u001B[0m     indexer \u001B[38;5;241m=\u001B[39m \u001B[38;5;28mself\u001B[39m\u001B[38;5;241m.\u001B[39mcolumns\u001B[38;5;241m.\u001B[39m_get_indexer_strict(key, \u001B[38;5;124m\"\u001B[39m\u001B[38;5;124mcolumns\u001B[39m\u001B[38;5;124m\"\u001B[39m)[\u001B[38;5;241m1\u001B[39m]\n\u001B[0;32m   3815\u001B[0m \u001B[38;5;66;03m# take() does not accept boolean indexers\u001B[39;00m\n\u001B[0;32m   3816\u001B[0m \u001B[38;5;28;01mif\u001B[39;00m \u001B[38;5;28mgetattr\u001B[39m(indexer, \u001B[38;5;124m\"\u001B[39m\u001B[38;5;124mdtype\u001B[39m\u001B[38;5;124m\"\u001B[39m, \u001B[38;5;28;01mNone\u001B[39;00m) \u001B[38;5;241m==\u001B[39m \u001B[38;5;28mbool\u001B[39m:\n",
      "File \u001B[1;32m~\\AppData\\Local\\anaconda3\\Lib\\site-packages\\pandas\\core\\indexes\\base.py:6070\u001B[0m, in \u001B[0;36mIndex._get_indexer_strict\u001B[1;34m(self, key, axis_name)\u001B[0m\n\u001B[0;32m   6067\u001B[0m \u001B[38;5;28;01melse\u001B[39;00m:\n\u001B[0;32m   6068\u001B[0m     keyarr, indexer, new_indexer \u001B[38;5;241m=\u001B[39m \u001B[38;5;28mself\u001B[39m\u001B[38;5;241m.\u001B[39m_reindex_non_unique(keyarr)\n\u001B[1;32m-> 6070\u001B[0m \u001B[38;5;28mself\u001B[39m\u001B[38;5;241m.\u001B[39m_raise_if_missing(keyarr, indexer, axis_name)\n\u001B[0;32m   6072\u001B[0m keyarr \u001B[38;5;241m=\u001B[39m \u001B[38;5;28mself\u001B[39m\u001B[38;5;241m.\u001B[39mtake(indexer)\n\u001B[0;32m   6073\u001B[0m \u001B[38;5;28;01mif\u001B[39;00m \u001B[38;5;28misinstance\u001B[39m(key, Index):\n\u001B[0;32m   6074\u001B[0m     \u001B[38;5;66;03m# GH 42790 - Preserve name from an Index\u001B[39;00m\n",
      "File \u001B[1;32m~\\AppData\\Local\\anaconda3\\Lib\\site-packages\\pandas\\core\\indexes\\base.py:6133\u001B[0m, in \u001B[0;36mIndex._raise_if_missing\u001B[1;34m(self, key, indexer, axis_name)\u001B[0m\n\u001B[0;32m   6130\u001B[0m     \u001B[38;5;28;01mraise\u001B[39;00m \u001B[38;5;167;01mKeyError\u001B[39;00m(\u001B[38;5;124mf\u001B[39m\u001B[38;5;124m\"\u001B[39m\u001B[38;5;124mNone of [\u001B[39m\u001B[38;5;132;01m{\u001B[39;00mkey\u001B[38;5;132;01m}\u001B[39;00m\u001B[38;5;124m] are in the [\u001B[39m\u001B[38;5;132;01m{\u001B[39;00maxis_name\u001B[38;5;132;01m}\u001B[39;00m\u001B[38;5;124m]\u001B[39m\u001B[38;5;124m\"\u001B[39m)\n\u001B[0;32m   6132\u001B[0m not_found \u001B[38;5;241m=\u001B[39m \u001B[38;5;28mlist\u001B[39m(ensure_index(key)[missing_mask\u001B[38;5;241m.\u001B[39mnonzero()[\u001B[38;5;241m0\u001B[39m]]\u001B[38;5;241m.\u001B[39munique())\n\u001B[1;32m-> 6133\u001B[0m \u001B[38;5;28;01mraise\u001B[39;00m \u001B[38;5;167;01mKeyError\u001B[39;00m(\u001B[38;5;124mf\u001B[39m\u001B[38;5;124m\"\u001B[39m\u001B[38;5;132;01m{\u001B[39;00mnot_found\u001B[38;5;132;01m}\u001B[39;00m\u001B[38;5;124m not in index\u001B[39m\u001B[38;5;124m\"\u001B[39m)\n",
      "\u001B[1;31mKeyError\u001B[0m: \"['intime', 'outtime'] not in index\""
     ]
    }
   ],
   "source": [
    "icu=icu[['hadm_id','intime','outtime']]\n",
    "icu.rename(columns={'intime': 'icu_intime', 'outtime': 'icu_outtime'}, inplace=True)"
   ],
   "metadata": {
    "collapsed": false,
    "ExecuteTime": {
     "end_time": "2024-03-06T05:24:08.788344100Z",
     "start_time": "2024-03-06T05:24:08.712025900Z"
    }
   }
  },
  {
   "cell_type": "code",
   "execution_count": 108,
   "outputs": [],
   "source": [
    "icu=icu[icu['hadm_id'].isin(ed_any_4['hadm_id'])]\n",
    "icu=icu[icu['icu_intime']<icu['icu_outtime']]"
   ],
   "metadata": {
    "collapsed": false,
    "ExecuteTime": {
     "end_time": "2024-03-06T05:24:30.259585400Z",
     "start_time": "2024-03-06T05:24:30.229301600Z"
    }
   }
  },
  {
   "cell_type": "code",
   "execution_count": 109,
   "outputs": [],
   "source": [
    "ed_any_5=pd.merge(ed_any_4,icu,on='hadm_id',how='left')"
   ],
   "metadata": {
    "collapsed": false,
    "ExecuteTime": {
     "end_time": "2024-03-06T05:24:34.611135Z",
     "start_time": "2024-03-06T05:24:34.546389100Z"
    }
   }
  },
  {
   "cell_type": "code",
   "execution_count": 110,
   "outputs": [
    {
     "data": {
      "text/plain": "           hadm_id              intime             outtime  \\\n0       22595853.0 2180-05-06 19:17:00 2180-05-06 23:30:00   \n1       22841357.0 2180-06-26 15:54:00 2180-06-26 21:31:00   \n2       25742920.0 2180-08-05 20:58:00 2180-08-06 01:44:00   \n3       29079034.0 2180-07-23 05:54:00 2180-07-23 14:00:00   \n4       23052089.0 2160-11-20 20:36:00 2160-11-21 03:20:00   \n...            ...                 ...                 ...   \n157482  29048248.0 2183-12-07 13:13:00 2183-12-07 17:17:39   \n157483  28045620.0 2127-09-21 08:42:00 2127-09-22 02:39:21   \n157484  20097685.0 2202-04-02 19:43:00 2202-04-03 05:04:00   \n157485  29466646.0 2172-02-18 17:05:00 2172-02-18 19:47:30   \n157486  23463456.0 2135-06-10 14:41:00 2135-06-10 17:26:55   \n\n                 admittime           dischtime ed_out_to_hos_in  \\\n0      2180-05-06 22:23:00 2180-05-07 17:15:00  0 days 01:07:00   \n1      2180-06-26 18:27:00 2180-06-27 18:49:00  0 days 03:04:00   \n2      2180-08-05 23:44:00 2180-08-07 17:50:00  0 days 02:00:00   \n3      2180-07-23 12:35:00 2180-07-25 17:55:00  0 days 01:25:00   \n4      2160-11-21 01:56:00 2160-11-25 14:52:00  0 days 01:24:00   \n...                    ...                 ...              ...   \n157482 2183-12-07 17:16:00 2183-12-11 17:36:00  0 days 00:01:39   \n157483 2127-09-22 02:37:00 2127-09-22 03:10:00  0 days 00:02:21   \n157484 2202-04-02 22:00:00 2202-04-03 08:40:00  0 days 07:04:00   \n157485 2172-02-18 19:46:00 2172-02-18 21:47:00  0 days 00:01:30   \n157486 2135-06-10 17:26:00 2135-06-10 18:45:00  0 days 00:00:55   \n\n        ed_out_to_hos_in_min           icu_intime          icu_outtime  \n0                  67.000000                  NaN                  NaN  \n1                 184.000000                  NaN                  NaN  \n2                 120.000000                  NaN                  NaN  \n3                  85.000000  2180-07-23 14:00:00  2180-07-23 23:50:47  \n4                  84.000000                  NaN                  NaN  \n...                      ...                  ...                  ...  \n157482              1.650000  2183-12-07 20:38:26  2183-12-08 21:35:50  \n157483              2.350000                  NaN                  NaN  \n157484            424.000000                  NaN                  NaN  \n157485              1.500000                  NaN                  NaN  \n157486              0.916667                  NaN                  NaN  \n\n[157487 rows x 9 columns]",
      "text/html": "<div>\n<style scoped>\n    .dataframe tbody tr th:only-of-type {\n        vertical-align: middle;\n    }\n\n    .dataframe tbody tr th {\n        vertical-align: top;\n    }\n\n    .dataframe thead th {\n        text-align: right;\n    }\n</style>\n<table border=\"1\" class=\"dataframe\">\n  <thead>\n    <tr style=\"text-align: right;\">\n      <th></th>\n      <th>hadm_id</th>\n      <th>intime</th>\n      <th>outtime</th>\n      <th>admittime</th>\n      <th>dischtime</th>\n      <th>ed_out_to_hos_in</th>\n      <th>ed_out_to_hos_in_min</th>\n      <th>icu_intime</th>\n      <th>icu_outtime</th>\n    </tr>\n  </thead>\n  <tbody>\n    <tr>\n      <th>0</th>\n      <td>22595853.0</td>\n      <td>2180-05-06 19:17:00</td>\n      <td>2180-05-06 23:30:00</td>\n      <td>2180-05-06 22:23:00</td>\n      <td>2180-05-07 17:15:00</td>\n      <td>0 days 01:07:00</td>\n      <td>67.000000</td>\n      <td>NaN</td>\n      <td>NaN</td>\n    </tr>\n    <tr>\n      <th>1</th>\n      <td>22841357.0</td>\n      <td>2180-06-26 15:54:00</td>\n      <td>2180-06-26 21:31:00</td>\n      <td>2180-06-26 18:27:00</td>\n      <td>2180-06-27 18:49:00</td>\n      <td>0 days 03:04:00</td>\n      <td>184.000000</td>\n      <td>NaN</td>\n      <td>NaN</td>\n    </tr>\n    <tr>\n      <th>2</th>\n      <td>25742920.0</td>\n      <td>2180-08-05 20:58:00</td>\n      <td>2180-08-06 01:44:00</td>\n      <td>2180-08-05 23:44:00</td>\n      <td>2180-08-07 17:50:00</td>\n      <td>0 days 02:00:00</td>\n      <td>120.000000</td>\n      <td>NaN</td>\n      <td>NaN</td>\n    </tr>\n    <tr>\n      <th>3</th>\n      <td>29079034.0</td>\n      <td>2180-07-23 05:54:00</td>\n      <td>2180-07-23 14:00:00</td>\n      <td>2180-07-23 12:35:00</td>\n      <td>2180-07-25 17:55:00</td>\n      <td>0 days 01:25:00</td>\n      <td>85.000000</td>\n      <td>2180-07-23 14:00:00</td>\n      <td>2180-07-23 23:50:47</td>\n    </tr>\n    <tr>\n      <th>4</th>\n      <td>23052089.0</td>\n      <td>2160-11-20 20:36:00</td>\n      <td>2160-11-21 03:20:00</td>\n      <td>2160-11-21 01:56:00</td>\n      <td>2160-11-25 14:52:00</td>\n      <td>0 days 01:24:00</td>\n      <td>84.000000</td>\n      <td>NaN</td>\n      <td>NaN</td>\n    </tr>\n    <tr>\n      <th>...</th>\n      <td>...</td>\n      <td>...</td>\n      <td>...</td>\n      <td>...</td>\n      <td>...</td>\n      <td>...</td>\n      <td>...</td>\n      <td>...</td>\n      <td>...</td>\n    </tr>\n    <tr>\n      <th>157482</th>\n      <td>29048248.0</td>\n      <td>2183-12-07 13:13:00</td>\n      <td>2183-12-07 17:17:39</td>\n      <td>2183-12-07 17:16:00</td>\n      <td>2183-12-11 17:36:00</td>\n      <td>0 days 00:01:39</td>\n      <td>1.650000</td>\n      <td>2183-12-07 20:38:26</td>\n      <td>2183-12-08 21:35:50</td>\n    </tr>\n    <tr>\n      <th>157483</th>\n      <td>28045620.0</td>\n      <td>2127-09-21 08:42:00</td>\n      <td>2127-09-22 02:39:21</td>\n      <td>2127-09-22 02:37:00</td>\n      <td>2127-09-22 03:10:00</td>\n      <td>0 days 00:02:21</td>\n      <td>2.350000</td>\n      <td>NaN</td>\n      <td>NaN</td>\n    </tr>\n    <tr>\n      <th>157484</th>\n      <td>20097685.0</td>\n      <td>2202-04-02 19:43:00</td>\n      <td>2202-04-03 05:04:00</td>\n      <td>2202-04-02 22:00:00</td>\n      <td>2202-04-03 08:40:00</td>\n      <td>0 days 07:04:00</td>\n      <td>424.000000</td>\n      <td>NaN</td>\n      <td>NaN</td>\n    </tr>\n    <tr>\n      <th>157485</th>\n      <td>29466646.0</td>\n      <td>2172-02-18 17:05:00</td>\n      <td>2172-02-18 19:47:30</td>\n      <td>2172-02-18 19:46:00</td>\n      <td>2172-02-18 21:47:00</td>\n      <td>0 days 00:01:30</td>\n      <td>1.500000</td>\n      <td>NaN</td>\n      <td>NaN</td>\n    </tr>\n    <tr>\n      <th>157486</th>\n      <td>23463456.0</td>\n      <td>2135-06-10 14:41:00</td>\n      <td>2135-06-10 17:26:55</td>\n      <td>2135-06-10 17:26:00</td>\n      <td>2135-06-10 18:45:00</td>\n      <td>0 days 00:00:55</td>\n      <td>0.916667</td>\n      <td>NaN</td>\n      <td>NaN</td>\n    </tr>\n  </tbody>\n</table>\n<p>157487 rows × 9 columns</p>\n</div>"
     },
     "execution_count": 110,
     "metadata": {},
     "output_type": "execute_result"
    }
   ],
   "source": [
    "ed_any_5"
   ],
   "metadata": {
    "collapsed": false,
    "ExecuteTime": {
     "end_time": "2024-03-06T05:24:37.513717Z",
     "start_time": "2024-03-06T05:24:37.473796500Z"
    }
   }
  },
  {
   "cell_type": "code",
   "execution_count": 91,
   "outputs": [],
   "source": [
    "ed_any_3=ed_any_3[ed_any_3['ed_out_to_hos_in']<'0 days 04:00:00']"
   ],
   "metadata": {
    "collapsed": false,
    "ExecuteTime": {
     "end_time": "2024-03-05T00:41:05.908973800Z",
     "start_time": "2024-03-05T00:41:05.868314Z"
    }
   }
  },
  {
   "cell_type": "code",
   "execution_count": 106,
   "outputs": [
    {
     "data": {
      "text/plain": "count                        154265\nmean      5 days 05:19:52.133666094\nstd       6 days 18:44:35.504490784\nmin                 0 days 00:02:00\n1%                  0 days 06:16:00\n10%                 0 days 22:10:00\n25%                 1 days 19:17:00\n50%                 3 days 09:26:00\n75%                 6 days 00:53:00\n96.1%    17 days 19:42:13.439999999\n99%      32 days 13:08:43.199999998\nmax               249 days 14:03:00\ndtype: object"
     },
     "execution_count": 106,
     "metadata": {},
     "output_type": "execute_result"
    }
   ],
   "source": [
    "hos_time=pd.to_datetime(ed_any_4['dischtime'])-pd.to_datetime(ed_any_4['admittime'])\n",
    "hos_time.describe([0.01,0.1,0.25,0.5,0.75,0.961,0.99])"
   ],
   "metadata": {
    "collapsed": false,
    "ExecuteTime": {
     "end_time": "2024-03-06T05:22:13.271892100Z",
     "start_time": "2024-03-06T05:22:13.234888100Z"
    }
   }
  },
  {
   "cell_type": "code",
   "execution_count": 122,
   "outputs": [],
   "source": [
    "ed_any_5 = ed_any_5.drop('hos', axis=1)"
   ],
   "metadata": {
    "collapsed": false,
    "ExecuteTime": {
     "end_time": "2024-03-06T05:38:11.601005300Z",
     "start_time": "2024-03-06T05:38:11.577321600Z"
    }
   }
  },
  {
   "cell_type": "code",
   "execution_count": 123,
   "outputs": [
    {
     "data": {
      "text/plain": "           hadm_id              intime             outtime  \\\n0       22595853.0 2180-05-06 19:17:00 2180-05-06 23:30:00   \n1       22841357.0 2180-06-26 15:54:00 2180-06-26 21:31:00   \n2       25742920.0 2180-08-05 20:58:00 2180-08-06 01:44:00   \n3       29079034.0 2180-07-23 05:54:00 2180-07-23 14:00:00   \n4       23052089.0 2160-11-20 20:36:00 2160-11-21 03:20:00   \n...            ...                 ...                 ...   \n157482  29048248.0 2183-12-07 13:13:00 2183-12-07 17:17:39   \n157483  28045620.0 2127-09-21 08:42:00 2127-09-22 02:39:21   \n157484  20097685.0 2202-04-02 19:43:00 2202-04-03 05:04:00   \n157485  29466646.0 2172-02-18 17:05:00 2172-02-18 19:47:30   \n157486  23463456.0 2135-06-10 14:41:00 2135-06-10 17:26:55   \n\n                 admittime           dischtime ed_out_to_hos_in  \\\n0      2180-05-06 22:23:00 2180-05-07 17:15:00  0 days 01:07:00   \n1      2180-06-26 18:27:00 2180-06-27 18:49:00  0 days 03:04:00   \n2      2180-08-05 23:44:00 2180-08-07 17:50:00  0 days 02:00:00   \n3      2180-07-23 12:35:00 2180-07-25 17:55:00  0 days 01:25:00   \n4      2160-11-21 01:56:00 2160-11-25 14:52:00  0 days 01:24:00   \n...                    ...                 ...              ...   \n157482 2183-12-07 17:16:00 2183-12-11 17:36:00  0 days 00:01:39   \n157483 2127-09-22 02:37:00 2127-09-22 03:10:00  0 days 00:02:21   \n157484 2202-04-02 22:00:00 2202-04-03 08:40:00  0 days 07:04:00   \n157485 2172-02-18 19:46:00 2172-02-18 21:47:00  0 days 00:01:30   \n157486 2135-06-10 17:26:00 2135-06-10 18:45:00  0 days 00:00:55   \n\n        ed_out_to_hos_in_min           icu_intime          icu_outtime  \n0                  67.000000                  NaN                  NaN  \n1                 184.000000                  NaN                  NaN  \n2                 120.000000                  NaN                  NaN  \n3                  85.000000  2180-07-23 14:00:00  2180-07-23 23:50:47  \n4                  84.000000                  NaN                  NaN  \n...                      ...                  ...                  ...  \n157482              1.650000  2183-12-07 20:38:26  2183-12-08 21:35:50  \n157483              2.350000                  NaN                  NaN  \n157484            424.000000                  NaN                  NaN  \n157485              1.500000                  NaN                  NaN  \n157486              0.916667                  NaN                  NaN  \n\n[157487 rows x 9 columns]",
      "text/html": "<div>\n<style scoped>\n    .dataframe tbody tr th:only-of-type {\n        vertical-align: middle;\n    }\n\n    .dataframe tbody tr th {\n        vertical-align: top;\n    }\n\n    .dataframe thead th {\n        text-align: right;\n    }\n</style>\n<table border=\"1\" class=\"dataframe\">\n  <thead>\n    <tr style=\"text-align: right;\">\n      <th></th>\n      <th>hadm_id</th>\n      <th>intime</th>\n      <th>outtime</th>\n      <th>admittime</th>\n      <th>dischtime</th>\n      <th>ed_out_to_hos_in</th>\n      <th>ed_out_to_hos_in_min</th>\n      <th>icu_intime</th>\n      <th>icu_outtime</th>\n    </tr>\n  </thead>\n  <tbody>\n    <tr>\n      <th>0</th>\n      <td>22595853.0</td>\n      <td>2180-05-06 19:17:00</td>\n      <td>2180-05-06 23:30:00</td>\n      <td>2180-05-06 22:23:00</td>\n      <td>2180-05-07 17:15:00</td>\n      <td>0 days 01:07:00</td>\n      <td>67.000000</td>\n      <td>NaN</td>\n      <td>NaN</td>\n    </tr>\n    <tr>\n      <th>1</th>\n      <td>22841357.0</td>\n      <td>2180-06-26 15:54:00</td>\n      <td>2180-06-26 21:31:00</td>\n      <td>2180-06-26 18:27:00</td>\n      <td>2180-06-27 18:49:00</td>\n      <td>0 days 03:04:00</td>\n      <td>184.000000</td>\n      <td>NaN</td>\n      <td>NaN</td>\n    </tr>\n    <tr>\n      <th>2</th>\n      <td>25742920.0</td>\n      <td>2180-08-05 20:58:00</td>\n      <td>2180-08-06 01:44:00</td>\n      <td>2180-08-05 23:44:00</td>\n      <td>2180-08-07 17:50:00</td>\n      <td>0 days 02:00:00</td>\n      <td>120.000000</td>\n      <td>NaN</td>\n      <td>NaN</td>\n    </tr>\n    <tr>\n      <th>3</th>\n      <td>29079034.0</td>\n      <td>2180-07-23 05:54:00</td>\n      <td>2180-07-23 14:00:00</td>\n      <td>2180-07-23 12:35:00</td>\n      <td>2180-07-25 17:55:00</td>\n      <td>0 days 01:25:00</td>\n      <td>85.000000</td>\n      <td>2180-07-23 14:00:00</td>\n      <td>2180-07-23 23:50:47</td>\n    </tr>\n    <tr>\n      <th>4</th>\n      <td>23052089.0</td>\n      <td>2160-11-20 20:36:00</td>\n      <td>2160-11-21 03:20:00</td>\n      <td>2160-11-21 01:56:00</td>\n      <td>2160-11-25 14:52:00</td>\n      <td>0 days 01:24:00</td>\n      <td>84.000000</td>\n      <td>NaN</td>\n      <td>NaN</td>\n    </tr>\n    <tr>\n      <th>...</th>\n      <td>...</td>\n      <td>...</td>\n      <td>...</td>\n      <td>...</td>\n      <td>...</td>\n      <td>...</td>\n      <td>...</td>\n      <td>...</td>\n      <td>...</td>\n    </tr>\n    <tr>\n      <th>157482</th>\n      <td>29048248.0</td>\n      <td>2183-12-07 13:13:00</td>\n      <td>2183-12-07 17:17:39</td>\n      <td>2183-12-07 17:16:00</td>\n      <td>2183-12-11 17:36:00</td>\n      <td>0 days 00:01:39</td>\n      <td>1.650000</td>\n      <td>2183-12-07 20:38:26</td>\n      <td>2183-12-08 21:35:50</td>\n    </tr>\n    <tr>\n      <th>157483</th>\n      <td>28045620.0</td>\n      <td>2127-09-21 08:42:00</td>\n      <td>2127-09-22 02:39:21</td>\n      <td>2127-09-22 02:37:00</td>\n      <td>2127-09-22 03:10:00</td>\n      <td>0 days 00:02:21</td>\n      <td>2.350000</td>\n      <td>NaN</td>\n      <td>NaN</td>\n    </tr>\n    <tr>\n      <th>157484</th>\n      <td>20097685.0</td>\n      <td>2202-04-02 19:43:00</td>\n      <td>2202-04-03 05:04:00</td>\n      <td>2202-04-02 22:00:00</td>\n      <td>2202-04-03 08:40:00</td>\n      <td>0 days 07:04:00</td>\n      <td>424.000000</td>\n      <td>NaN</td>\n      <td>NaN</td>\n    </tr>\n    <tr>\n      <th>157485</th>\n      <td>29466646.0</td>\n      <td>2172-02-18 17:05:00</td>\n      <td>2172-02-18 19:47:30</td>\n      <td>2172-02-18 19:46:00</td>\n      <td>2172-02-18 21:47:00</td>\n      <td>0 days 00:01:30</td>\n      <td>1.500000</td>\n      <td>NaN</td>\n      <td>NaN</td>\n    </tr>\n    <tr>\n      <th>157486</th>\n      <td>23463456.0</td>\n      <td>2135-06-10 14:41:00</td>\n      <td>2135-06-10 17:26:55</td>\n      <td>2135-06-10 17:26:00</td>\n      <td>2135-06-10 18:45:00</td>\n      <td>0 days 00:00:55</td>\n      <td>0.916667</td>\n      <td>NaN</td>\n      <td>NaN</td>\n    </tr>\n  </tbody>\n</table>\n<p>157487 rows × 9 columns</p>\n</div>"
     },
     "execution_count": 123,
     "metadata": {},
     "output_type": "execute_result"
    }
   ],
   "source": [
    "ed_any_5"
   ],
   "metadata": {
    "collapsed": false,
    "ExecuteTime": {
     "end_time": "2024-03-06T05:38:11.958592800Z",
     "start_time": "2024-03-06T05:38:11.928635600Z"
    }
   }
  },
  {
   "cell_type": "code",
   "execution_count": 124,
   "outputs": [],
   "source": [
    "from datetime import timedelta\n",
    "\n",
    "def hosp_condition(ed_any_5):\n",
    "    #hour_after = ed_any_3['outtime'] + timedelta(hours=4)\n",
    "    if ed_any_5['dischtime']-ed_any_5['admittime'] > timedelta(hours=24):\n",
    "        return 1\n",
    "    else:\n",
    "        return 0\n",
    "\n",
    "ed_any_5['hos']=ed_any_5.apply(hosp_condition, axis=1)"
   ],
   "metadata": {
    "collapsed": false,
    "ExecuteTime": {
     "end_time": "2024-03-06T05:38:15.761428700Z",
     "start_time": "2024-03-06T05:38:12.670927200Z"
    }
   }
  },
  {
   "cell_type": "code",
   "execution_count": 125,
   "outputs": [
    {
     "data": {
      "text/plain": "           hadm_id              intime             outtime  \\\n1       22841357.0 2180-06-26 15:54:00 2180-06-26 21:31:00   \n2       25742920.0 2180-08-05 20:58:00 2180-08-06 01:44:00   \n3       29079034.0 2180-07-23 05:54:00 2180-07-23 14:00:00   \n4       23052089.0 2160-11-20 20:36:00 2160-11-21 03:20:00   \n6       27988844.0 2183-09-18 08:41:00 2183-09-18 20:20:00   \n...            ...                 ...                 ...   \n157477  25744818.0 2149-01-08 09:11:00 2149-01-08 18:12:00   \n157478  23865745.0 2145-11-02 19:28:00 2145-11-02 22:59:00   \n157480  23263138.0 2145-06-04 19:14:00 2145-06-05 00:52:00   \n157481  23263138.0 2145-06-04 19:14:00 2145-06-05 00:52:00   \n157482  29048248.0 2183-12-07 13:13:00 2183-12-07 17:17:39   \n\n                 admittime           dischtime ed_out_to_hos_in  \\\n1      2180-06-26 18:27:00 2180-06-27 18:49:00  0 days 03:04:00   \n2      2180-08-05 23:44:00 2180-08-07 17:50:00  0 days 02:00:00   \n3      2180-07-23 12:35:00 2180-07-25 17:55:00  0 days 01:25:00   \n4      2160-11-21 01:56:00 2160-11-25 14:52:00  0 days 01:24:00   \n6      2183-09-18 18:10:00 2183-09-21 16:30:00  0 days 02:10:00   \n...                    ...                 ...              ...   \n157477 2149-01-08 16:44:00 2149-01-18 17:00:00  0 days 01:28:00   \n157478 2145-11-02 21:38:00 2145-11-11 12:57:00  0 days 01:21:00   \n157480 2145-06-04 23:01:00 2145-08-17 15:57:00  0 days 01:51:00   \n157481 2145-06-04 23:01:00 2145-08-17 15:57:00  0 days 01:51:00   \n157482 2183-12-07 17:16:00 2183-12-11 17:36:00  0 days 00:01:39   \n\n        ed_out_to_hos_in_min           icu_intime          icu_outtime  hos  \n1                     184.00                  NaN                  NaN    1  \n2                     120.00                  NaN                  NaN    1  \n3                      85.00  2180-07-23 14:00:00  2180-07-23 23:50:47    1  \n4                      84.00                  NaN                  NaN    1  \n6                     130.00                  NaN                  NaN    1  \n...                      ...                  ...                  ...  ...  \n157477                 88.00  2149-01-08 18:12:00  2149-01-10 13:11:02    1  \n157478                 81.00  2145-11-02 22:59:00  2145-11-04 21:29:30    1  \n157480                111.00  2145-07-01 11:53:58  2145-07-05 20:02:21    1  \n157481                111.00  2145-06-05 00:52:00  2145-06-16 00:48:01    1  \n157482                  1.65  2183-12-07 20:38:26  2183-12-08 21:35:50    1  \n\n[139232 rows x 10 columns]",
      "text/html": "<div>\n<style scoped>\n    .dataframe tbody tr th:only-of-type {\n        vertical-align: middle;\n    }\n\n    .dataframe tbody tr th {\n        vertical-align: top;\n    }\n\n    .dataframe thead th {\n        text-align: right;\n    }\n</style>\n<table border=\"1\" class=\"dataframe\">\n  <thead>\n    <tr style=\"text-align: right;\">\n      <th></th>\n      <th>hadm_id</th>\n      <th>intime</th>\n      <th>outtime</th>\n      <th>admittime</th>\n      <th>dischtime</th>\n      <th>ed_out_to_hos_in</th>\n      <th>ed_out_to_hos_in_min</th>\n      <th>icu_intime</th>\n      <th>icu_outtime</th>\n      <th>hos</th>\n    </tr>\n  </thead>\n  <tbody>\n    <tr>\n      <th>1</th>\n      <td>22841357.0</td>\n      <td>2180-06-26 15:54:00</td>\n      <td>2180-06-26 21:31:00</td>\n      <td>2180-06-26 18:27:00</td>\n      <td>2180-06-27 18:49:00</td>\n      <td>0 days 03:04:00</td>\n      <td>184.00</td>\n      <td>NaN</td>\n      <td>NaN</td>\n      <td>1</td>\n    </tr>\n    <tr>\n      <th>2</th>\n      <td>25742920.0</td>\n      <td>2180-08-05 20:58:00</td>\n      <td>2180-08-06 01:44:00</td>\n      <td>2180-08-05 23:44:00</td>\n      <td>2180-08-07 17:50:00</td>\n      <td>0 days 02:00:00</td>\n      <td>120.00</td>\n      <td>NaN</td>\n      <td>NaN</td>\n      <td>1</td>\n    </tr>\n    <tr>\n      <th>3</th>\n      <td>29079034.0</td>\n      <td>2180-07-23 05:54:00</td>\n      <td>2180-07-23 14:00:00</td>\n      <td>2180-07-23 12:35:00</td>\n      <td>2180-07-25 17:55:00</td>\n      <td>0 days 01:25:00</td>\n      <td>85.00</td>\n      <td>2180-07-23 14:00:00</td>\n      <td>2180-07-23 23:50:47</td>\n      <td>1</td>\n    </tr>\n    <tr>\n      <th>4</th>\n      <td>23052089.0</td>\n      <td>2160-11-20 20:36:00</td>\n      <td>2160-11-21 03:20:00</td>\n      <td>2160-11-21 01:56:00</td>\n      <td>2160-11-25 14:52:00</td>\n      <td>0 days 01:24:00</td>\n      <td>84.00</td>\n      <td>NaN</td>\n      <td>NaN</td>\n      <td>1</td>\n    </tr>\n    <tr>\n      <th>6</th>\n      <td>27988844.0</td>\n      <td>2183-09-18 08:41:00</td>\n      <td>2183-09-18 20:20:00</td>\n      <td>2183-09-18 18:10:00</td>\n      <td>2183-09-21 16:30:00</td>\n      <td>0 days 02:10:00</td>\n      <td>130.00</td>\n      <td>NaN</td>\n      <td>NaN</td>\n      <td>1</td>\n    </tr>\n    <tr>\n      <th>...</th>\n      <td>...</td>\n      <td>...</td>\n      <td>...</td>\n      <td>...</td>\n      <td>...</td>\n      <td>...</td>\n      <td>...</td>\n      <td>...</td>\n      <td>...</td>\n      <td>...</td>\n    </tr>\n    <tr>\n      <th>157477</th>\n      <td>25744818.0</td>\n      <td>2149-01-08 09:11:00</td>\n      <td>2149-01-08 18:12:00</td>\n      <td>2149-01-08 16:44:00</td>\n      <td>2149-01-18 17:00:00</td>\n      <td>0 days 01:28:00</td>\n      <td>88.00</td>\n      <td>2149-01-08 18:12:00</td>\n      <td>2149-01-10 13:11:02</td>\n      <td>1</td>\n    </tr>\n    <tr>\n      <th>157478</th>\n      <td>23865745.0</td>\n      <td>2145-11-02 19:28:00</td>\n      <td>2145-11-02 22:59:00</td>\n      <td>2145-11-02 21:38:00</td>\n      <td>2145-11-11 12:57:00</td>\n      <td>0 days 01:21:00</td>\n      <td>81.00</td>\n      <td>2145-11-02 22:59:00</td>\n      <td>2145-11-04 21:29:30</td>\n      <td>1</td>\n    </tr>\n    <tr>\n      <th>157480</th>\n      <td>23263138.0</td>\n      <td>2145-06-04 19:14:00</td>\n      <td>2145-06-05 00:52:00</td>\n      <td>2145-06-04 23:01:00</td>\n      <td>2145-08-17 15:57:00</td>\n      <td>0 days 01:51:00</td>\n      <td>111.00</td>\n      <td>2145-07-01 11:53:58</td>\n      <td>2145-07-05 20:02:21</td>\n      <td>1</td>\n    </tr>\n    <tr>\n      <th>157481</th>\n      <td>23263138.0</td>\n      <td>2145-06-04 19:14:00</td>\n      <td>2145-06-05 00:52:00</td>\n      <td>2145-06-04 23:01:00</td>\n      <td>2145-08-17 15:57:00</td>\n      <td>0 days 01:51:00</td>\n      <td>111.00</td>\n      <td>2145-06-05 00:52:00</td>\n      <td>2145-06-16 00:48:01</td>\n      <td>1</td>\n    </tr>\n    <tr>\n      <th>157482</th>\n      <td>29048248.0</td>\n      <td>2183-12-07 13:13:00</td>\n      <td>2183-12-07 17:17:39</td>\n      <td>2183-12-07 17:16:00</td>\n      <td>2183-12-11 17:36:00</td>\n      <td>0 days 00:01:39</td>\n      <td>1.65</td>\n      <td>2183-12-07 20:38:26</td>\n      <td>2183-12-08 21:35:50</td>\n      <td>1</td>\n    </tr>\n  </tbody>\n</table>\n<p>139232 rows × 10 columns</p>\n</div>"
     },
     "execution_count": 125,
     "metadata": {},
     "output_type": "execute_result"
    }
   ],
   "source": [
    "ed_any_5[(ed_any_5[\"hos\"]==1)]"
   ],
   "metadata": {
    "collapsed": false,
    "ExecuteTime": {
     "end_time": "2024-03-06T05:38:15.784697600Z",
     "start_time": "2024-03-06T05:38:15.763415300Z"
    }
   }
  },
  {
   "cell_type": "code",
   "execution_count": 121,
   "outputs": [
    {
     "data": {
      "text/plain": "           hadm_id              intime             outtime  \\\n1       22841357.0 2180-06-26 15:54:00 2180-06-26 21:31:00   \n2       25742920.0 2180-08-05 20:58:00 2180-08-06 01:44:00   \n3       29079034.0 2180-07-23 05:54:00 2180-07-23 14:00:00   \n4       23052089.0 2160-11-20 20:36:00 2160-11-21 03:20:00   \n6       27988844.0 2183-09-18 08:41:00 2183-09-18 20:20:00   \n...            ...                 ...                 ...   \n157477  25744818.0 2149-01-08 09:11:00 2149-01-08 18:12:00   \n157478  23865745.0 2145-11-02 19:28:00 2145-11-02 22:59:00   \n157480  23263138.0 2145-06-04 19:14:00 2145-06-05 00:52:00   \n157481  23263138.0 2145-06-04 19:14:00 2145-06-05 00:52:00   \n157482  29048248.0 2183-12-07 13:13:00 2183-12-07 17:17:39   \n\n                 admittime           dischtime ed_out_to_hos_in  \\\n1      2180-06-26 18:27:00 2180-06-27 18:49:00  0 days 03:04:00   \n2      2180-08-05 23:44:00 2180-08-07 17:50:00  0 days 02:00:00   \n3      2180-07-23 12:35:00 2180-07-25 17:55:00  0 days 01:25:00   \n4      2160-11-21 01:56:00 2160-11-25 14:52:00  0 days 01:24:00   \n6      2183-09-18 18:10:00 2183-09-21 16:30:00  0 days 02:10:00   \n...                    ...                 ...              ...   \n157477 2149-01-08 16:44:00 2149-01-18 17:00:00  0 days 01:28:00   \n157478 2145-11-02 21:38:00 2145-11-11 12:57:00  0 days 01:21:00   \n157480 2145-06-04 23:01:00 2145-08-17 15:57:00  0 days 01:51:00   \n157481 2145-06-04 23:01:00 2145-08-17 15:57:00  0 days 01:51:00   \n157482 2183-12-07 17:16:00 2183-12-11 17:36:00  0 days 00:01:39   \n\n        ed_out_to_hos_in_min           icu_intime          icu_outtime  hos  \n1                     184.00                  NaN                  NaN    1  \n2                     120.00                  NaN                  NaN    1  \n3                      85.00  2180-07-23 14:00:00  2180-07-23 23:50:47    1  \n4                      84.00                  NaN                  NaN    1  \n6                     130.00                  NaN                  NaN    1  \n...                      ...                  ...                  ...  ...  \n157477                 88.00  2149-01-08 18:12:00  2149-01-10 13:11:02    1  \n157478                 81.00  2145-11-02 22:59:00  2145-11-04 21:29:30    1  \n157480                111.00  2145-07-01 11:53:58  2145-07-05 20:02:21    1  \n157481                111.00  2145-06-05 00:52:00  2145-06-16 00:48:01    1  \n157482                  1.65  2183-12-07 20:38:26  2183-12-08 21:35:50    1  \n\n[139232 rows x 10 columns]",
      "text/html": "<div>\n<style scoped>\n    .dataframe tbody tr th:only-of-type {\n        vertical-align: middle;\n    }\n\n    .dataframe tbody tr th {\n        vertical-align: top;\n    }\n\n    .dataframe thead th {\n        text-align: right;\n    }\n</style>\n<table border=\"1\" class=\"dataframe\">\n  <thead>\n    <tr style=\"text-align: right;\">\n      <th></th>\n      <th>hadm_id</th>\n      <th>intime</th>\n      <th>outtime</th>\n      <th>admittime</th>\n      <th>dischtime</th>\n      <th>ed_out_to_hos_in</th>\n      <th>ed_out_to_hos_in_min</th>\n      <th>icu_intime</th>\n      <th>icu_outtime</th>\n      <th>hos</th>\n    </tr>\n  </thead>\n  <tbody>\n    <tr>\n      <th>1</th>\n      <td>22841357.0</td>\n      <td>2180-06-26 15:54:00</td>\n      <td>2180-06-26 21:31:00</td>\n      <td>2180-06-26 18:27:00</td>\n      <td>2180-06-27 18:49:00</td>\n      <td>0 days 03:04:00</td>\n      <td>184.00</td>\n      <td>NaN</td>\n      <td>NaN</td>\n      <td>1</td>\n    </tr>\n    <tr>\n      <th>2</th>\n      <td>25742920.0</td>\n      <td>2180-08-05 20:58:00</td>\n      <td>2180-08-06 01:44:00</td>\n      <td>2180-08-05 23:44:00</td>\n      <td>2180-08-07 17:50:00</td>\n      <td>0 days 02:00:00</td>\n      <td>120.00</td>\n      <td>NaN</td>\n      <td>NaN</td>\n      <td>1</td>\n    </tr>\n    <tr>\n      <th>3</th>\n      <td>29079034.0</td>\n      <td>2180-07-23 05:54:00</td>\n      <td>2180-07-23 14:00:00</td>\n      <td>2180-07-23 12:35:00</td>\n      <td>2180-07-25 17:55:00</td>\n      <td>0 days 01:25:00</td>\n      <td>85.00</td>\n      <td>2180-07-23 14:00:00</td>\n      <td>2180-07-23 23:50:47</td>\n      <td>1</td>\n    </tr>\n    <tr>\n      <th>4</th>\n      <td>23052089.0</td>\n      <td>2160-11-20 20:36:00</td>\n      <td>2160-11-21 03:20:00</td>\n      <td>2160-11-21 01:56:00</td>\n      <td>2160-11-25 14:52:00</td>\n      <td>0 days 01:24:00</td>\n      <td>84.00</td>\n      <td>NaN</td>\n      <td>NaN</td>\n      <td>1</td>\n    </tr>\n    <tr>\n      <th>6</th>\n      <td>27988844.0</td>\n      <td>2183-09-18 08:41:00</td>\n      <td>2183-09-18 20:20:00</td>\n      <td>2183-09-18 18:10:00</td>\n      <td>2183-09-21 16:30:00</td>\n      <td>0 days 02:10:00</td>\n      <td>130.00</td>\n      <td>NaN</td>\n      <td>NaN</td>\n      <td>1</td>\n    </tr>\n    <tr>\n      <th>...</th>\n      <td>...</td>\n      <td>...</td>\n      <td>...</td>\n      <td>...</td>\n      <td>...</td>\n      <td>...</td>\n      <td>...</td>\n      <td>...</td>\n      <td>...</td>\n      <td>...</td>\n    </tr>\n    <tr>\n      <th>157477</th>\n      <td>25744818.0</td>\n      <td>2149-01-08 09:11:00</td>\n      <td>2149-01-08 18:12:00</td>\n      <td>2149-01-08 16:44:00</td>\n      <td>2149-01-18 17:00:00</td>\n      <td>0 days 01:28:00</td>\n      <td>88.00</td>\n      <td>2149-01-08 18:12:00</td>\n      <td>2149-01-10 13:11:02</td>\n      <td>1</td>\n    </tr>\n    <tr>\n      <th>157478</th>\n      <td>23865745.0</td>\n      <td>2145-11-02 19:28:00</td>\n      <td>2145-11-02 22:59:00</td>\n      <td>2145-11-02 21:38:00</td>\n      <td>2145-11-11 12:57:00</td>\n      <td>0 days 01:21:00</td>\n      <td>81.00</td>\n      <td>2145-11-02 22:59:00</td>\n      <td>2145-11-04 21:29:30</td>\n      <td>1</td>\n    </tr>\n    <tr>\n      <th>157480</th>\n      <td>23263138.0</td>\n      <td>2145-06-04 19:14:00</td>\n      <td>2145-06-05 00:52:00</td>\n      <td>2145-06-04 23:01:00</td>\n      <td>2145-08-17 15:57:00</td>\n      <td>0 days 01:51:00</td>\n      <td>111.00</td>\n      <td>2145-07-01 11:53:58</td>\n      <td>2145-07-05 20:02:21</td>\n      <td>1</td>\n    </tr>\n    <tr>\n      <th>157481</th>\n      <td>23263138.0</td>\n      <td>2145-06-04 19:14:00</td>\n      <td>2145-06-05 00:52:00</td>\n      <td>2145-06-04 23:01:00</td>\n      <td>2145-08-17 15:57:00</td>\n      <td>0 days 01:51:00</td>\n      <td>111.00</td>\n      <td>2145-06-05 00:52:00</td>\n      <td>2145-06-16 00:48:01</td>\n      <td>1</td>\n    </tr>\n    <tr>\n      <th>157482</th>\n      <td>29048248.0</td>\n      <td>2183-12-07 13:13:00</td>\n      <td>2183-12-07 17:17:39</td>\n      <td>2183-12-07 17:16:00</td>\n      <td>2183-12-11 17:36:00</td>\n      <td>0 days 00:01:39</td>\n      <td>1.65</td>\n      <td>2183-12-07 20:38:26</td>\n      <td>2183-12-08 21:35:50</td>\n      <td>1</td>\n    </tr>\n  </tbody>\n</table>\n<p>139232 rows × 10 columns</p>\n</div>"
     },
     "execution_count": 121,
     "metadata": {},
     "output_type": "execute_result"
    }
   ],
   "source": [
    "ed_any_5[(ed_any_5[\"hos\"]==1)]"
   ],
   "metadata": {
    "collapsed": false,
    "ExecuteTime": {
     "end_time": "2024-03-06T05:38:07.031348600Z",
     "start_time": "2024-03-06T05:38:07.007805400Z"
    }
   }
  },
  {
   "cell_type": "code",
   "execution_count": 87,
   "outputs": [
    {
     "data": {
      "text/plain": "           hadm_id              intime             outtime  \\\n0       22595853.0 2180-05-06 19:17:00 2180-05-06 23:30:00   \n1       22841357.0 2180-06-26 15:54:00 2180-06-26 21:31:00   \n2       25742920.0 2180-08-05 20:58:00 2180-08-06 01:44:00   \n3       29079034.0 2180-07-23 05:54:00 2180-07-23 14:00:00   \n4       23052089.0 2160-11-20 20:36:00 2160-11-21 03:20:00   \n...            ...                 ...                 ...   \n160475  28045620.0 2127-09-21 08:42:00 2127-09-22 02:39:21   \n160476  20097685.0 2202-04-02 19:43:00 2202-04-03 05:04:00   \n160477  20002712.0 2207-05-08 04:29:00 2207-05-08 05:27:23   \n160478  29466646.0 2172-02-18 17:05:00 2172-02-18 19:47:30   \n160479  23463456.0 2135-06-10 14:41:00 2135-06-10 17:26:55   \n\n                 admittime           dischtime ed_out_to_hos_in  \\\n0      2180-05-06 22:23:00 2180-05-07 17:15:00  0 days 01:07:00   \n1      2180-06-26 18:27:00 2180-06-27 18:49:00  0 days 03:04:00   \n2      2180-08-05 23:44:00 2180-08-07 17:50:00  0 days 02:00:00   \n3      2180-07-23 12:35:00 2180-07-25 17:55:00  0 days 01:25:00   \n4      2160-11-21 01:56:00 2160-11-25 14:52:00  0 days 01:24:00   \n...                    ...                 ...              ...   \n160475 2127-09-22 02:37:00 2127-09-22 03:10:00  0 days 00:02:21   \n160476 2202-04-02 22:00:00 2202-04-03 08:40:00  0 days 07:04:00   \n160477 2207-05-08 05:24:00 2207-05-08 11:15:00  0 days 00:03:23   \n160478 2172-02-18 19:46:00 2172-02-18 21:47:00  0 days 00:01:30   \n160479 2135-06-10 17:26:00 2135-06-10 18:45:00  0 days 00:00:55   \n\n                 icu_intime          icu_outtime  hos  \n0                       NaN                  NaN    0  \n1                       NaN                  NaN    0  \n2                       NaN                  NaN    1  \n3       2180-07-23 14:00:00  2180-07-23 23:50:47    1  \n4                       NaN                  NaN    1  \n...                     ...                  ...  ...  \n160475                  NaN                  NaN    0  \n160476                  NaN                  NaN    0  \n160477                  NaN                  NaN    0  \n160478                  NaN                  NaN    0  \n160479                  NaN                  NaN    0  \n\n[160480 rows x 9 columns]",
      "text/html": "<div>\n<style scoped>\n    .dataframe tbody tr th:only-of-type {\n        vertical-align: middle;\n    }\n\n    .dataframe tbody tr th {\n        vertical-align: top;\n    }\n\n    .dataframe thead th {\n        text-align: right;\n    }\n</style>\n<table border=\"1\" class=\"dataframe\">\n  <thead>\n    <tr style=\"text-align: right;\">\n      <th></th>\n      <th>hadm_id</th>\n      <th>intime</th>\n      <th>outtime</th>\n      <th>admittime</th>\n      <th>dischtime</th>\n      <th>ed_out_to_hos_in</th>\n      <th>icu_intime</th>\n      <th>icu_outtime</th>\n      <th>hos</th>\n    </tr>\n  </thead>\n  <tbody>\n    <tr>\n      <th>0</th>\n      <td>22595853.0</td>\n      <td>2180-05-06 19:17:00</td>\n      <td>2180-05-06 23:30:00</td>\n      <td>2180-05-06 22:23:00</td>\n      <td>2180-05-07 17:15:00</td>\n      <td>0 days 01:07:00</td>\n      <td>NaN</td>\n      <td>NaN</td>\n      <td>0</td>\n    </tr>\n    <tr>\n      <th>1</th>\n      <td>22841357.0</td>\n      <td>2180-06-26 15:54:00</td>\n      <td>2180-06-26 21:31:00</td>\n      <td>2180-06-26 18:27:00</td>\n      <td>2180-06-27 18:49:00</td>\n      <td>0 days 03:04:00</td>\n      <td>NaN</td>\n      <td>NaN</td>\n      <td>0</td>\n    </tr>\n    <tr>\n      <th>2</th>\n      <td>25742920.0</td>\n      <td>2180-08-05 20:58:00</td>\n      <td>2180-08-06 01:44:00</td>\n      <td>2180-08-05 23:44:00</td>\n      <td>2180-08-07 17:50:00</td>\n      <td>0 days 02:00:00</td>\n      <td>NaN</td>\n      <td>NaN</td>\n      <td>1</td>\n    </tr>\n    <tr>\n      <th>3</th>\n      <td>29079034.0</td>\n      <td>2180-07-23 05:54:00</td>\n      <td>2180-07-23 14:00:00</td>\n      <td>2180-07-23 12:35:00</td>\n      <td>2180-07-25 17:55:00</td>\n      <td>0 days 01:25:00</td>\n      <td>2180-07-23 14:00:00</td>\n      <td>2180-07-23 23:50:47</td>\n      <td>1</td>\n    </tr>\n    <tr>\n      <th>4</th>\n      <td>23052089.0</td>\n      <td>2160-11-20 20:36:00</td>\n      <td>2160-11-21 03:20:00</td>\n      <td>2160-11-21 01:56:00</td>\n      <td>2160-11-25 14:52:00</td>\n      <td>0 days 01:24:00</td>\n      <td>NaN</td>\n      <td>NaN</td>\n      <td>1</td>\n    </tr>\n    <tr>\n      <th>...</th>\n      <td>...</td>\n      <td>...</td>\n      <td>...</td>\n      <td>...</td>\n      <td>...</td>\n      <td>...</td>\n      <td>...</td>\n      <td>...</td>\n      <td>...</td>\n    </tr>\n    <tr>\n      <th>160475</th>\n      <td>28045620.0</td>\n      <td>2127-09-21 08:42:00</td>\n      <td>2127-09-22 02:39:21</td>\n      <td>2127-09-22 02:37:00</td>\n      <td>2127-09-22 03:10:00</td>\n      <td>0 days 00:02:21</td>\n      <td>NaN</td>\n      <td>NaN</td>\n      <td>0</td>\n    </tr>\n    <tr>\n      <th>160476</th>\n      <td>20097685.0</td>\n      <td>2202-04-02 19:43:00</td>\n      <td>2202-04-03 05:04:00</td>\n      <td>2202-04-02 22:00:00</td>\n      <td>2202-04-03 08:40:00</td>\n      <td>0 days 07:04:00</td>\n      <td>NaN</td>\n      <td>NaN</td>\n      <td>0</td>\n    </tr>\n    <tr>\n      <th>160477</th>\n      <td>20002712.0</td>\n      <td>2207-05-08 04:29:00</td>\n      <td>2207-05-08 05:27:23</td>\n      <td>2207-05-08 05:24:00</td>\n      <td>2207-05-08 11:15:00</td>\n      <td>0 days 00:03:23</td>\n      <td>NaN</td>\n      <td>NaN</td>\n      <td>0</td>\n    </tr>\n    <tr>\n      <th>160478</th>\n      <td>29466646.0</td>\n      <td>2172-02-18 17:05:00</td>\n      <td>2172-02-18 19:47:30</td>\n      <td>2172-02-18 19:46:00</td>\n      <td>2172-02-18 21:47:00</td>\n      <td>0 days 00:01:30</td>\n      <td>NaN</td>\n      <td>NaN</td>\n      <td>0</td>\n    </tr>\n    <tr>\n      <th>160479</th>\n      <td>23463456.0</td>\n      <td>2135-06-10 14:41:00</td>\n      <td>2135-06-10 17:26:55</td>\n      <td>2135-06-10 17:26:00</td>\n      <td>2135-06-10 18:45:00</td>\n      <td>0 days 00:00:55</td>\n      <td>NaN</td>\n      <td>NaN</td>\n      <td>0</td>\n    </tr>\n  </tbody>\n</table>\n<p>160480 rows × 9 columns</p>\n</div>"
     },
     "execution_count": 87,
     "metadata": {},
     "output_type": "execute_result"
    }
   ],
   "source": [
    "ed_any_3"
   ],
   "metadata": {
    "collapsed": false,
    "ExecuteTime": {
     "end_time": "2024-03-04T14:27:00.527758800Z",
     "start_time": "2024-03-04T14:27:00.501594500Z"
    }
   }
  },
  {
   "cell_type": "code",
   "execution_count": 127,
   "outputs": [],
   "source": [
    "ed_any_5['icu_outtime']=pd.to_datetime(ed_any_5['icu_outtime'])\n",
    "ed_any_5['icu_intime']=pd.to_datetime(ed_any_5['icu_intime'])"
   ],
   "metadata": {
    "collapsed": false,
    "ExecuteTime": {
     "end_time": "2024-03-06T05:42:06.207611300Z",
     "start_time": "2024-03-06T05:42:06.130885600Z"
    }
   }
  },
  {
   "cell_type": "code",
   "execution_count": 200,
   "outputs": [],
   "source": [
    "ed_any_5 = ed_any_5.drop('icu', axis=1)"
   ],
   "metadata": {
    "collapsed": false,
    "ExecuteTime": {
     "end_time": "2024-03-06T07:03:32.166502500Z",
     "start_time": "2024-03-06T07:03:32.142456700Z"
    }
   }
  },
  {
   "cell_type": "code",
   "execution_count": 201,
   "outputs": [],
   "source": [
    "def icu_condition(ed_any_5):\n",
    "    #one_hour_after = ed_any_5['outtime'] + timedelta(hours=1)\n",
    "    if ed_any_5['icu_intime'] < ed_any_5['outtime'] + timedelta(hours=4) :\n",
    "        return 1\n",
    "    else:\n",
    "        return 0\n",
    "ed_any_5['icu']=ed_any_5.apply(icu_condition, axis=1)"
   ],
   "metadata": {
    "collapsed": false,
    "ExecuteTime": {
     "end_time": "2024-03-06T07:03:39.888700500Z",
     "start_time": "2024-03-06T07:03:37.697915Z"
    }
   }
  },
  {
   "cell_type": "code",
   "execution_count": 202,
   "outputs": [
    {
     "data": {
      "text/plain": "           hadm_id              intime             outtime  \\\n0       22595853.0 2180-05-06 19:17:00 2180-05-06 23:30:00   \n1       22841357.0 2180-06-26 15:54:00 2180-06-26 21:31:00   \n2       25742920.0 2180-08-05 20:58:00 2180-08-06 01:44:00   \n3       29079034.0 2180-07-23 05:54:00 2180-07-23 14:00:00   \n4       23052089.0 2160-11-20 20:36:00 2160-11-21 03:20:00   \n...            ...                 ...                 ...   \n157482  29048248.0 2183-12-07 13:13:00 2183-12-07 17:17:39   \n157483  28045620.0 2127-09-21 08:42:00 2127-09-22 02:39:21   \n157484  20097685.0 2202-04-02 19:43:00 2202-04-03 05:04:00   \n157485  29466646.0 2172-02-18 17:05:00 2172-02-18 19:47:30   \n157486  23463456.0 2135-06-10 14:41:00 2135-06-10 17:26:55   \n\n                 admittime           dischtime ed_out_to_hos_in  \\\n0      2180-05-06 22:23:00 2180-05-07 17:15:00  0 days 01:07:00   \n1      2180-06-26 18:27:00 2180-06-27 18:49:00  0 days 03:04:00   \n2      2180-08-05 23:44:00 2180-08-07 17:50:00  0 days 02:00:00   \n3      2180-07-23 12:35:00 2180-07-25 17:55:00  0 days 01:25:00   \n4      2160-11-21 01:56:00 2160-11-25 14:52:00  0 days 01:24:00   \n...                    ...                 ...              ...   \n157482 2183-12-07 17:16:00 2183-12-11 17:36:00  0 days 00:01:39   \n157483 2127-09-22 02:37:00 2127-09-22 03:10:00  0 days 00:02:21   \n157484 2202-04-02 22:00:00 2202-04-03 08:40:00  0 days 07:04:00   \n157485 2172-02-18 19:46:00 2172-02-18 21:47:00  0 days 00:01:30   \n157486 2135-06-10 17:26:00 2135-06-10 18:45:00  0 days 00:00:55   \n\n        ed_out_to_hos_in_min          icu_intime         icu_outtime  hos  icu  \n0                  67.000000                 NaT                 NaT    0    0  \n1                 184.000000                 NaT                 NaT    1    0  \n2                 120.000000                 NaT                 NaT    1    0  \n3                  85.000000 2180-07-23 14:00:00 2180-07-23 23:50:47    1    1  \n4                  84.000000                 NaT                 NaT    1    0  \n...                      ...                 ...                 ...  ...  ...  \n157482              1.650000 2183-12-07 20:38:26 2183-12-08 21:35:50    1    1  \n157483              2.350000                 NaT                 NaT    0    0  \n157484            424.000000                 NaT                 NaT    0    0  \n157485              1.500000                 NaT                 NaT    0    0  \n157486              0.916667                 NaT                 NaT    0    0  \n\n[157487 rows x 11 columns]",
      "text/html": "<div>\n<style scoped>\n    .dataframe tbody tr th:only-of-type {\n        vertical-align: middle;\n    }\n\n    .dataframe tbody tr th {\n        vertical-align: top;\n    }\n\n    .dataframe thead th {\n        text-align: right;\n    }\n</style>\n<table border=\"1\" class=\"dataframe\">\n  <thead>\n    <tr style=\"text-align: right;\">\n      <th></th>\n      <th>hadm_id</th>\n      <th>intime</th>\n      <th>outtime</th>\n      <th>admittime</th>\n      <th>dischtime</th>\n      <th>ed_out_to_hos_in</th>\n      <th>ed_out_to_hos_in_min</th>\n      <th>icu_intime</th>\n      <th>icu_outtime</th>\n      <th>hos</th>\n      <th>icu</th>\n    </tr>\n  </thead>\n  <tbody>\n    <tr>\n      <th>0</th>\n      <td>22595853.0</td>\n      <td>2180-05-06 19:17:00</td>\n      <td>2180-05-06 23:30:00</td>\n      <td>2180-05-06 22:23:00</td>\n      <td>2180-05-07 17:15:00</td>\n      <td>0 days 01:07:00</td>\n      <td>67.000000</td>\n      <td>NaT</td>\n      <td>NaT</td>\n      <td>0</td>\n      <td>0</td>\n    </tr>\n    <tr>\n      <th>1</th>\n      <td>22841357.0</td>\n      <td>2180-06-26 15:54:00</td>\n      <td>2180-06-26 21:31:00</td>\n      <td>2180-06-26 18:27:00</td>\n      <td>2180-06-27 18:49:00</td>\n      <td>0 days 03:04:00</td>\n      <td>184.000000</td>\n      <td>NaT</td>\n      <td>NaT</td>\n      <td>1</td>\n      <td>0</td>\n    </tr>\n    <tr>\n      <th>2</th>\n      <td>25742920.0</td>\n      <td>2180-08-05 20:58:00</td>\n      <td>2180-08-06 01:44:00</td>\n      <td>2180-08-05 23:44:00</td>\n      <td>2180-08-07 17:50:00</td>\n      <td>0 days 02:00:00</td>\n      <td>120.000000</td>\n      <td>NaT</td>\n      <td>NaT</td>\n      <td>1</td>\n      <td>0</td>\n    </tr>\n    <tr>\n      <th>3</th>\n      <td>29079034.0</td>\n      <td>2180-07-23 05:54:00</td>\n      <td>2180-07-23 14:00:00</td>\n      <td>2180-07-23 12:35:00</td>\n      <td>2180-07-25 17:55:00</td>\n      <td>0 days 01:25:00</td>\n      <td>85.000000</td>\n      <td>2180-07-23 14:00:00</td>\n      <td>2180-07-23 23:50:47</td>\n      <td>1</td>\n      <td>1</td>\n    </tr>\n    <tr>\n      <th>4</th>\n      <td>23052089.0</td>\n      <td>2160-11-20 20:36:00</td>\n      <td>2160-11-21 03:20:00</td>\n      <td>2160-11-21 01:56:00</td>\n      <td>2160-11-25 14:52:00</td>\n      <td>0 days 01:24:00</td>\n      <td>84.000000</td>\n      <td>NaT</td>\n      <td>NaT</td>\n      <td>1</td>\n      <td>0</td>\n    </tr>\n    <tr>\n      <th>...</th>\n      <td>...</td>\n      <td>...</td>\n      <td>...</td>\n      <td>...</td>\n      <td>...</td>\n      <td>...</td>\n      <td>...</td>\n      <td>...</td>\n      <td>...</td>\n      <td>...</td>\n      <td>...</td>\n    </tr>\n    <tr>\n      <th>157482</th>\n      <td>29048248.0</td>\n      <td>2183-12-07 13:13:00</td>\n      <td>2183-12-07 17:17:39</td>\n      <td>2183-12-07 17:16:00</td>\n      <td>2183-12-11 17:36:00</td>\n      <td>0 days 00:01:39</td>\n      <td>1.650000</td>\n      <td>2183-12-07 20:38:26</td>\n      <td>2183-12-08 21:35:50</td>\n      <td>1</td>\n      <td>1</td>\n    </tr>\n    <tr>\n      <th>157483</th>\n      <td>28045620.0</td>\n      <td>2127-09-21 08:42:00</td>\n      <td>2127-09-22 02:39:21</td>\n      <td>2127-09-22 02:37:00</td>\n      <td>2127-09-22 03:10:00</td>\n      <td>0 days 00:02:21</td>\n      <td>2.350000</td>\n      <td>NaT</td>\n      <td>NaT</td>\n      <td>0</td>\n      <td>0</td>\n    </tr>\n    <tr>\n      <th>157484</th>\n      <td>20097685.0</td>\n      <td>2202-04-02 19:43:00</td>\n      <td>2202-04-03 05:04:00</td>\n      <td>2202-04-02 22:00:00</td>\n      <td>2202-04-03 08:40:00</td>\n      <td>0 days 07:04:00</td>\n      <td>424.000000</td>\n      <td>NaT</td>\n      <td>NaT</td>\n      <td>0</td>\n      <td>0</td>\n    </tr>\n    <tr>\n      <th>157485</th>\n      <td>29466646.0</td>\n      <td>2172-02-18 17:05:00</td>\n      <td>2172-02-18 19:47:30</td>\n      <td>2172-02-18 19:46:00</td>\n      <td>2172-02-18 21:47:00</td>\n      <td>0 days 00:01:30</td>\n      <td>1.500000</td>\n      <td>NaT</td>\n      <td>NaT</td>\n      <td>0</td>\n      <td>0</td>\n    </tr>\n    <tr>\n      <th>157486</th>\n      <td>23463456.0</td>\n      <td>2135-06-10 14:41:00</td>\n      <td>2135-06-10 17:26:55</td>\n      <td>2135-06-10 17:26:00</td>\n      <td>2135-06-10 18:45:00</td>\n      <td>0 days 00:00:55</td>\n      <td>0.916667</td>\n      <td>NaT</td>\n      <td>NaT</td>\n      <td>0</td>\n      <td>0</td>\n    </tr>\n  </tbody>\n</table>\n<p>157487 rows × 11 columns</p>\n</div>"
     },
     "execution_count": 202,
     "metadata": {},
     "output_type": "execute_result"
    }
   ],
   "source": [
    "ed_any_5"
   ],
   "metadata": {
    "collapsed": false,
    "ExecuteTime": {
     "end_time": "2024-03-06T07:03:39.907113200Z",
     "start_time": "2024-03-06T07:03:39.889701100Z"
    }
   }
  },
  {
   "cell_type": "code",
   "execution_count": 203,
   "outputs": [
    {
     "data": {
      "text/plain": "115160"
     },
     "execution_count": 203,
     "metadata": {},
     "output_type": "execute_result"
    }
   ],
   "source": [
    "len(set(ed_any_5[(ed_any_5[\"hos\"]==1)&(ed_any_5[\"icu\"]==0)]['hadm_id'].unique()))"
   ],
   "metadata": {
    "collapsed": false,
    "ExecuteTime": {
     "end_time": "2024-03-06T07:03:39.949217600Z",
     "start_time": "2024-03-06T07:03:39.900759800Z"
    }
   }
  },
  {
   "cell_type": "code",
   "execution_count": 204,
   "outputs": [
    {
     "data": {
      "text/plain": "22797"
     },
     "execution_count": 204,
     "metadata": {},
     "output_type": "execute_result"
    }
   ],
   "source": [
    "icu_hadm=set(ed_any_5[(ed_any_5[\"hos\"]==1)&(ed_any_5[\"icu\"]==1)]['hadm_id'].unique())\n",
    "len(icu_hadm)"
   ],
   "metadata": {
    "collapsed": false,
    "ExecuteTime": {
     "end_time": "2024-03-06T07:03:39.976082Z",
     "start_time": "2024-03-06T07:03:39.930230400Z"
    }
   }
  },
  {
   "cell_type": "code",
   "execution_count": 205,
   "outputs": [
    {
     "data": {
      "text/plain": "113218"
     },
     "execution_count": 205,
     "metadata": {},
     "output_type": "execute_result"
    }
   ],
   "source": [
    "hos_hadm=set(ed_any_5[(ed_any_5[\"hos\"]==1)&(ed_any_5[\"icu\"]==0)]['hadm_id'].unique())-icu_hadm\n",
    "len(hos_hadm)"
   ],
   "metadata": {
    "collapsed": false,
    "ExecuteTime": {
     "end_time": "2024-03-06T07:04:40.832633100Z",
     "start_time": "2024-03-06T07:04:40.785321500Z"
    }
   }
  },
  {
   "cell_type": "code",
   "execution_count": 206,
   "outputs": [
    {
     "data": {
      "text/plain": "set()"
     },
     "execution_count": 206,
     "metadata": {},
     "output_type": "execute_result"
    }
   ],
   "source": [
    "hos_hadm&icu_hadm"
   ],
   "metadata": {
    "collapsed": false,
    "ExecuteTime": {
     "end_time": "2024-03-06T07:04:44.229254200Z",
     "start_time": "2024-03-06T07:04:44.191790500Z"
    }
   }
  },
  {
   "cell_type": "code",
   "execution_count": 207,
   "outputs": [],
   "source": [
    "hos_id=set(noted[noted['hadm_id'].isin(hos_hadm)]['stay_id'])"
   ],
   "metadata": {
    "collapsed": false,
    "ExecuteTime": {
     "end_time": "2024-03-06T07:04:46.053632800Z",
     "start_time": "2024-03-06T07:04:45.971809100Z"
    }
   }
  },
  {
   "cell_type": "code",
   "execution_count": 208,
   "outputs": [],
   "source": [
    "#icu_id=set(noted[noted['hadm_id'].isin(icu_hadm)]['stay_id'])"
   ],
   "metadata": {
    "collapsed": false,
    "ExecuteTime": {
     "end_time": "2024-03-06T07:04:46.575218800Z",
     "start_time": "2024-03-06T07:04:46.535094Z"
    }
   }
  },
  {
   "cell_type": "code",
   "execution_count": 227,
   "outputs": [],
   "source": [
    "icu_id=set(noted[noted['hadm_id'].isin(icu_hadm)]['stay_id'])"
   ],
   "metadata": {
    "collapsed": false,
    "ExecuteTime": {
     "end_time": "2024-03-06T07:07:00.616034900Z",
     "start_time": "2024-03-06T07:07:00.565459600Z"
    }
   }
  },
  {
   "cell_type": "code",
   "execution_count": 228,
   "outputs": [
    {
     "data": {
      "text/plain": "22797"
     },
     "execution_count": 228,
     "metadata": {},
     "output_type": "execute_result"
    }
   ],
   "source": [
    "len(icu_id)"
   ],
   "metadata": {
    "collapsed": false,
    "ExecuteTime": {
     "end_time": "2024-03-06T07:07:01.156266100Z",
     "start_time": "2024-03-06T07:07:01.138327400Z"
    }
   }
  },
  {
   "cell_type": "code",
   "execution_count": 210,
   "outputs": [
    {
     "data": {
      "text/plain": "{31588363,\n 31719442,\n 33816602,\n 36831261,\n 33161255,\n 37093419,\n 31981622,\n 30933059,\n 30277701,\n 37224518,\n 36962384,\n 33554513,\n 38928479,\n 30933089,\n 39583844,\n 39321707,\n 37093484,\n 39452789,\n 37748863,\n 36962438,\n 35782792,\n 31981707,\n 38011024,\n 35782806,\n 34472088,\n 31064219,\n 39583906,\n 31064231,\n 34078888,\n 32637100,\n 37486766,\n 36438203,\n 34996412,\n 30015681,\n 38928577,\n 33292483,\n 32112842,\n 33030349,\n 39059678,\n 37224670,\n 30933230,\n 38273263,\n 30802158,\n 30802167,\n 30408957,\n 38928638,\n 32506110,\n 30802174,\n 32637218,\n 36569379,\n 30146857,\n 32768298,\n 35651898,\n 36700475,\n 31588676,\n 38273354,\n 32899404,\n 31326541,\n 39453015,\n 37486937,\n 31588710,\n 30015848,\n 34079080,\n 32768366,\n 36962681,\n 37486974,\n 34472326,\n 32768393,\n 30540175,\n 37093776,\n 38273425,\n 30146965,\n 33948058,\n 31064499,\n 37749191,\n 37093834,\n 30409175,\n 30278104,\n 33554911,\n 34603505,\n 31982088,\n 34210316,\n 38535700,\n 34472471,\n 31326748,\n 30540318,\n 37618211,\n 31588910,\n 34603567,\n 36831791,\n 33423919,\n 39453248,\n 35652163,\n 32506438,\n 32506449,\n 37880405,\n 31326806,\n 33030772,\n 32637570,\n 32768646,\n 31195782,\n 30671496,\n 30671494,\n 32768678,\n 38797992,\n 38666926,\n 37880495,\n 38404794,\n 36307649,\n 32899782,\n 37356243,\n 32506580,\n 37487317,\n 33293018,\n 37618396,\n 37618397,\n 33948383,\n 35521248,\n 31851235,\n 33293031,\n 35259117,\n 36045555,\n 37356291,\n 36832005,\n 38142746,\n 38929184,\n 34079522,\n 33948455,\n 30147372,\n 35521331,\n 39715646,\n 30802750,\n 34734912,\n 32244549,\n 34472776,\n 37487433,\n 38142804,\n 34734937,\n 39846753,\n 32768869,\n 32899943,\n 37487463,\n 38404969,\n 31327084,\n 38667119,\n 38536054,\n 38404983,\n 37618552,\n 33162108,\n 33948541,\n 31982464,\n 36307850,\n 35128208,\n 36963217,\n 36701076,\n 30802845,\n 30933928,\n 39322546,\n 38405043,\n 33031092,\n 31720373,\n 32768952,\n 30016443,\n 37094334,\n 36176842,\n 33293260,\n 33948625,\n 31982562,\n 37356514,\n 33817578,\n 36045815,\n 39846907,\n 33817607,\n 32637960,\n 38011912,\n 37356556,\n 33162263,\n 32506903,\n 35259418,\n 30278689,\n 36570162,\n 31720498,\n 33948728,\n 39846969,\n 30671945,\n 33555534,\n 31458393,\n 31720539,\n 37749866,\n 37749868,\n 33424540,\n 34079908,\n 35259560,\n 34604214,\n 37618874,\n 37749947,\n 39584959,\n 33948866,\n 39978179,\n 31458498,\n 34211023,\n 34342103,\n 36177122,\n 39191783,\n 36046058,\n 33293547,\n 39191795,\n 35390707,\n 32244991,\n 36701444,\n 34473234,\n 37487906,\n 30410030,\n 35390771,\n 39322939,\n 37356861,\n 36046153,\n 30672202,\n 30278994,\n 39978333,\n 39454045,\n 39322996,\n 31720835,\n 33555846,\n 38667657,\n 37881231,\n 30279057,\n 33818010,\n 32376223,\n 37094816,\n 36570529,\n 32638375,\n 39454120,\n 31327658,\n 33949100,\n 33949106,\n 34997687,\n 35653049,\n 36570569,\n 37488086,\n 32507350,\n 36701659,\n 39585243,\n 34735583,\n 33949155,\n 30279141,\n 30410215,\n 38143463,\n 34997743,\n 39323123,\n 39060984,\n 34342400,\n 30148102,\n 33293839,\n 32638481,\n 36701720,\n 37226018,\n 36177445,\n 39978542,\n 38012463,\n 31065648,\n 34997829,\n 31327818,\n 34473547,\n 35259981,\n 31589983,\n 33818213,\n 36701799,\n 37357169,\n 36308596,\n 33031799,\n 39323256,\n 35128965,\n 35522183,\n 39847560,\n 38930056,\n 30279307,\n 37357199,\n 33949331,\n 39192220,\n 34997917,\n 31327932,\n 35915453,\n 36964032,\n 39978692,\n 32114387,\n 38667993,\n 31196903,\n 31196914,\n 32769786,\n 34080509,\n 39323389,\n 34473731,\n 37881616,\n 34604817,\n 39192344,\n 36964121,\n 38668064,\n 39978784,\n 35784495,\n 37488433,\n 36177714,\n 37226291,\n 35784500,\n 31196981,\n 39978809,\n 30148414,\n 30017342,\n 31328064,\n 35784519,\n 32376650,\n 38668115,\n 31590230,\n 33425241,\n 39454560,\n 35784551,\n 30148460,\n 39323503,\n 34998138,\n 31852412,\n 36964220,\n 39454598,\n 37619591,\n 38799241,\n 39061386,\n 34867083,\n 34736018,\n 31721364,\n 38930336,\n 35915692,\n 35129261,\n 31459249,\n 34342841,\n 37226430,\n 34736064,\n 36833226,\n 33556431,\n 34080721,\n 37750745,\n 36702175,\n 38143969,\n 33032174,\n 30410736,\n 33294333,\n 37488641,\n 38275074,\n 30279688,\n 34473993,\n 38537228,\n 30672928,\n 32639017,\n 37226559,\n 35260481,\n 30148683,\n 32376912,\n 36571220,\n 31066209,\n 32770158,\n 39848047,\n 37750908,\n 34605181,\n 36309121,\n 33818756,\n 31590544,\n 32770201,\n 33556635,\n 38930600,\n 34474167,\n 39192759,\n 31721660,\n 33556675,\n 35129545,\n 36178124,\n 33818829,\n 38144205,\n 36440274,\n 30542036,\n 37488856,\n 33556702,\n 39323870,\n 37619938,\n 36964578,\n 37095659,\n 38406383,\n 36047089,\n 35784970,\n 30279958,\n 30804246,\n 34867485,\n 39323943,\n 39848235,\n 30673196,\n 35785010,\n 38406454,\n 39848247,\n 38406471,\n 38799696,\n 30935384,\n 32770397,\n 30935403,\n 34867564,\n 39848311,\n 39192955,\n 30804368,\n 33294736,\n 30280080,\n 35129751,\n 32508313,\n 31066525,\n 34998696,\n 34998701,\n 39848369,\n 31852991,\n 34736585,\n 34343372,\n 31459798,\n 38668762,\n 38668766,\n 36047333,\n 39324136,\n 35916270,\n 34081263,\n 33032695,\n 35785208,\n 36440570,\n 31853051,\n 30149116,\n 30018044,\n 39062016,\n 39979521,\n 32508420,\n 39324167,\n 34212361,\n 36440588,\n 39455245,\n 34605582,\n 30673426,\n 32639507,\n 38144535,\n 31984155,\n 39979558,\n 38930985,\n 39717435,\n 38537789,\n 34736709,\n 35129930,\n 37489246,\n 35392119,\n 32508546,\n 39455365,\n 36571791,\n 30935700,\n 37489302,\n 34867863,\n 35130007,\n 36178592,\n 30935712,\n 35654314,\n 35523244,\n 37751486,\n 39062210,\n 34474694,\n 38275784,\n 30280395,\n 33426134,\n 34867928,\n 36834016,\n 35130093,\n 31853295,\n 31591153,\n 32115446,\n 33164027,\n 35261199,\n 33688354,\n 30935852,\n 36965170,\n 35392308,\n 37620536,\n 32770885,\n 38144850,\n 37620569,\n 32639845,\n 33688422,\n 33426279,\n 37882725,\n 31460214,\n 35654520,\n 39848833,\n 35261320,\n 31329161,\n 36440970,\n 39455624,\n 37489545,\n 39062451,\n 39979965,\n 30804926,\n 32115653,\n 38013895,\n 31198158,\n 39979986,\n 37227475,\n 38931412,\n 31591391,\n 35916780,\n 36834287,\n 39717872,\n 31067122,\n 36965379,\n 36441093,\n 34868233,\n 36703251,\n 35392535,\n 30673944,\n 30936089,\n 35130402,\n 30936109,\n 34606128,\n 31067186,\n 37620814,\n 34475104,\n 33688674,\n 34737257,\n 36047982,\n 39980154,\n 35261579,\n 39324820,\n 38931611,\n 30149796,\n 39455911,\n 31067305,\n 38538412,\n 36703416,\n 32509113,\n 30149825,\n 36703425,\n 32640199,\n 38800601,\n 31853785,\n 33164515,\n 30280944,\n 31984880,\n 38014193,\n 30018815,\n 30674185,\n 37489929,\n 33426700,\n 31591705,\n 35654940,\n 33688868,\n 30543143,\n 39587115,\n 38276398,\n 36834607,\n 33164595,\n 33557817,\n 31984953,\n 36965692,\n 37621062,\n 37752134,\n 39980364,\n 35261787,\n 39980381,\n 32771423,\n 31984999,\n 35655020,\n 37227889,\n 31329654,\n 30543222,\n 35392888,\n 35786107,\n 37227900,\n 32640384,\n 36965767,\n 35655051,\n 32771479,\n 33426844,\n 38014365,\n 34475424,\n 39718307,\n 32509347,\n 31985066,\n 33951163,\n 34606523,\n 33689021,\n 30543293,\n 38276545,\n 39062994,\n 38800851,\n 30543316,\n 39325146,\n 34082267,\n 32247283,\n 36179459,\n 31591959,\n 35917342,\n 38538788,\n 36965931,\n 38407730,\n 39456308,\n 31985205,\n 35786299,\n 38407740,\n 31591995,\n 33295941,\n 32640590,\n 39194196,\n 33427032,\n 33951323,\n 30674539,\n 33295998,\n 36048520,\n 31198858,\n 35655307,\n 32378509,\n 35655313,\n 32509586,\n 38145689,\n 33033882,\n 39194275,\n 35655342,\n 31592114,\n 38801079,\n 37752504,\n 39849664,\n 39980743,\n 36179659,\n 36048591,\n 34213583,\n 39325408,\n 39456483,\n 38014694,\n 39980776,\n 36441832,\n 37490416,\n 39718651,\n 39194371,\n 36835076,\n 37359371,\n 36966158,\n 37621521,\n 33165079,\n 37359384,\n 33427231,\n 32247587,\n 36704039,\n 31330087,\n 37359407,\n 36966202,\n 38014790,\n 31461193,\n 38539090,\n 31985505,\n 31985518,\n 35786613,\n 31330166,\n 33689466,\n 30150536,\n 36048780,\n 38408082,\n 39718803,\n 30674842,\n 38145953,\n 32509858,\n 37621679,\n 35655633,\n 39063514,\n 30543834,\n 33820640,\n 33558496,\n 32378850,\n 39194603,\n 37621752,\n 33296378,\n 36704251,\n 33034243,\n 39718918,\n 35131399,\n 39718921,\n 31723533,\n 35000338,\n 36835361,\n 33820707,\n 39456809,\n 36048964,\n 31461444,\n 31199300,\n 33296455,\n 30675016,\n 31985736,\n 34476106,\n 36573270,\n 36573274,\n 36835422,\n 33427555,\n 31330412,\n 35917935,\n 30675072,\n 38146183,\n 39850121,\n 39063693,\n 34345102,\n 31330446,\n 34738334,\n 33034400,\n 32510117,\n 36049065,\n 32379054,\n 36704438,\n 30937282,\n 32248007,\n 33034464,\n 34214117,\n 36573413,\n 33296621,\n 37097712,\n 30937329,\n 39981299,\n 30019833,\n 39588099,\n 32772366,\n 36049171,\n 30937368,\n 31461664,\n 35393825,\n 33952032,\n 32772396,\n 31723822,\n 32379184,\n 38801713,\n 34607411,\n 32248121,\n 33952068,\n 30150989,\n 37097806,\n 39326035,\n 37622106,\n 31986021,\n 33427820,\n 30413165,\n 30675324,\n 36311421,\n 36311426,\n 30413193,\n 37491081,\n 30413205,\n 37884316,\n 34345378,\n 36966819,\n 34083247,\n 30937525,\n 39981501,\n 35393981,\n 30675392,\n 30151104,\n 39719370,\n 33559012,\n 39457253,\n 37360108,\n 33296882,\n 34607603,\n 30544372,\n 30282231,\n 37491197,\n 31068673,\n 31068680,\n 39981582,\n 37360144,\n 32248354,\n 31330862,\n 38408757,\n 33559102,\n 30937664,\n 31855177,\n 32248395,\n 35787341,\n 38146646,\n 33559130,\n 35263076,\n 38408805,\n 38539885,\n 34738808,\n 36573817,\n 35787386,\n 38539899,\n 34607755,\n 34607765,\n 34083479,\n 36835996,\n 36573856,\n 39850667,\n 33034928,\n 38146736,\n 34607804,\n 35001025,\n 31199937,\n 38539979,\n 33952473,\n 33034974,\n 35001057,\n 33952485,\n 33821413,\n 33034983,\n 31068903,\n 31855340,\n 31986416,\n 37622518,\n 34345725,\n 37884692,\n 37753620,\n 31200030,\n 35263262,\n 39588646,\n 37360423,\n 39981865,\n 37098285,\n 36311855,\n 38277948,\n 38409035,\n 35001165,\n 33428303,\n 35787603,\n 36180820,\n 37753685,\n 34214743,\n 31986525,\n 39326564,\n 35525480,\n 39195497,\n 32117616,\n 30937971,\n 38540149,\n 36836220,\n 33690492,\n 30806912,\n 38278018,\n 39588740,\n 32510862,\n 38409112,\n 37884827,\n 32117664,\n 38671268,\n 32379816,\n 36836273,\n 31200181,\n 35525558,\n 36443064,\n 33297336,\n 30806977,\n 35001282,\n 34083784,\n 33297353,\n 35656652,\n 39326669,\n 38933471,\n 31855599,\n 31855603,\n 39457785,\n 33952762,\n 39982080,\n 36967428,\n 32248836,\n 36574214,\n 39982086,\n 38409220,\n 35394577,\n 34346014,\n 33166367,\n 38933540,\n 39588908,\n 37753904,\n 34739249,\n 34083891,\n 34477113,\n 32904263,\n 32248906,\n 32773212,\n 34608227,\n 33559654,\n 36836455,\n 38016111,\n 33690737,\n 30151793,\n 31593590,\n 39064699,\n 30676119,\n 39064738,\n 34608299,\n 38540483,\n 35132613,\n 31200454,\n 30020814,\n 33166559,\n 39064806,\n 32511213,\n 36836608,\n 35132675,\n 32380169,\n 35132686,\n 30151954,\n 39064850,\n 39982363,\n 34084137,\n 33035578,\n 37492028,\n 36443457,\n 33822025,\n 32511319,\n 35657052,\n 33559910,\n 38540669,\n 35919231,\n 33428867,\n 31331721,\n 31069579,\n 35526038,\n 35132823,\n 37361063,\n 36181427,\n 35657142,\n 32380343,\n 34477513,\n 34870736,\n 38540758,\n 39982560,\n 36705762,\n 38802914,\n 31200743,\n 34608629,\n 37754370,\n 35657219,\n 33953285,\n 39982597,\n 38540813,\n 31593999,\n 35001874,\n 30676511,\n 38671905,\n 30545445,\n 34870823,\n 36836912,\n 36574769,\n 30545460,\n 38147644,\n 35526209,\n 34870851,\n 35395142,\n 34739783,\n 31462995,\n 37623379,\n 32642647,\n 39720536,\n 34608730,\n 33822309,\n 38540910,\n 33953393,\n 36443768,\n 36181626,\n 38934146,\n 39851652,\n 34739848,\n 37754521,\n 33298085,\n 36181670,\n 34346664,\n 30938794,\n 32904883,\n 38409911,\n 33691323,\n 31725251,\n 35002065,\n 31594200,\n 39851738,\n 37230309,\n 37885670,\n 34871040,\n 35002125,\n 33560348,\n 30283551,\n 32118562,\n 30938921,\n 33822508,\n 33036086,\n 39065402,\n 32773948,\n 36050749,\n 31725374,\n 31856448,\n 31463242,\n 31594317,\n 38016847,\n 38016856,\n 34477920,\n 35002213,\n 36444008,\n 35526512,\n 39720824,\n 35919739,\n 35002239,\n 36837263,\n 31332240,\n ...}"
     },
     "execution_count": 210,
     "metadata": {},
     "output_type": "execute_result"
    }
   ],
   "source": [
    "icu_id"
   ],
   "metadata": {
    "collapsed": false,
    "ExecuteTime": {
     "end_time": "2024-03-06T07:04:48.669768600Z",
     "start_time": "2024-03-06T07:04:48.650731700Z"
    }
   }
  },
  {
   "cell_type": "code",
   "execution_count": 211,
   "outputs": [
    {
     "data": {
      "text/plain": "113218"
     },
     "execution_count": 211,
     "metadata": {},
     "output_type": "execute_result"
    }
   ],
   "source": [
    "len(hos_id)"
   ],
   "metadata": {
    "collapsed": false,
    "ExecuteTime": {
     "end_time": "2024-03-06T07:04:49.671276700Z",
     "start_time": "2024-03-06T07:04:49.648289300Z"
    }
   }
  },
  {
   "cell_type": "code",
   "execution_count": 212,
   "outputs": [
    {
     "data": {
      "text/plain": "{39583744,\n 37748740,\n 37224452,\n 37224455,\n 35651591,\n 31719437,\n 38535184,\n 35389460,\n 39321623,\n 39321624,\n 30146587,\n 36700188,\n 38273061,\n 31195174,\n 31719461,\n 30408747,\n 37224496,\n 38010930,\n 33816627,\n 35913782,\n 30408758,\n 39583801,\n 39321657,\n 31981629,\n 32243778,\n 31719494,\n 32505930,\n 38010958,\n 35651665,\n 37224532,\n 34078804,\n 32505943,\n 39845991,\n 33816687,\n 30146672,\n 36700281,\n 30670970,\n 33030266,\n 38011005,\n 39583873,\n 32243842,\n 32505990,\n 30933129,\n 39059594,\n 36962448,\n 31457425,\n 32506003,\n 37224596,\n 36700308,\n 31981718,\n 36176026,\n 37486750,\n 31981727,\n 37748897,\n 34603170,\n 35127458,\n 39583910,\n 38535335,\n 35913896,\n 32243882,\n 31981738,\n 30146736,\n 36962486,\n 30146744,\n 33292473,\n 34865355,\n 30146764,\n 34078925,\n 35389651,\n 39583957,\n 30933206,\n 37224667,\n 36700380,\n 38011100,\n 34078945,\n 33816803,\n 36176101,\n 36176106,\n 39059697,\n 31981811,\n 38535412,\n 33030389,\n 36438259,\n 39583989,\n 38797560,\n 35913977,\n 38011130,\n 38797561,\n 35389693,\n 39321854,\n 30933249,\n 39584002,\n 39321858,\n 38273286,\n 34865420,\n 38797581,\n 33554702,\n 31981839,\n 39846163,\n 34865428,\n 37486868,\n 39584029,\n 37224737,\n 37224738,\n 36700451,\n 34079011,\n 35651876,\n 30146856,\n 36962601,\n 37224746,\n 30409004,\n 30146861,\n 39846191,\n 34865457,\n 38011185,\n 33292595,\n 35127605,\n 38797621,\n 39584055,\n 32506169,\n 35914041,\n 35651901,\n 31195456,\n 37749057,\n 32244037,\n 31981895,\n 32506186,\n 32244046,\n 33292623,\n 35914062,\n 31457618,\n 38535508,\n 38273364,\n 39321940,\n 35127639,\n 38535513,\n 30409049,\n 32506202,\n 34341213,\n 36700511,\n 30146912,\n 35389797,\n 31981926,\n 34341222,\n 38535531,\n 36700525,\n 35389806,\n 37486960,\n 33554804,\n 36438391,\n 39584119,\n 31195511,\n 35914106,\n 36176251,\n 36962684,\n 34341247,\n 33554816,\n 34865539,\n 32768388,\n 31457674,\n 32768397,\n 37749138,\n 38011283,\n 37749140,\n 38535571,\n 34865559,\n 32768408,\n 36962714,\n 33292701,\n 30146975,\n 32506275,\n 34603431,\n 36438440,\n 30409129,\n 30671273,\n 32506279,\n 33554865,\n 33030578,\n 33030580,\n 34865588,\n 30409142,\n 38535607,\n 35652029,\n 39322048,\n 31457730,\n 33554882,\n 35127748,\n 35914181,\n 35652038,\n 30933448,\n 39059914,\n 31457740,\n 33292750,\n 33292751,\n 30671311,\n 31719889,\n 33030609,\n 36438485,\n 35127767,\n 39059929,\n 33817050,\n 31195613,\n 38797790,\n 39059938,\n 31719911,\n 37487083,\n 35127788,\n 33554926,\n 39322107,\n 34865664,\n 38011397,\n 36438540,\n 38011406,\n 34603535,\n 32244242,\n 35914260,\n 38273556,\n 33292820,\n 30933529,\n 33292825,\n 36438558,\n 31457823,\n 36962852,\n 30147112,\n 32506411,\n 32506412,\n 36176429,\n 34603566,\n 32244268,\n 33292847,\n 37225010,\n 39322163,\n 31195710,\n 38011455,\n 34603589,\n 39322182,\n 38273606,\n 35914312,\n 31457865,\n 39584328,\n 36962892,\n 31195727,\n 33292880,\n 30409299,\n 34603603,\n 39584340,\n 33555032,\n 35914330,\n 30671454,\n 31457889,\n 36176491,\n 37749356,\n 37487221,\n 36962936,\n 38535802,\n 30409341,\n 36962946,\n 31982211,\n 38011525,\n 30409350,\n 31720070,\n 36438666,\n 35127949,\n 39584398,\n 30933647,\n 36700816,\n 31982225,\n 35914385,\n 32506516,\n 36176532,\n 36176534,\n 34341527,\n 38273688,\n 31720086,\n 35652250,\n 36700827,\n 30933659,\n 34079390,\n 34341535,\n 32768673,\n 31195810,\n 36176548,\n 35914406,\n 38797991,\n 39584433,\n 37225140,\n 31457975,\n 30671544,\n 33292985,\n 38535865,\n 30147259,\n 37225148,\n 35914430,\n 38798017,\n 31982280,\n 31195850,\n 38273739,\n 37749453,\n 31720142,\n 38798033,\n 37487315,\n 38011604,\n 37749462,\n 30671581,\n 30671584,\n 32506597,\n 38535912,\n 32768745,\n 30933738,\n 33293036,\n 36176622,\n 39846639,\n 33555185,\n 35390193,\n 38535924,\n 39322357,\n 37225205,\n 36438775,\n 31458042,\n 37749499,\n 34341628,\n 31195901,\n 38273790,\n 35652351,\n 32244478,\n 39322367,\n 32506628,\n 33293061,\n 36700933,\n 33030919,\n 38273802,\n 30147339,\n 32506636,\n 37225230,\n 39060239,\n 31195921,\n 31982354,\n 33817363,\n 38273813,\n 30933783,\n 30671641,\n 39322394,\n 33030939,\n 33555225,\n 33293089,\n 38535970,\n 37225254,\n 34079527,\n 31982376,\n 31720233,\n 38011696,\n 35652402,\n 33555252,\n 38011701,\n 36700982,\n 35128119,\n 37225271,\n 39584569,\n 32768827,\n 31720252,\n 32244540,\n 37487422,\n 31195967,\n 31982404,\n 31982407,\n 34341704,\n 37749578,\n 32506703,\n 39584595,\n 37487445,\n 30147416,\n 33031002,\n 33555292,\n 34866015,\n 34603872,\n 34866018,\n 35390308,\n 31196007,\n 36176744,\n 35128170,\n 38536045,\n 35914612,\n 36963189,\n 30933877,\n 37225334,\n 34341752,\n 37749625,\n 31720314,\n 39322491,\n 32768891,\n 39846782,\n 37749633,\n 39322502,\n 36176777,\n 34341770,\n 39846794,\n 35390348,\n 37487504,\n 32768913,\n 30933906,\n 38273938,\n 30147475,\n 32768914,\n 34079639,\n 39060376,\n 39060377,\n 30409625,\n 34079644,\n 30147488,\n 30409633,\n 31720352,\n 35128228,\n 30409637,\n 35128230,\n 33031081,\n 36963243,\n 38536109,\n 30671793,\n 33031089,\n 39060401,\n 39060404,\n 31196084,\n 30671798,\n 31458228,\n 30933944,\n 31458232,\n 36176826,\n 37749691,\n 39846844,\n 31196093,\n 34341819,\n 32506816,\n 36176835,\n 32506822,\n 35128268,\n 35652558,\n 32768974,\n 34866135,\n 31720409,\n 35914715,\n 32506846,\n 35128288,\n 31458272,\n 35914722,\n 38011876,\n 37225445,\n 33555433,\n 38011881,\n 32769004,\n 38274029,\n 34079725,\n 37749747,\n 38274037,\n 37749752,\n 30934008,\n 31982586,\n 38274045,\n 31196160,\n 38274050,\n 31720450,\n 32769027,\n 31982598,\n 36176902,\n 35128326,\n 34341897,\n 34079757,\n 30409748,\n 32244756,\n 30409754,\n 32244767,\n 39322655,\n 38798375,\n 30409769,\n 38011946,\n 35390507,\n 33555505,\n 31982645,\n 39584826,\n 33293370,\n 34866240,\n 34079811,\n 39846980,\n 38011971,\n 31982669,\n 31196238,\n 36701263,\n 34079824,\n 37225551,\n 31720532,\n 30934101,\n 37225557,\n 31196247,\n 39846997,\n 34341977,\n 31458394,\n 35128409,\n 39584860,\n 34079839,\n 32506976,\n 30409824,\n 39584870,\n 31720551,\n 38012009,\n 32769130,\n 32769129,\n 37225583,\n 33817711,\n 39322736,\n 37487731,\n 33555572,\n 39847028,\n 39060601,\n 37487738,\n 36177019,\n 30934141,\n 35914878,\n 30672002,\n 31720579,\n 38274182,\n 39847047,\n 30147718,\n 39847054,\n 32244887,\n 33817752,\n 37487769,\n 34079896,\n 31458459,\n 39847063,\n 35128477,\n 34342046,\n 30934167,\n 36963490,\n 39060648,\n 36177069,\n 37749935,\n 30147762,\n 30147763,\n 33817780,\n 30672055,\n 33555642,\n 30147771,\n 33293506,\n 32769221,\n 32244946,\n 36963539,\n 30672084,\n 33031380,\n 31458515,\n 38012119,\n 33817812,\n 38798554,\n 37487835,\n 38012122,\n 30147806,\n 31458536,\n 37225709,\n 34342125,\n 32244976,\n 33031411,\n 34079989,\n 30934262,\n 31720695,\n 30672120,\n 30147837,\n 39847166,\n 32769283,\n 35128580,\n 39585028,\n 36963590,\n 32769284,\n 39322890,\n 33555723,\n 33293578,\n 39060753,\n 39847187,\n 33555732,\n 35652884,\n 39585046,\n 38012183,\n 39060760,\n 38536468,\n 36701468,\n 34342172,\n 30672157,\n 33031454,\n 32245020,\n 38274335,\n 30147874,\n 39585059,\n 34866475,\n 32507180,\n 37225773,\n 39847212,\n 31720751,\n 31982895,\n 31196465,\n 35128628,\n 39847222,\n 34080054,\n 37487929,\n 39585082,\n 30410045,\n 35128639,\n 31720768,\n 38798655,\n 36701506,\n 37225803,\n 39060811,\n 36439377,\n 36701522,\n 36701526,\n 31720791,\n 37225817,\n 30934362,\n 36963675,\n 39847259,\n 32507228,\n 39060825,\n 31982946,\n 36701542,\n 34866536,\n 39847273,\n 39847276,\n 38536557,\n 34342254,\n 35128687,\n 38274417,\n 35652977,\n 36177267,\n 37225850,\n 31458683,\n 37225852,\n 35390848,\n 34342277,\n 30672262,\n 38274439,\n 36177291,\n 34342285,\n 34342292,\n 35915158,\n 39060891,\n 34604444,\n 39323035,\n 39323045,\n 38274470,\n 33031593,\n 31196587,\n 34866605,\n 36701618,\n 30148019,\n 30934458,\n 33555900,\n 39585219,\n 30410182,\n 30148039,\n 30148041,\n 30672330,\n 39585227,\n 36963786,\n 30410189,\n 35128781,\n 34342350,\n 32245197,\n 31983059,\n 34342358,\n 37750232,\n 30934488,\n 32507354,\n 35390937,\n 36177371,\n 30148058,\n 35390939,\n 30410208,\n 30410213,\n 34342374,\n 35653095,\n 30148072,\n 36177392,\n 36177393,\n 33818098,\n 37488123,\n 33818110,\n 36439551,\n 36177411,\n 34342405,\n 39585285,\n 33293835,\n 36963854,\n 35390990,\n 37226004,\n 36963861,\n 36439574,\n 36177434,\n 34866719,\n 32981609,\n 30934563,\n 31458853,\n 39847463,\n 36701740,\n 30148141,\n 33818159,\n 38536753,\n 36177459,\n 31983156,\n 34342454,\n 33031734,\n 37488187,\n 38012476,\n 30148157,\n 38274620,\n 34604607,\n 35915324,\n 36963905,\n 39847488,\n 38274627,\n 34342471,\n 36439631,\n 30410320,\n 38536786,\n 37226067,\n 38274646,\n 38536791,\n 35391063,\n 35128920,\n 30934619,\n 30148190,\n 31196768,\n 30410339,\n 32769636,\n 38012517,\n 35915366,\n 31721063,\n 32769638,\n 32245353,\n 32245354,\n 35128941,\n 34342514,\n 39323257,\n 33818234,\n 32507518,\n 35915391,\n 34342529,\n 31458947,\n 38536839,\n 32245383,\n 36439691,\n 34342540,\n 39061131,\n 39323278,\n 33031824,\n 33818256,\n 34604692,\n 31721110,\n 36701849,\n 36701850,\n 33556123,\n 35391129,\n 37750429,\n 31458973,\n 34604703,\n 31721129,\n 30148267,\n 36964014,\n 38274738,\n 35653301,\n 32769722,\n 35653309,\n 31983295,\n 37750463,\n 36439749,\n 33818311,\n 39585480,\n 35129033,\n 34080460,\n 36701902,\n 34080463,\n 31983312,\n 36701916,\n 35129056,\n 35915493,\n 33556197,\n 34080489,\n 39585514,\n 33818354,\n 33031923,\n 37226235,\n 33031933,\n 39061246,\n 33818369,\n 32769808,\n 32507666,\n 37488404,\n 31459100,\n 36701981,\n 39585567,\n 33556258,\n 32245539,\n 37750566,\n 39061288,\n 39585577,\n 32245546,\n 30672685,\n 31459118,\n 34080565,\n 32769846,\n 39585591,\n 32507704,\n 37750585,\n 30410563,\n 34342724,\n 38274885,\n 36964166,\n 39847749,\n 39585605,\n 31197001,\n 34604878,\n 37750612,\n 35915604,\n 34867031,\n 38537052,\n 31721309,\n 31459166,\n 39847775,\n 31983454,\n 37488484,\n 37226341,\n 35653481,\n 30148459,\n 37750637,\n 38274925,\n 38274927,\n 35391347,\n 34867065,\n 33818489,\n 33294203,\n 32507771,\n 36439932,\n 32245631,\n 32507778,\n 37750661,\n 30410634,\n 36964239,\n 36439956,\n 32507796,\n 30934935,\n 31721367,\n 35653528,\n 36964250,\n 34342813,\n 34604958,\n 39585696,\n 35915684,\n 34080677,\n 34867109,\n 33556391,\n 32507813,\n 31983529,\n 39847852,\n 30148525,\n 38012852,\n 33556408,\n 36702140,\n 31983551,\n 32769983,\n 32245697,\n 39061441,\n 38012871,\n 32769996,\n 31721422,\n 34342864,\n 39847892,\n 38537174,\n 37750743,\n 30672854,\n 33556441,\n 38799326,\n 30410725,\n 36964326,\n 33556455,\n 32507881,\n 36702186,\n 36964332,\n 39323630,\n 34080751,\n 33556464,\n 35391472,\n 35391474,\n 31721458,\n 38275058,\n 39847918,\n 33556473,\n 34867194,\n 30935037,\n 39847934,\n 36964352,\n 34867201,\n 38537220,\n 37488644,\n 37226502,\n 34342921,\n 36702218,\n 34080783,\n 30935057,\n 35391506,\n 35391507,\n 35653656,\n 35129375,\n 30410784,\n 37750824,\n 34867240,\n 32770091,\n 30935092,\n 39323701,\n 38275126,\n 35129401,\n 34342979,\n 30935110,\n 30672968,\n 31459402,\n 36964429,\n 34342991,\n 39848018,\n 38013011,\n 35129428,\n 38013013,\n 35915866,\n 33818714,\n 39323740,\n 38275165,\n 38799461,\n 34080874,\n 35129452,\n 31721583,\n 30410865,\n 36964467,\n 35915892,\n 31983733,\n 37488758,\n 38799480,\n 38537338,\n 33556603,\n 33294460,\n 31721595,\n 33556606,\n 38013056,\n 31983745,\n 31459458,\n 33032323,\n 38275208,\n 31721610,\n 39848074,\n 32245902,\n 35653777,\n 35391634,\n 37488785,\n 34080916,\n 32245910,\n 34080921,\n 39585948,\n 33294497,\n 39323811,\n 39323814,\n 32508070,\n 37226664,\n 38537385,\n 32508074,\n 37488812,\n 35391661,\n 34867375,\n 33032368,\n 37226678,\n 34867384,\n 37750970,\n 30410942,\n 33556671,\n 38013119,\n 35915969,\n 38537411,\n 33294533,\n 38537414,\n 39323846,\n 33294534,\n 37488840,\n 35129548,\n 38013136,\n 30410962,\n 35391701,\n 39586005,\n 31197399,\n 38013144,\n 31197403,\n 30410978,\n 36964580,\n 37488872,\n 37488873,\n 33294568,\n 39061747,\n 30673140,\n 39848183,\n 35391737,\n ...}"
     },
     "execution_count": 212,
     "metadata": {},
     "output_type": "execute_result"
    }
   ],
   "source": [
    "hos_id"
   ],
   "metadata": {
    "collapsed": false,
    "ExecuteTime": {
     "end_time": "2024-03-06T07:04:50.301914300Z",
     "start_time": "2024-03-06T07:04:50.262216500Z"
    }
   }
  },
  {
   "cell_type": "code",
   "execution_count": 232,
   "outputs": [],
   "source": [
    "import pickle\n",
    "\n",
    "with open('new_ed_stay_id.pkl', 'wb') as f:\n",
    "    pickle.dump(ed_id, f)\n",
    "with open('new_hos_stay_id.pkl', 'wb') as f:\n",
    "    pickle.dump(hos_id, f)\n",
    "with open('new_icu_stay_id.pkl', 'wb') as f:\n",
    "    pickle.dump(icu_id, f)\n",
    "with open('new_died_stay_id.pkl', 'wb') as f:\n",
    "    pickle.dump(list(ed[ed['disposition']=='EXPIRED']['stay_id']), f)"
   ],
   "metadata": {
    "collapsed": false,
    "ExecuteTime": {
     "end_time": "2024-03-06T07:08:34.898791300Z",
     "start_time": "2024-03-06T07:08:34.848554800Z"
    }
   }
  },
  {
   "cell_type": "code",
   "execution_count": 214,
   "outputs": [],
   "source": [
    "#with open('ed_stay_id.pkl', 'rb') as f:\n",
    "#    ed_id = pickle.load(f)\n",
    "#with open('hos_stay_id.pkl', 'rb') as f:\n",
    "#    hos_id = pickle.load(f)\n",
    "#with open('icu_stay_id.pkl', 'rb') as f:\n",
    "#    icu_id = pickle.load(f)\n",
    "#with open('stay_id_map.pkl', 'rb') as f:\n",
    "#    stay_id_map = pickle.load(f)"
   ],
   "metadata": {
    "collapsed": false,
    "ExecuteTime": {
     "end_time": "2024-03-06T07:04:52.336842100Z",
     "start_time": "2024-03-06T07:04:52.313644300Z"
    }
   }
  },
  {
   "cell_type": "code",
   "execution_count": 231,
   "outputs": [
    {
     "data": {
      "text/plain": "[30308539,\n 34547687,\n 39740841,\n 33768159,\n 35630864,\n 39588306,\n 37194940,\n 34320022,\n 32948464,\n 31891278,\n 39753604,\n 38439085,\n 39163943,\n 31065463,\n 37415705,\n 34131392,\n 38678036,\n 37075657,\n 38066888,\n 34689703,\n 38467903,\n 39136238,\n 38523350,\n 32157813,\n 33984982,\n 38317034,\n 35315786,\n 34810347,\n 33944406,\n 33869599,\n 33679922,\n 30756716,\n 39524946,\n 31388042,\n 31516860,\n 31367673,\n 39524184,\n 35712182,\n 32472116,\n 33682808,\n 30903255,\n 37430690,\n 36147506,\n 38394113,\n 39140056,\n 31797843,\n 31120698,\n 33717643,\n 37410829,\n 30337688,\n 31147119,\n 36824807,\n 36492643,\n 35033884,\n 30115596,\n 30831433,\n 37667078,\n 38459529,\n 34485356,\n 32878474,\n 31434257,\n 30909991,\n 31086705,\n 30548179,\n 31133956,\n 30109821,\n 39885847,\n 35546212,\n 31053770,\n 35962659,\n 33481652,\n 36792684,\n 30362356,\n 39770715,\n 30925907,\n 36330181,\n 39746899,\n 32718428,\n 33535449,\n 38278637,\n 30270090,\n 38319687,\n 31156114,\n 38603323,\n 38109028,\n 37835506,\n 39053724,\n 32842011,\n 38153775,\n 35860332,\n 32561058,\n 33387340,\n 36285926,\n 34328331,\n 36216790,\n 39919187,\n 35319901,\n 31912065,\n 32564253,\n 30263647,\n 32775011,\n 30105033,\n 34764147,\n 30439854,\n 31429158,\n 38059415,\n 37020908,\n 33521112,\n 36339375,\n 32203251,\n 35367265,\n 36678813,\n 38841772,\n 34567347,\n 38785524,\n 34230817,\n 32820294,\n 37037935,\n 35309971,\n 39246997,\n 39910982,\n 33306243,\n 39173902,\n 33619505,\n 38637435,\n 38725348,\n 32739654,\n 30585592,\n 38254304,\n 32699340,\n 39506867,\n 38249860,\n 34725553,\n 33807670,\n 30822479,\n 33930802,\n 31658186,\n 30323123,\n 39730329,\n 32138414,\n 32462941,\n 34667327,\n 31545593,\n 38308943,\n 32596602,\n 38928738,\n 31501458,\n 38391641,\n 31194787,\n 39414347,\n 32644394,\n 31488018,\n 36326567,\n 34232055,\n 37007188,\n 30643171,\n 38494296,\n 34289390,\n 39624005,\n 36331339,\n 34193486,\n 30941861,\n 30302651,\n 36774317,\n 34124218,\n 38816860,\n 32860180,\n 38387030,\n 39528280,\n 32681745,\n 31674006,\n 39079527,\n 33756269,\n 34664847,\n 30937733,\n 33381136,\n 39212074,\n 31997143,\n 36860620,\n 30443982,\n 33460193,\n 31337943,\n 34047607,\n 32028896,\n 30182928,\n 37024906,\n 39532315,\n 31063376,\n 37573380,\n 31436747,\n 35949694,\n 35223199,\n 35851057,\n 31591746,\n 30512515,\n 30261922,\n 31808623,\n 35986589,\n 36781680,\n 32979309,\n 31429546,\n 38063692,\n 36083718,\n 30295133,\n 39528243,\n 33690682,\n 33130347,\n 39255981,\n 38526310,\n 36815711,\n 33480789,\n 32027635,\n 31624166,\n 33443581,\n 38243341,\n 39323767,\n 35919183,\n 39858289,\n 33400722,\n 39059018,\n 33274194,\n 36068653,\n 38710546,\n 32739369,\n 33742724,\n 38799196,\n 36350897,\n 37037631,\n 30156937,\n 30345695,\n 32768147,\n 32549203,\n 33133990,\n 35066347,\n 37327103,\n 31928919,\n 33547562,\n 38308114,\n 30281991,\n 31967194,\n 34116065,\n 37966018,\n 39691769,\n 38422711,\n 32835151,\n 34182010,\n 36067254,\n 33558935,\n 38105323,\n 37313047,\n 31806173,\n 37988146,\n 32844185,\n 32035248,\n 35673656,\n 35062997,\n 38799132,\n 30401739,\n 38060903,\n 38391310,\n 37462467,\n 34803272,\n 39197716,\n 39775905,\n 30987578,\n 35080832,\n 30463935,\n 39190484,\n 35348820,\n 36348354,\n 30814811,\n 31571976,\n 34269460,\n 32064026,\n 32103484,\n 30332976,\n 39475627,\n 39378912,\n 37401338,\n 38483369,\n 36014040,\n 35620835,\n 33659994,\n 32618073,\n 30928288,\n 33199137,\n 34087251,\n 39073440,\n 35080925,\n 35206699,\n 34154510,\n 33192572,\n 39539362,\n 31953277,\n 37376583,\n 39641044,\n 38604751,\n 33773975,\n 36613796,\n 33821074,\n 39619915,\n 38649158,\n 32053363,\n 33889749,\n 37589451,\n 30467231,\n 36191031,\n 32929534,\n 38194958,\n 33447566,\n 32973975,\n 30462877,\n 34961324,\n 36603611,\n 31353819,\n 32227897,\n 30122065,\n 31031892,\n 30035518,\n 33833354,\n 36381102,\n 33808968,\n 33137758,\n 39475344,\n 31335414,\n 39162336,\n 30188148,\n 34282896,\n 34957247,\n 39196903,\n 35525288,\n 39705694,\n 37506340,\n 30031374,\n 37707400,\n 36005815,\n 31970442,\n 32296084,\n 33202202,\n 39464272,\n 36587814,\n 31549961,\n 32121743,\n 38640700,\n 31986717,\n 38909664,\n 36396570,\n 30928218,\n 32116089,\n 36601282,\n 37250342,\n 35888047,\n 37693475,\n 39518848,\n 38477966,\n 32883240,\n 30975105,\n 30508060,\n 39880023,\n 33117771,\n 30430472,\n 30401279,\n 35872403,\n 30487462,\n 36506424,\n 37652816,\n 34626944,\n 32422290,\n 39955476,\n 39852118,\n 30537148,\n 34034067,\n 30970126,\n 37942091,\n 39780645,\n 37776073,\n 32846388]"
     },
     "execution_count": 231,
     "metadata": {},
     "output_type": "execute_result"
    }
   ],
   "source": [
    "list(ed[ed['disposition']=='EXPIRED']['stay_id'])"
   ],
   "metadata": {
    "collapsed": false,
    "ExecuteTime": {
     "end_time": "2024-03-06T07:08:19.134342Z",
     "start_time": "2024-03-06T07:08:19.089915100Z"
    }
   }
  },
  {
   "cell_type": "code",
   "execution_count": 233,
   "outputs": [],
   "source": [
    "ed.loc[ed['stay_id'].isin(ed_id), 'result'] = 'ed'\n",
    "ed.loc[ed['stay_id'].isin(hos_id), 'result'] = 'hos'\n",
    "ed.loc[ed['stay_id'].isin(icu_id), 'result'] = 'icu'\n",
    "ed.loc[ed['stay_id'].isin(ed[ed['disposition']=='EXPIRED']['stay_id']), 'result'] = 'ed_dead'"
   ],
   "metadata": {
    "collapsed": false,
    "ExecuteTime": {
     "end_time": "2024-03-06T07:09:45.956824200Z",
     "start_time": "2024-03-06T07:09:45.858400Z"
    }
   }
  },
  {
   "cell_type": "code",
   "execution_count": 234,
   "outputs": [
    {
     "data": {
      "text/plain": "        subject_id     hadm_id   stay_id               intime  \\\n0         10000032  22595853.0  33258284  2180-05-06 19:17:00   \n1         10000032  22841357.0  38112554  2180-06-26 15:54:00   \n2         10000032  25742920.0  35968195  2180-08-05 20:58:00   \n3         10000032  29079034.0  32952584  2180-07-22 16:24:00   \n4         10000032  29079034.0  39399961  2180-07-23 05:54:00   \n...            ...         ...       ...                  ...   \n425082    19999784  26194817.0  35692999  2119-06-18 14:21:00   \n425083    19999828  25744818.0  32917002  2149-01-08 09:11:00   \n425084    19999828  29734428.0  30712109  2147-07-17 17:18:00   \n425085    19999914         NaN  32002659  2158-12-24 11:41:00   \n425086    19999987  23865745.0  34731548  2145-11-02 19:28:00   \n\n                    outtime gender   race arrival_transport disposition result  \n0       2180-05-06 23:30:00      F  White         AMBULANCE    ADMITTED    NaN  \n1       2180-06-26 21:31:00      F  White         AMBULANCE    ADMITTED    hos  \n2       2180-08-06 01:44:00      F  White         AMBULANCE    ADMITTED    hos  \n3       2180-07-23 05:54:00      F  White         AMBULANCE        HOME    NaN  \n4       2180-07-23 14:00:00      F  White         AMBULANCE    ADMITTED    icu  \n...                     ...    ...    ...               ...         ...    ...  \n425082  2119-06-18 21:09:29      M  Black           WALK IN    ADMITTED    hos  \n425083  2149-01-08 18:12:00      F  White         AMBULANCE    ADMITTED    icu  \n425084  2147-07-18 17:34:00      F  White           WALK IN    ADMITTED    NaN  \n425085  2158-12-24 11:56:00      F  Other             OTHER      ELOPED    NaN  \n425086  2145-11-02 22:59:00      F  Other         AMBULANCE    ADMITTED    icu  \n\n[425087 rows x 10 columns]",
      "text/html": "<div>\n<style scoped>\n    .dataframe tbody tr th:only-of-type {\n        vertical-align: middle;\n    }\n\n    .dataframe tbody tr th {\n        vertical-align: top;\n    }\n\n    .dataframe thead th {\n        text-align: right;\n    }\n</style>\n<table border=\"1\" class=\"dataframe\">\n  <thead>\n    <tr style=\"text-align: right;\">\n      <th></th>\n      <th>subject_id</th>\n      <th>hadm_id</th>\n      <th>stay_id</th>\n      <th>intime</th>\n      <th>outtime</th>\n      <th>gender</th>\n      <th>race</th>\n      <th>arrival_transport</th>\n      <th>disposition</th>\n      <th>result</th>\n    </tr>\n  </thead>\n  <tbody>\n    <tr>\n      <th>0</th>\n      <td>10000032</td>\n      <td>22595853.0</td>\n      <td>33258284</td>\n      <td>2180-05-06 19:17:00</td>\n      <td>2180-05-06 23:30:00</td>\n      <td>F</td>\n      <td>White</td>\n      <td>AMBULANCE</td>\n      <td>ADMITTED</td>\n      <td>NaN</td>\n    </tr>\n    <tr>\n      <th>1</th>\n      <td>10000032</td>\n      <td>22841357.0</td>\n      <td>38112554</td>\n      <td>2180-06-26 15:54:00</td>\n      <td>2180-06-26 21:31:00</td>\n      <td>F</td>\n      <td>White</td>\n      <td>AMBULANCE</td>\n      <td>ADMITTED</td>\n      <td>hos</td>\n    </tr>\n    <tr>\n      <th>2</th>\n      <td>10000032</td>\n      <td>25742920.0</td>\n      <td>35968195</td>\n      <td>2180-08-05 20:58:00</td>\n      <td>2180-08-06 01:44:00</td>\n      <td>F</td>\n      <td>White</td>\n      <td>AMBULANCE</td>\n      <td>ADMITTED</td>\n      <td>hos</td>\n    </tr>\n    <tr>\n      <th>3</th>\n      <td>10000032</td>\n      <td>29079034.0</td>\n      <td>32952584</td>\n      <td>2180-07-22 16:24:00</td>\n      <td>2180-07-23 05:54:00</td>\n      <td>F</td>\n      <td>White</td>\n      <td>AMBULANCE</td>\n      <td>HOME</td>\n      <td>NaN</td>\n    </tr>\n    <tr>\n      <th>4</th>\n      <td>10000032</td>\n      <td>29079034.0</td>\n      <td>39399961</td>\n      <td>2180-07-23 05:54:00</td>\n      <td>2180-07-23 14:00:00</td>\n      <td>F</td>\n      <td>White</td>\n      <td>AMBULANCE</td>\n      <td>ADMITTED</td>\n      <td>icu</td>\n    </tr>\n    <tr>\n      <th>...</th>\n      <td>...</td>\n      <td>...</td>\n      <td>...</td>\n      <td>...</td>\n      <td>...</td>\n      <td>...</td>\n      <td>...</td>\n      <td>...</td>\n      <td>...</td>\n      <td>...</td>\n    </tr>\n    <tr>\n      <th>425082</th>\n      <td>19999784</td>\n      <td>26194817.0</td>\n      <td>35692999</td>\n      <td>2119-06-18 14:21:00</td>\n      <td>2119-06-18 21:09:29</td>\n      <td>M</td>\n      <td>Black</td>\n      <td>WALK IN</td>\n      <td>ADMITTED</td>\n      <td>hos</td>\n    </tr>\n    <tr>\n      <th>425083</th>\n      <td>19999828</td>\n      <td>25744818.0</td>\n      <td>32917002</td>\n      <td>2149-01-08 09:11:00</td>\n      <td>2149-01-08 18:12:00</td>\n      <td>F</td>\n      <td>White</td>\n      <td>AMBULANCE</td>\n      <td>ADMITTED</td>\n      <td>icu</td>\n    </tr>\n    <tr>\n      <th>425084</th>\n      <td>19999828</td>\n      <td>29734428.0</td>\n      <td>30712109</td>\n      <td>2147-07-17 17:18:00</td>\n      <td>2147-07-18 17:34:00</td>\n      <td>F</td>\n      <td>White</td>\n      <td>WALK IN</td>\n      <td>ADMITTED</td>\n      <td>NaN</td>\n    </tr>\n    <tr>\n      <th>425085</th>\n      <td>19999914</td>\n      <td>NaN</td>\n      <td>32002659</td>\n      <td>2158-12-24 11:41:00</td>\n      <td>2158-12-24 11:56:00</td>\n      <td>F</td>\n      <td>Other</td>\n      <td>OTHER</td>\n      <td>ELOPED</td>\n      <td>NaN</td>\n    </tr>\n    <tr>\n      <th>425086</th>\n      <td>19999987</td>\n      <td>23865745.0</td>\n      <td>34731548</td>\n      <td>2145-11-02 19:28:00</td>\n      <td>2145-11-02 22:59:00</td>\n      <td>F</td>\n      <td>Other</td>\n      <td>AMBULANCE</td>\n      <td>ADMITTED</td>\n      <td>icu</td>\n    </tr>\n  </tbody>\n</table>\n<p>425087 rows × 10 columns</p>\n</div>"
     },
     "execution_count": 234,
     "metadata": {},
     "output_type": "execute_result"
    }
   ],
   "source": [
    "ed[ed['result'].isin()]"
   ],
   "metadata": {
    "collapsed": false,
    "ExecuteTime": {
     "end_time": "2024-03-06T07:09:59.582266700Z",
     "start_time": "2024-03-06T07:09:59.551856800Z"
    }
   }
  },
  {
   "cell_type": "code",
   "execution_count": 217,
   "outputs": [
    {
     "data": {
      "text/plain": "Index(['ed', 'hos', 'icu', 'ed_dead'], dtype='object')"
     },
     "execution_count": 217,
     "metadata": {},
     "output_type": "execute_result"
    }
   ],
   "source": [
    "ed['result'].value_counts().index"
   ],
   "metadata": {
    "collapsed": false,
    "ExecuteTime": {
     "end_time": "2024-03-06T07:04:56.471356500Z",
     "start_time": "2024-03-06T07:04:56.447851500Z"
    }
   }
  },
  {
   "cell_type": "code",
   "execution_count": 218,
   "outputs": [
    {
     "data": {
      "text/plain": "1450      30308539\n1680      34547687\n1692      39740841\n2550      33768159\n3243      35630864\n            ...   \n421422    30970126\n421989    37942091\n422256    39780645\n424849    37776073\n425040    32846388\nName: stay_id, Length: 377, dtype: int64"
     },
     "execution_count": 218,
     "metadata": {},
     "output_type": "execute_result"
    }
   ],
   "source": [
    "ed[ed['disposition']=='EXPIRED']['stay_id']"
   ],
   "metadata": {
    "collapsed": false,
    "ExecuteTime": {
     "end_time": "2024-03-06T07:04:58.638574100Z",
     "start_time": "2024-03-06T07:04:58.624289700Z"
    }
   }
  },
  {
   "cell_type": "code",
   "execution_count": 219,
   "outputs": [
    {
     "data": {
      "text/plain": "        subject_id     hadm_id   stay_id               intime  \\\n0         10000032  22595853.0  33258284  2180-05-06 19:17:00   \n1         10000032  22841357.0  38112554  2180-06-26 15:54:00   \n2         10000032  25742920.0  35968195  2180-08-05 20:58:00   \n3         10000032  29079034.0  32952584  2180-07-22 16:24:00   \n4         10000032  29079034.0  39399961  2180-07-23 05:54:00   \n...            ...         ...       ...                  ...   \n425082    19999784  26194817.0  35692999  2119-06-18 14:21:00   \n425083    19999828  25744818.0  32917002  2149-01-08 09:11:00   \n425084    19999828  29734428.0  30712109  2147-07-17 17:18:00   \n425085    19999914         NaN  32002659  2158-12-24 11:41:00   \n425086    19999987  23865745.0  34731548  2145-11-02 19:28:00   \n\n                    outtime gender   race arrival_transport disposition result  \n0       2180-05-06 23:30:00      F  White         AMBULANCE    ADMITTED    NaN  \n1       2180-06-26 21:31:00      F  White         AMBULANCE    ADMITTED    hos  \n2       2180-08-06 01:44:00      F  White         AMBULANCE    ADMITTED    hos  \n3       2180-07-23 05:54:00      F  White         AMBULANCE        HOME    NaN  \n4       2180-07-23 14:00:00      F  White         AMBULANCE    ADMITTED    icu  \n...                     ...    ...    ...               ...         ...    ...  \n425082  2119-06-18 21:09:29      M  Black           WALK IN    ADMITTED    hos  \n425083  2149-01-08 18:12:00      F  White         AMBULANCE    ADMITTED    icu  \n425084  2147-07-18 17:34:00      F  White           WALK IN    ADMITTED    NaN  \n425085  2158-12-24 11:56:00      F  Other             OTHER      ELOPED    NaN  \n425086  2145-11-02 22:59:00      F  Other         AMBULANCE    ADMITTED    icu  \n\n[425087 rows x 10 columns]",
      "text/html": "<div>\n<style scoped>\n    .dataframe tbody tr th:only-of-type {\n        vertical-align: middle;\n    }\n\n    .dataframe tbody tr th {\n        vertical-align: top;\n    }\n\n    .dataframe thead th {\n        text-align: right;\n    }\n</style>\n<table border=\"1\" class=\"dataframe\">\n  <thead>\n    <tr style=\"text-align: right;\">\n      <th></th>\n      <th>subject_id</th>\n      <th>hadm_id</th>\n      <th>stay_id</th>\n      <th>intime</th>\n      <th>outtime</th>\n      <th>gender</th>\n      <th>race</th>\n      <th>arrival_transport</th>\n      <th>disposition</th>\n      <th>result</th>\n    </tr>\n  </thead>\n  <tbody>\n    <tr>\n      <th>0</th>\n      <td>10000032</td>\n      <td>22595853.0</td>\n      <td>33258284</td>\n      <td>2180-05-06 19:17:00</td>\n      <td>2180-05-06 23:30:00</td>\n      <td>F</td>\n      <td>White</td>\n      <td>AMBULANCE</td>\n      <td>ADMITTED</td>\n      <td>NaN</td>\n    </tr>\n    <tr>\n      <th>1</th>\n      <td>10000032</td>\n      <td>22841357.0</td>\n      <td>38112554</td>\n      <td>2180-06-26 15:54:00</td>\n      <td>2180-06-26 21:31:00</td>\n      <td>F</td>\n      <td>White</td>\n      <td>AMBULANCE</td>\n      <td>ADMITTED</td>\n      <td>hos</td>\n    </tr>\n    <tr>\n      <th>2</th>\n      <td>10000032</td>\n      <td>25742920.0</td>\n      <td>35968195</td>\n      <td>2180-08-05 20:58:00</td>\n      <td>2180-08-06 01:44:00</td>\n      <td>F</td>\n      <td>White</td>\n      <td>AMBULANCE</td>\n      <td>ADMITTED</td>\n      <td>hos</td>\n    </tr>\n    <tr>\n      <th>3</th>\n      <td>10000032</td>\n      <td>29079034.0</td>\n      <td>32952584</td>\n      <td>2180-07-22 16:24:00</td>\n      <td>2180-07-23 05:54:00</td>\n      <td>F</td>\n      <td>White</td>\n      <td>AMBULANCE</td>\n      <td>HOME</td>\n      <td>NaN</td>\n    </tr>\n    <tr>\n      <th>4</th>\n      <td>10000032</td>\n      <td>29079034.0</td>\n      <td>39399961</td>\n      <td>2180-07-23 05:54:00</td>\n      <td>2180-07-23 14:00:00</td>\n      <td>F</td>\n      <td>White</td>\n      <td>AMBULANCE</td>\n      <td>ADMITTED</td>\n      <td>icu</td>\n    </tr>\n    <tr>\n      <th>...</th>\n      <td>...</td>\n      <td>...</td>\n      <td>...</td>\n      <td>...</td>\n      <td>...</td>\n      <td>...</td>\n      <td>...</td>\n      <td>...</td>\n      <td>...</td>\n      <td>...</td>\n    </tr>\n    <tr>\n      <th>425082</th>\n      <td>19999784</td>\n      <td>26194817.0</td>\n      <td>35692999</td>\n      <td>2119-06-18 14:21:00</td>\n      <td>2119-06-18 21:09:29</td>\n      <td>M</td>\n      <td>Black</td>\n      <td>WALK IN</td>\n      <td>ADMITTED</td>\n      <td>hos</td>\n    </tr>\n    <tr>\n      <th>425083</th>\n      <td>19999828</td>\n      <td>25744818.0</td>\n      <td>32917002</td>\n      <td>2149-01-08 09:11:00</td>\n      <td>2149-01-08 18:12:00</td>\n      <td>F</td>\n      <td>White</td>\n      <td>AMBULANCE</td>\n      <td>ADMITTED</td>\n      <td>icu</td>\n    </tr>\n    <tr>\n      <th>425084</th>\n      <td>19999828</td>\n      <td>29734428.0</td>\n      <td>30712109</td>\n      <td>2147-07-17 17:18:00</td>\n      <td>2147-07-18 17:34:00</td>\n      <td>F</td>\n      <td>White</td>\n      <td>WALK IN</td>\n      <td>ADMITTED</td>\n      <td>NaN</td>\n    </tr>\n    <tr>\n      <th>425085</th>\n      <td>19999914</td>\n      <td>NaN</td>\n      <td>32002659</td>\n      <td>2158-12-24 11:41:00</td>\n      <td>2158-12-24 11:56:00</td>\n      <td>F</td>\n      <td>Other</td>\n      <td>OTHER</td>\n      <td>ELOPED</td>\n      <td>NaN</td>\n    </tr>\n    <tr>\n      <th>425086</th>\n      <td>19999987</td>\n      <td>23865745.0</td>\n      <td>34731548</td>\n      <td>2145-11-02 19:28:00</td>\n      <td>2145-11-02 22:59:00</td>\n      <td>F</td>\n      <td>Other</td>\n      <td>AMBULANCE</td>\n      <td>ADMITTED</td>\n      <td>icu</td>\n    </tr>\n  </tbody>\n</table>\n<p>425087 rows × 10 columns</p>\n</div>"
     },
     "execution_count": 219,
     "metadata": {},
     "output_type": "execute_result"
    }
   ],
   "source": [
    "ed"
   ],
   "metadata": {
    "collapsed": false,
    "ExecuteTime": {
     "end_time": "2024-03-06T07:04:59.732971500Z",
     "start_time": "2024-03-06T07:04:59.706661200Z"
    }
   }
  },
  {
   "cell_type": "code",
   "execution_count": 220,
   "outputs": [],
   "source": [
    "new_ed=ed[ed['result'].isin(ed['result'].value_counts().index)]"
   ],
   "metadata": {
    "collapsed": false,
    "ExecuteTime": {
     "end_time": "2024-03-06T07:05:05.102466Z",
     "start_time": "2024-03-06T07:05:05.046350300Z"
    }
   }
  },
  {
   "cell_type": "code",
   "execution_count": 180,
   "outputs": [],
   "source": [
    "#new_ed=ed[ed['result'] != 'NaN']"
   ],
   "metadata": {
    "collapsed": false,
    "ExecuteTime": {
     "end_time": "2024-03-06T06:57:54.306013800Z",
     "start_time": "2024-03-06T06:57:54.270087200Z"
    }
   }
  },
  {
   "cell_type": "code",
   "execution_count": 221,
   "outputs": [],
   "source": [
    "new_ed.reset_index(drop=True,inplace=True)"
   ],
   "metadata": {
    "collapsed": false,
    "ExecuteTime": {
     "end_time": "2024-03-06T07:05:08.794317400Z",
     "start_time": "2024-03-06T07:05:08.764715700Z"
    }
   }
  },
  {
   "cell_type": "code",
   "execution_count": 222,
   "outputs": [],
   "source": [
    "#new_ed.to_csv('new_edstays.csv', index=False)"
   ],
   "metadata": {
    "collapsed": false,
    "ExecuteTime": {
     "end_time": "2024-03-06T07:05:09.165208900Z",
     "start_time": "2024-03-06T07:05:09.131241600Z"
    }
   }
  },
  {
   "cell_type": "code",
   "execution_count": 223,
   "outputs": [
    {
     "data": {
      "text/plain": "        subject_id     hadm_id   stay_id               intime  \\\n0         10000032  22841357.0  38112554  2180-06-26 15:54:00   \n1         10000032  25742920.0  35968195  2180-08-05 20:58:00   \n2         10000032  29079034.0  39399961  2180-07-23 05:54:00   \n3         10000084  23052089.0  35203156  2160-11-20 20:36:00   \n4         10000108         NaN  32522732  2163-09-16 16:34:00   \n...            ...         ...       ...                  ...   \n341520    19999784  24935234.0  37972930  2119-07-09 17:38:00   \n341521    19999784  25715748.0  34149746  2119-08-11 09:15:00   \n341522    19999784  26194817.0  35692999  2119-06-18 14:21:00   \n341523    19999828  25744818.0  32917002  2149-01-08 09:11:00   \n341524    19999987  23865745.0  34731548  2145-11-02 19:28:00   \n\n                    outtime gender   race arrival_transport disposition result  \n0       2180-06-26 21:31:00      F  White         AMBULANCE    ADMITTED    hos  \n1       2180-08-06 01:44:00      F  White         AMBULANCE    ADMITTED    hos  \n2       2180-07-23 14:00:00      F  White         AMBULANCE    ADMITTED    icu  \n3       2160-11-21 03:20:00      M  White           WALK IN    ADMITTED    hos  \n4       2163-09-16 18:13:00      M  White           WALK IN        HOME     ed  \n...                     ...    ...    ...               ...         ...    ...  \n341520  2119-07-10 00:04:00      M  Black           WALK IN    ADMITTED    hos  \n341521  2119-08-11 13:40:00      M  Black           WALK IN    ADMITTED    hos  \n341522  2119-06-18 21:09:29      M  Black           WALK IN    ADMITTED    hos  \n341523  2149-01-08 18:12:00      F  White         AMBULANCE    ADMITTED    icu  \n341524  2145-11-02 22:59:00      F  Other         AMBULANCE    ADMITTED    icu  \n\n[341525 rows x 10 columns]",
      "text/html": "<div>\n<style scoped>\n    .dataframe tbody tr th:only-of-type {\n        vertical-align: middle;\n    }\n\n    .dataframe tbody tr th {\n        vertical-align: top;\n    }\n\n    .dataframe thead th {\n        text-align: right;\n    }\n</style>\n<table border=\"1\" class=\"dataframe\">\n  <thead>\n    <tr style=\"text-align: right;\">\n      <th></th>\n      <th>subject_id</th>\n      <th>hadm_id</th>\n      <th>stay_id</th>\n      <th>intime</th>\n      <th>outtime</th>\n      <th>gender</th>\n      <th>race</th>\n      <th>arrival_transport</th>\n      <th>disposition</th>\n      <th>result</th>\n    </tr>\n  </thead>\n  <tbody>\n    <tr>\n      <th>0</th>\n      <td>10000032</td>\n      <td>22841357.0</td>\n      <td>38112554</td>\n      <td>2180-06-26 15:54:00</td>\n      <td>2180-06-26 21:31:00</td>\n      <td>F</td>\n      <td>White</td>\n      <td>AMBULANCE</td>\n      <td>ADMITTED</td>\n      <td>hos</td>\n    </tr>\n    <tr>\n      <th>1</th>\n      <td>10000032</td>\n      <td>25742920.0</td>\n      <td>35968195</td>\n      <td>2180-08-05 20:58:00</td>\n      <td>2180-08-06 01:44:00</td>\n      <td>F</td>\n      <td>White</td>\n      <td>AMBULANCE</td>\n      <td>ADMITTED</td>\n      <td>hos</td>\n    </tr>\n    <tr>\n      <th>2</th>\n      <td>10000032</td>\n      <td>29079034.0</td>\n      <td>39399961</td>\n      <td>2180-07-23 05:54:00</td>\n      <td>2180-07-23 14:00:00</td>\n      <td>F</td>\n      <td>White</td>\n      <td>AMBULANCE</td>\n      <td>ADMITTED</td>\n      <td>icu</td>\n    </tr>\n    <tr>\n      <th>3</th>\n      <td>10000084</td>\n      <td>23052089.0</td>\n      <td>35203156</td>\n      <td>2160-11-20 20:36:00</td>\n      <td>2160-11-21 03:20:00</td>\n      <td>M</td>\n      <td>White</td>\n      <td>WALK IN</td>\n      <td>ADMITTED</td>\n      <td>hos</td>\n    </tr>\n    <tr>\n      <th>4</th>\n      <td>10000108</td>\n      <td>NaN</td>\n      <td>32522732</td>\n      <td>2163-09-16 16:34:00</td>\n      <td>2163-09-16 18:13:00</td>\n      <td>M</td>\n      <td>White</td>\n      <td>WALK IN</td>\n      <td>HOME</td>\n      <td>ed</td>\n    </tr>\n    <tr>\n      <th>...</th>\n      <td>...</td>\n      <td>...</td>\n      <td>...</td>\n      <td>...</td>\n      <td>...</td>\n      <td>...</td>\n      <td>...</td>\n      <td>...</td>\n      <td>...</td>\n      <td>...</td>\n    </tr>\n    <tr>\n      <th>341520</th>\n      <td>19999784</td>\n      <td>24935234.0</td>\n      <td>37972930</td>\n      <td>2119-07-09 17:38:00</td>\n      <td>2119-07-10 00:04:00</td>\n      <td>M</td>\n      <td>Black</td>\n      <td>WALK IN</td>\n      <td>ADMITTED</td>\n      <td>hos</td>\n    </tr>\n    <tr>\n      <th>341521</th>\n      <td>19999784</td>\n      <td>25715748.0</td>\n      <td>34149746</td>\n      <td>2119-08-11 09:15:00</td>\n      <td>2119-08-11 13:40:00</td>\n      <td>M</td>\n      <td>Black</td>\n      <td>WALK IN</td>\n      <td>ADMITTED</td>\n      <td>hos</td>\n    </tr>\n    <tr>\n      <th>341522</th>\n      <td>19999784</td>\n      <td>26194817.0</td>\n      <td>35692999</td>\n      <td>2119-06-18 14:21:00</td>\n      <td>2119-06-18 21:09:29</td>\n      <td>M</td>\n      <td>Black</td>\n      <td>WALK IN</td>\n      <td>ADMITTED</td>\n      <td>hos</td>\n    </tr>\n    <tr>\n      <th>341523</th>\n      <td>19999828</td>\n      <td>25744818.0</td>\n      <td>32917002</td>\n      <td>2149-01-08 09:11:00</td>\n      <td>2149-01-08 18:12:00</td>\n      <td>F</td>\n      <td>White</td>\n      <td>AMBULANCE</td>\n      <td>ADMITTED</td>\n      <td>icu</td>\n    </tr>\n    <tr>\n      <th>341524</th>\n      <td>19999987</td>\n      <td>23865745.0</td>\n      <td>34731548</td>\n      <td>2145-11-02 19:28:00</td>\n      <td>2145-11-02 22:59:00</td>\n      <td>F</td>\n      <td>Other</td>\n      <td>AMBULANCE</td>\n      <td>ADMITTED</td>\n      <td>icu</td>\n    </tr>\n  </tbody>\n</table>\n<p>341525 rows × 10 columns</p>\n</div>"
     },
     "execution_count": 223,
     "metadata": {},
     "output_type": "execute_result"
    }
   ],
   "source": [
    "new_ed"
   ],
   "metadata": {
    "collapsed": false,
    "ExecuteTime": {
     "end_time": "2024-03-06T07:05:09.604464800Z",
     "start_time": "2024-03-06T07:05:09.577919200Z"
    }
   }
  },
  {
   "cell_type": "code",
   "execution_count": 251,
   "outputs": [
    {
     "data": {
      "text/plain": "ed         205135\nhos        113218\nicu         22795\ned_dead       377\nName: result, dtype: int64"
     },
     "execution_count": 251,
     "metadata": {},
     "output_type": "execute_result"
    }
   ],
   "source": [
    "new_ed['result'].value_counts()"
   ],
   "metadata": {
    "collapsed": false,
    "ExecuteTime": {
     "end_time": "2024-03-06T07:21:49.821933900Z",
     "start_time": "2024-03-06T07:21:49.787373200Z"
    }
   }
  },
  {
   "cell_type": "code",
   "execution_count": 244,
   "outputs": [],
   "source": [
    "#new_ed.to_csv('new_edstays_240306.csv', index=False)"
   ],
   "metadata": {
    "collapsed": false,
    "ExecuteTime": {
     "end_time": "2024-03-06T07:16:56.151804700Z",
     "start_time": "2024-03-06T07:16:54.982766600Z"
    }
   }
  },
  {
   "cell_type": "code",
   "execution_count": 250,
   "outputs": [
    {
     "data": {
      "text/plain": "0    111758\n1      1460\nName: hospital_expire_flag, dtype: int64"
     },
     "execution_count": 250,
     "metadata": {},
     "output_type": "execute_result"
    }
   ],
   "source": [
    "hos[hos['hadm_id'].isin(hos_hadm)]['hospital_expire_flag']"
   ],
   "metadata": {
    "collapsed": false,
    "ExecuteTime": {
     "end_time": "2024-03-06T07:18:41.429465500Z",
     "start_time": "2024-03-06T07:18:41.377096300Z"
    }
   }
  },
  {
   "cell_type": "code",
   "execution_count": 254,
   "outputs": [
    {
     "data": {
      "text/plain": "set()"
     },
     "execution_count": 254,
     "metadata": {},
     "output_type": "execute_result"
    }
   ],
   "source": [
    "set(new_ed[new_ed['result']=='ed']['stay_id'])&set(new_ed[new_ed['result']=='hos']['stay_id'])&set(new_ed[new_ed['result']=='icu']['stay_id'])&set(new_ed[new_ed['result']=='ed_dead']['stay_id'])"
   ],
   "metadata": {
    "collapsed": false,
    "ExecuteTime": {
     "end_time": "2024-03-06T07:23:22.880518400Z",
     "start_time": "2024-03-06T07:23:22.748186700Z"
    }
   }
  },
  {
   "cell_type": "code",
   "execution_count": null,
   "outputs": [],
   "source": [],
   "metadata": {
    "collapsed": false
   }
  }
 ],
 "metadata": {
  "kernelspec": {
   "display_name": "base",
   "language": "python",
   "name": "python3"
  },
  "language_info": {
   "codemirror_mode": {
    "name": "ipython",
    "version": 3
   },
   "file_extension": ".py",
   "mimetype": "text/x-python",
   "name": "python",
   "nbconvert_exporter": "python",
   "pygments_lexer": "ipython3",
   "version": "3.11.4"
  },
  "orig_nbformat": 4
 },
 "nbformat": 4,
 "nbformat_minor": 2
}
